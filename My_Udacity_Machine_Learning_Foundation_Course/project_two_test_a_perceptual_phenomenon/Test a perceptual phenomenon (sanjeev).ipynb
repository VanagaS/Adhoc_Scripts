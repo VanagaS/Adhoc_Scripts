{
 "cells": [
  {
   "cell_type": "code",
   "execution_count": 38,
   "metadata": {},
   "outputs": [],
   "source": [
    "import math\n",
    "import pandas as pd\n",
    "import numpy as np\n",
    "from math import *\n",
    "\n",
    "data = pd.read_csv('./stroopdata.csv')\n"
   ]
  },
  {
   "cell_type": "code",
   "execution_count": 19,
   "metadata": {},
   "outputs": [
    {
     "name": "stdout",
     "output_type": "stream",
     "text": [
      "24\n"
     ]
    }
   ],
   "source": [
    "# Sample size\n",
    "sample_size = len(data)\n",
    "print(sample_size)"
   ]
  },
  {
   "cell_type": "code",
   "execution_count": 24,
   "metadata": {},
   "outputs": [
    {
     "name": "stdout",
     "output_type": "stream",
     "text": [
      "14.05\n",
      "22.02\n"
     ]
    }
   ],
   "source": [
    "congruent_mean = data['Congruent'].mean()\n",
    "incongruent_mean = data['Incongruent'].mean()\n",
    "print(round(congruent_mean,2))\n",
    "print(round(incongruent_mean,2))"
   ]
  },
  {
   "cell_type": "code",
   "execution_count": 25,
   "metadata": {},
   "outputs": [
    {
     "name": "stdout",
     "output_type": "stream",
     "text": [
      "7.96\n"
     ]
    }
   ],
   "source": [
    "# PE: point estimate (in seconds)\n",
    "point_estimate = incongruent_mean - congruent_mean\n",
    "print(round(point_estimate,2))"
   ]
  },
  {
   "cell_type": "code",
   "execution_count": 30,
   "metadata": {},
   "outputs": [
    {
     "name": "stdout",
     "output_type": "stream",
     "text": [
      "0     7.199\n",
      "      ...  \n",
      "23    5.153\n",
      "Name: sample_difference, Length: 24, dtype: float64\n"
     ]
    }
   ],
   "source": [
    "# Sample difference\n",
    "data['sample_difference'] = data['Incongruent'] - data['Congruent']\n",
    "\n",
    "# display first and last rows\n",
    "pd.set_option('display.max_rows', 2)\n",
    "print(data['sample_difference'])"
   ]
  },
  {
   "cell_type": "code",
   "execution_count": 31,
   "metadata": {},
   "outputs": [
    {
     "name": "stdout",
     "output_type": "stream",
     "text": [
      "0     0.586437\n",
      "        ...   \n",
      "23    7.906172\n",
      "Name: squared_differences, Length: 24, dtype: float64\n"
     ]
    }
   ],
   "source": [
    "# Squared differences from mean\n",
    "differences_from_mean = data['sample_difference'] - data['sample_difference'].mean()\n",
    "data['squared_differences'] = differences_from_mean**2\n",
    "\n",
    "# display first and last rows\n",
    "print(data['squared_differences'])"
   ]
  },
  {
   "cell_type": "code",
   "execution_count": 33,
   "metadata": {},
   "outputs": [
    {
     "name": "stdout",
     "output_type": "stream",
     "text": [
      "544.33\n"
     ]
    }
   ],
   "source": [
    "# Sum of squared differences\n",
    "sum_squared_differences = data['squared_differences'].sum()\n",
    "print(round(sum_squared_differences, 2))"
   ]
  },
  {
   "cell_type": "code",
   "execution_count": 35,
   "metadata": {},
   "outputs": [
    {
     "name": "stdout",
     "output_type": "stream",
     "text": [
      "23.67\n"
     ]
    }
   ],
   "source": [
    "# Variance (sample in population)\n",
    "variance = sum_squared_differences/(sample_size -1)\n",
    "print(round(variance, 2))"
   ]
  },
  {
   "cell_type": "code",
   "execution_count": 40,
   "metadata": {},
   "outputs": [
    {
     "name": "stdout",
     "output_type": "stream",
     "text": [
      "4.86\n"
     ]
    }
   ],
   "source": [
    "# Sample standard deviation of differences\n",
    "sample_standard_deviation = sqrt(variance)\n",
    "print(round(sample_standard_deviation, 2))"
   ]
  },
  {
   "cell_type": "code",
   "execution_count": 42,
   "metadata": {},
   "outputs": [
    {
     "name": "stdout",
     "output_type": "stream",
     "text": [
      "8.02\n"
     ]
    }
   ],
   "source": [
    "# t-statistic = PE/(sd/√n)\n",
    "t_statistic = point_estimate /(sample_standard_deviation / sqrt(sample_size))\n",
    "print(round(t_statistic,2))"
   ]
  },
  {
   "cell_type": "code",
   "execution_count": null,
   "metadata": {},
   "outputs": [],
   "source": []
  }
 ],
 "metadata": {
  "kernelspec": {
   "display_name": "Python 3",
   "language": "python",
   "name": "python3"
  },
  "language_info": {
   "codemirror_mode": {
    "name": "ipython",
    "version": 3
   },
   "file_extension": ".py",
   "mimetype": "text/x-python",
   "name": "python",
   "nbconvert_exporter": "python",
   "pygments_lexer": "ipython3",
   "version": "3.7.0"
  }
 },
 "nbformat": 4,
 "nbformat_minor": 2
}
