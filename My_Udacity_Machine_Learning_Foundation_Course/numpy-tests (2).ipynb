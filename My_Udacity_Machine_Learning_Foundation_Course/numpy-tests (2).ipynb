{
 "cells": [
  {
   "cell_type": "code",
   "execution_count": 1,
   "metadata": {},
   "outputs": [
    {
     "name": "stdout",
     "output_type": "stream",
     "text": [
      "[1 2 3]\n"
     ]
    }
   ],
   "source": [
    "import numpy as np\n",
    "\n",
    "x = np.array([1, 2, 3])\n",
    "print(x)\n"
   ]
  },
  {
   "cell_type": "code",
   "execution_count": 2,
   "metadata": {},
   "outputs": [
    {
     "name": "stdout",
     "output_type": "stream",
     "text": [
      "[1 2 3] (3,) 3\n"
     ]
    }
   ],
   "source": [
    "print(x, x.shape, x.size)"
   ]
  },
  {
   "cell_type": "code",
   "execution_count": 6,
   "metadata": {
    "scrolled": true
   },
   "outputs": [
    {
     "name": "stdout",
     "output_type": "stream",
     "text": [
      "shape:  (3, 3)\n",
      "size:  9\n",
      "type:  int32\n",
      "[[1 2 3]\n",
      " [1 3 4]\n",
      " [1 5 6]]\n"
     ]
    }
   ],
   "source": [
    "y = np.array([[1, 2, 3], [1, 3, 4], [1, 5, 6]])\n",
    "print(\"shape: \", y.shape)\n",
    "print(\"size: \", y.size)\n",
    "print(\"type: \", y.dtype)\n",
    "print(y)"
   ]
  },
  {
   "cell_type": "code",
   "execution_count": 19,
   "metadata": {},
   "outputs": [
    {
     "name": "stdout",
     "output_type": "stream",
     "text": [
      "shape:  (2, 2, 2)\n",
      "size:  8\n",
      "dtype:  int64\n",
      "type:  <class 'numpy.ndarray'>\n",
      "[[[1 2]\n",
      "  [1 2]]\n",
      "\n",
      " [[1 2]\n",
      "  [2 5]]]\n"
     ]
    }
   ],
   "source": [
    "y = np.array([[[1,2], [1,2.3]], [[1,2], [2,5]]], dtype=\"int64\")\n",
    "print(\"shape: \", y.shape)\n",
    "print(\"size: \", y.size)\n",
    "print(\"dtype: \", y.dtype)\n",
    "print(\"type: \", type(y))\n",
    "print(y)"
   ]
  },
  {
   "cell_type": "code",
   "execution_count": 22,
   "metadata": {},
   "outputs": [
    {
     "name": "stdout",
     "output_type": "stream",
     "text": [
      "[[0 0 0]\n",
      " [0 0 0]]\n"
     ]
    }
   ],
   "source": [
    "z = np.zeros([2,3], dtype=\"int64\")\n",
    "print(z)"
   ]
  },
  {
   "cell_type": "code",
   "execution_count": 26,
   "metadata": {},
   "outputs": [
    {
     "name": "stdout",
     "output_type": "stream",
     "text": [
      "[[1. 0. 0. 0. 0.]\n",
      " [0. 1. 0. 0. 0.]\n",
      " [0. 0. 1. 0. 0.]\n",
      " [0. 0. 0. 1. 0.]\n",
      " [0. 0. 0. 0. 1.]]\n"
     ]
    }
   ],
   "source": [
    "z = np.eye(5, dtype=\"float\")\n",
    "print(z)"
   ]
  },
  {
   "cell_type": "code",
   "execution_count": 30,
   "metadata": {},
   "outputs": [
    {
     "name": "stdout",
     "output_type": "stream",
     "text": [
      "[[10  0  0]\n",
      " [ 0 20  0]\n",
      " [ 0  0 30]]\n"
     ]
    }
   ],
   "source": [
    "z = np.diag([10, 20, 30])\n",
    "print(z)"
   ]
  },
  {
   "cell_type": "code",
   "execution_count": 31,
   "metadata": {},
   "outputs": [
    {
     "name": "stdout",
     "output_type": "stream",
     "text": [
      "[[5 5 5 5 5]\n",
      " [5 5 5 5 5]\n",
      " [5 5 5 5 5]\n",
      " [5 5 5 5 5]\n",
      " [5 5 5 5 5]]\n"
     ]
    }
   ],
   "source": [
    "z = np.full([5,5], 5)\n",
    "print(z)"
   ]
  },
  {
   "cell_type": "code",
   "execution_count": 33,
   "metadata": {},
   "outputs": [
    {
     "name": "stdout",
     "output_type": "stream",
     "text": [
      "[[1. 1. 1.]\n",
      " [1. 1. 1.]]\n"
     ]
    }
   ],
   "source": [
    "z = np.ones((2,3))\n",
    "print(z)"
   ]
  },
  {
   "cell_type": "code",
   "execution_count": 34,
   "metadata": {},
   "outputs": [
    {
     "name": "stdout",
     "output_type": "stream",
     "text": [
      "[0 1 2 3 4 5 6 7 8 9]\n"
     ]
    }
   ],
   "source": [
    "a = np.arange(10)\n",
    "print(a)"
   ]
  },
  {
   "cell_type": "code",
   "execution_count": 35,
   "metadata": {},
   "outputs": [
    {
     "name": "stdout",
     "output_type": "stream",
     "text": [
      "[2 3 4 5 6 7 8 9]\n"
     ]
    }
   ],
   "source": [
    "a = np.arange(2, 10)\n",
    "print(a)"
   ]
  },
  {
   "cell_type": "code",
   "execution_count": 37,
   "metadata": {},
   "outputs": [
    {
     "name": "stdout",
     "output_type": "stream",
     "text": [
      "[2.   4.35 6.7  9.05]\n"
     ]
    }
   ],
   "source": [
    "a = np.arange(2, 10, 2.35)\n",
    "print(a)"
   ]
  },
  {
   "cell_type": "code",
   "execution_count": 38,
   "metadata": {},
   "outputs": [
    {
     "name": "stdout",
     "output_type": "stream",
     "text": [
      "[2.]\n"
     ]
    }
   ],
   "source": [
    "a = np.arange(2, 3, 2.35)\n",
    "print(a)"
   ]
  },
  {
   "cell_type": "code",
   "execution_count": 39,
   "metadata": {},
   "outputs": [
    {
     "name": "stdout",
     "output_type": "stream",
     "text": [
      "[]\n"
     ]
    }
   ],
   "source": [
    "a = np.arange(2, 2, 2.35)\n",
    "print(a)"
   ]
  },
  {
   "cell_type": "code",
   "execution_count": 43,
   "metadata": {},
   "outputs": [
    {
     "name": "stdout",
     "output_type": "stream",
     "text": [
      "[[ 2  4  6]\n",
      " [ 8 10 12]]\n"
     ]
    }
   ],
   "source": [
    "a = np.arange(2, 14, 2).reshape(2,3)\n",
    "print(a)"
   ]
  },
  {
   "cell_type": "code",
   "execution_count": 46,
   "metadata": {},
   "outputs": [
    {
     "name": "stdout",
     "output_type": "stream",
     "text": [
      "[[ 2.   4.2  6.4]\n",
      " [ 8.6 10.8 13. ]]\n"
     ]
    }
   ],
   "source": [
    "a = np.arange(2, 14, 2.2).reshape(2,3)\n",
    "print(a)"
   ]
  },
  {
   "cell_type": "code",
   "execution_count": 48,
   "metadata": {},
   "outputs": [
    {
     "name": "stdout",
     "output_type": "stream",
     "text": [
      "[ 2.   3.6  5.2  6.8  8.4 10. ]\n"
     ]
    }
   ],
   "source": [
    "a = np.linspace(2, 10, 6)\n",
    "print(a)"
   ]
  },
  {
   "cell_type": "code",
   "execution_count": 49,
   "metadata": {},
   "outputs": [
    {
     "name": "stdout",
     "output_type": "stream",
     "text": [
      "[ 2.          2.53333333  3.06666667  3.6         4.13333333  4.66666667\n",
      "  5.2         5.73333333  6.26666667  6.8         7.33333333  7.86666667\n",
      "  8.4         8.93333333  9.46666667 10.        ]\n"
     ]
    }
   ],
   "source": [
    "a = np.linspace(2, 10, 16)\n",
    "print(a)"
   ]
  },
  {
   "cell_type": "code",
   "execution_count": 53,
   "metadata": {},
   "outputs": [
    {
     "name": "stdout",
     "output_type": "stream",
     "text": [
      "[[ 2.          2.53333333  3.06666667  3.6       ]\n",
      " [ 4.13333333  4.66666667  5.2         5.73333333]\n",
      " [ 6.26666667  6.8         7.33333333  7.86666667]\n",
      " [ 8.4         8.93333333  9.46666667 10.        ]]\n"
     ]
    }
   ],
   "source": [
    "a = np.linspace(2, 10, 16).reshape(4,4)\n",
    "print(a)"
   ]
  },
  {
   "cell_type": "code",
   "execution_count": 54,
   "metadata": {},
   "outputs": [
    {
     "name": "stdout",
     "output_type": "stream",
     "text": [
      "[2.  2.5 3.  3.5 4.  4.5 5.  5.5 6.  6.5 7.  7.5 8.  8.5 9.  9.5]\n"
     ]
    }
   ],
   "source": [
    "a = np.linspace(2, 10, 16, endpoint=False)\n",
    "print(a)"
   ]
  },
  {
   "cell_type": "code",
   "execution_count": 55,
   "metadata": {},
   "outputs": [
    {
     "name": "stdout",
     "output_type": "stream",
     "text": [
      "[[2.  2.5 3.  3.5]\n",
      " [4.  4.5 5.  5.5]\n",
      " [6.  6.5 7.  7.5]\n",
      " [8.  8.5 9.  9.5]]\n"
     ]
    }
   ],
   "source": [
    "a = np.linspace(2, 10, 16, endpoint=False).reshape(4,4)\n",
    "print(a)"
   ]
  },
  {
   "cell_type": "code",
   "execution_count": 58,
   "metadata": {},
   "outputs": [
    {
     "name": "stdout",
     "output_type": "stream",
     "text": [
      "[-0.00358984  0.00930595 -0.00290926]\n",
      "shape:  (3,)\n",
      "mean:  0.0009356206522800913\n",
      "max:  0.009305952620101718\n",
      "min:  -0.0035898350598861433\n",
      "dtype:  float64\n",
      "type:  <class 'numpy.ndarray'>\n"
     ]
    }
   ],
   "source": [
    "a = np.random.normal(0, 0.01, 3)\n",
    "print(a)\n",
    "print(\"shape: \", a.shape)\n",
    "print(\"mean: \", a.mean())\n",
    "print(\"max: \", a.max())\n",
    "print(\"min: \", a.min())\n",
    "print(\"dtype: \", a.dtype)\n",
    "print(\"type: \", type(a))"
   ]
  },
  {
   "cell_type": "code",
   "execution_count": 59,
   "metadata": {},
   "outputs": [
    {
     "name": "stdout",
     "output_type": "stream",
     "text": [
      "[[ 0.01087158  0.00827602 -0.00123448]\n",
      " [-0.00298055 -0.00151317 -0.00214627]\n",
      " [-0.02567285 -0.01555921  0.01392291]]\n",
      "shape:  (3, 3)\n",
      "mean:  -0.001781779949149209\n",
      "max:  0.013922908118189577\n",
      "min:  -0.025672851056202328\n",
      "dtype:  float64\n",
      "type:  <class 'numpy.ndarray'>\n"
     ]
    }
   ],
   "source": [
    "a = np.random.normal(0, 0.01, size=(3,3))\n",
    "print(a)\n",
    "print(\"shape: \", a.shape)\n",
    "print(\"mean: \", a.mean())\n",
    "print(\"max: \", a.max())\n",
    "print(\"min: \", a.min())\n",
    "print(\"dtype: \", a.dtype)\n",
    "print(\"type: \", type(a))"
   ]
  },
  {
   "cell_type": "code",
   "execution_count": 63,
   "metadata": {},
   "outputs": [
    {
     "name": "stdout",
     "output_type": "stream",
     "text": [
      "[[-1.14315824  0.79093614  0.77751749]\n",
      " [ 0.72364947  0.76003215 -0.77229194]\n",
      " [-0.35257984 -0.42001715  1.25802899]]\n",
      "shape:  (3, 3)\n",
      "mean:  0.18023522856256502\n",
      "max:  1.2580289892982963\n",
      "min:  -1.1431582376387595\n",
      "dtype:  float64\n",
      "type:  <class 'numpy.ndarray'>\n"
     ]
    }
   ],
   "source": [
    "a = np.random.normal(0, 1, size=(3,3))\n",
    "print(a)\n",
    "print(\"shape: \", a.shape)\n",
    "print(\"mean: \", a.mean())\n",
    "print(\"max: \", a.max())\n",
    "print(\"min: \", a.min())\n",
    "print(\"dtype: \", a.dtype)\n",
    "print(\"type: \", type(a))"
   ]
  },
  {
   "cell_type": "code",
   "execution_count": 64,
   "metadata": {},
   "outputs": [
    {
     "name": "stdout",
     "output_type": "stream",
     "text": [
      "[0 1 2 3 4]\n",
      "0\n",
      "2\n"
     ]
    }
   ],
   "source": [
    "a = np.arange(5)\n",
    "print(a)\n",
    "print(a[0])\n",
    "print(a[-3])"
   ]
  },
  {
   "cell_type": "code",
   "execution_count": 45,
   "metadata": {},
   "outputs": [
    {
     "name": "stdout",
     "output_type": "stream",
     "text": [
      "[[0 1 2]\n",
      " [3 4 5]] \n",
      "\n",
      "[0 1 2] \n",
      "\n",
      "[0 1 2] \n",
      "\n",
      "0 \n",
      "\n",
      "5 \n",
      "\n"
     ]
    }
   ],
   "source": [
    "a = np.arange(6).reshape(2,3)\n",
    "print(a,\"\\n\")\n",
    "print(a[0], \"\\n\")\n",
    "print(a[-2], \"\\n\")\n",
    "print(a[0,0], \"\\n\")\n",
    "print(a[1,2], \"\\n\")"
   ]
  },
  {
   "cell_type": "code",
   "execution_count": 46,
   "metadata": {},
   "outputs": [
    {
     "name": "stdout",
     "output_type": "stream",
     "text": [
      "[[0 1 2]\n",
      " [3 4 5]] \n",
      "\n",
      "[[5 5 5]\n",
      " [3 4 5]]\n"
     ]
    }
   ],
   "source": [
    "a = np.arange(6).reshape(2,3)\n",
    "print(a,\"\\n\")\n",
    "\n",
    "a[0] = 5\n",
    "print(a)"
   ]
  },
  {
   "cell_type": "code",
   "execution_count": 49,
   "metadata": {},
   "outputs": [
    {
     "name": "stdout",
     "output_type": "stream",
     "text": [
      "[[ 0  1  2  3  4]\n",
      " [ 5  6  7  8  9]\n",
      " [10 11 12 13 14]\n",
      " [15 16 17 18 19]\n",
      " [20 21 22 23 24]] \n",
      "\n",
      "[[ 5  5  5  5  5]\n",
      " [ 5  6  7  8  9]\n",
      " [10 11 12 13 14]\n",
      " [15 16 17 18 19]\n",
      " [20 21 22 23 24]] \n",
      "\n",
      "[[ 5  9  5  5  5]\n",
      " [ 5  6  7  8  9]\n",
      " [10 11 12 13 14]\n",
      " [15 16 17 18 19]\n",
      " [20 21 22 23 24]] \n",
      "\n"
     ]
    }
   ],
   "source": [
    "a = np.arange(25).reshape(5,5)\n",
    "print(a,\"\\n\")\n",
    "a[0] = 5\n",
    "print(a,\"\\n\")\n",
    "a[0,1] = 9\n",
    "print(a,\"\\n\")"
   ]
  },
  {
   "cell_type": "code",
   "execution_count": 48,
   "metadata": {},
   "outputs": [
    {
     "name": "stdout",
     "output_type": "stream",
     "text": [
      "[[ 0  1  2  3  4]\n",
      " [ 5  6  7  8  9]\n",
      " [10 11 12 13 14]\n",
      " [15 16 17 18 19]\n",
      " [20 21 22 23 24]] \n",
      "\n",
      "[[ 0  1  2  3  4]\n",
      " [ 5  6  7  8  9]\n",
      " [10 11 12 13 14]\n",
      " [15 16 17 18 19]\n",
      " [20 21 22 23 24]\n",
      " [ 2  2  2  2  2]] \n",
      "\n",
      "[[ 0  1  2  3  4  3]\n",
      " [ 5  6  7  8  9  3]\n",
      " [10 11 12 13 14  3]\n",
      " [15 16 17 18 19  3]\n",
      " [20 21 22 23 24  3]] \n",
      "\n"
     ]
    }
   ],
   "source": [
    "a = np.arange(25).reshape(5,5)\n",
    "print(a,\"\\n\")\n",
    "b = np.append(a, [[2, 2, 2, 2, 2]], axis=0)\n",
    "print(b,\"\\n\")\n",
    "b = np.append(a, [[3],[3],[3],[3],[3]], axis=1)\n",
    "print(b,\"\\n\")"
   ]
  },
  {
   "cell_type": "code",
   "execution_count": 50,
   "metadata": {},
   "outputs": [
    {
     "name": "stdout",
     "output_type": "stream",
     "text": [
      "[[ 0  1  2  3  4]\n",
      " [ 5  6  7  8  9]\n",
      " [10 11 12 13 14]\n",
      " [15 16 17 18 19]\n",
      " [20 21 22 23 24]] \n",
      "\n",
      "[ 2  3  4  5  6  7  8  9 10 11 12 13 14 15 16 17 18 19 20 21 22 23 24] \n",
      "\n",
      "[ 1  2  3  4  5  6  7  8  9 10 11 12 13 14 15 16 17 18 19 20 21 22 23 24] \n",
      "\n",
      "[[ 5  6  7  8  9]\n",
      " [10 11 12 13 14]\n",
      " [15 16 17 18 19]\n",
      " [20 21 22 23 24]] \n",
      "\n",
      "[[ 1  2  3  4]\n",
      " [ 6  7  8  9]\n",
      " [11 12 13 14]\n",
      " [16 17 18 19]\n",
      " [21 22 23 24]] \n",
      "\n",
      "[[ 0  2  3  4]\n",
      " [ 5  7  8  9]\n",
      " [10 12 13 14]\n",
      " [15 17 18 19]\n",
      " [20 22 23 24]] \n",
      "\n",
      "[[ 2  3  4]\n",
      " [ 7  8  9]\n",
      " [12 13 14]\n",
      " [17 18 19]\n",
      " [22 23 24]] \n",
      "\n"
     ]
    }
   ],
   "source": [
    "a = np.arange(25).reshape(5,5)\n",
    "print(a,\"\\n\")\n",
    "b = np.delete(a, [0,1])\n",
    "print(b,\"\\n\")\n",
    "b = np.delete(a, 0)\n",
    "print(b,\"\\n\")\n",
    "b = np.delete(a, 0, axis=0)\n",
    "print(b,\"\\n\")\n",
    "b = np.delete(a, 0, axis=1)\n",
    "print(b,\"\\n\")\n",
    "b = np.delete(a, 1, axis=1)\n",
    "print(b,\"\\n\")\n",
    "b = np.delete(a, [0,1], axis=1)\n",
    "print(b,\"\\n\")"
   ]
  },
  {
   "cell_type": "code",
   "execution_count": 51,
   "metadata": {},
   "outputs": [
    {
     "name": "stdout",
     "output_type": "stream",
     "text": [
      "[[ 0  1  2  3  4]\n",
      " [ 5  6  7  8  9]\n",
      " [10 11 12 13 14]\n",
      " [15 16 17 18 19]\n",
      " [20 21 22 23 24]] \n",
      "\n",
      "[[ 0  1  2  3  4]\n",
      " [ 2  2  2  2  2]\n",
      " [ 5  6  7  8  9]\n",
      " [10 11 12 13 14]\n",
      " [15 16 17 18 19]\n",
      " [20 21 22 23 24]] \n",
      "\n",
      "[[ 0  1  2  3  3  4]\n",
      " [ 5  6  7  8  3  9]\n",
      " [10 11 12 13  3 14]\n",
      " [15 16 17 18  3 19]\n",
      " [20 21 22 23  3 24]] \n",
      "\n",
      "[[ 0  1  2  3  3  3  3  3  3  4]\n",
      " [ 5  6  7  3  3  3  3  3  8  9]\n",
      " [10 11 12  3  3  3  3  3 13 14]\n",
      " [15 16 17  3  3  3  3  3 18 19]\n",
      " [20 21 22  3  3  3  3  3 23 24]] \n",
      "\n"
     ]
    }
   ],
   "source": [
    "a = np.arange(25).reshape(5,5)\n",
    "print(a,\"\\n\")\n",
    "b = np.insert(a, 1, [2, 2, 2, 2, 2], axis=0)\n",
    "print(b,\"\\n\")\n",
    "b = np.insert(a, 4, [3,3,3,3,3], axis=1)\n",
    "print(b,\"\\n\")\n",
    "b = np.insert(a, 3, [[3],[3],[3],[3],[3]], axis=1)\n",
    "print(b,\"\\n\")"
   ]
  },
  {
   "cell_type": "code",
   "execution_count": 52,
   "metadata": {},
   "outputs": [
    {
     "name": "stdout",
     "output_type": "stream",
     "text": [
      "[[0 1 2]\n",
      " [3 4 5]\n",
      " [6 7 8]] \n",
      "\n",
      "[[ 9 10 11]\n",
      " [12 13 14]\n",
      " [15 16 17]] \n",
      "\n",
      "[[ 0  1  2]\n",
      " [ 3  4  5]\n",
      " [ 6  7  8]\n",
      " [ 9 10 11]\n",
      " [12 13 14]\n",
      " [15 16 17]] \n",
      "\n",
      "[[ 9 10 11]\n",
      " [12 13 14]\n",
      " [15 16 17]\n",
      " [ 0  1  2]\n",
      " [ 3  4  5]\n",
      " [ 6  7  8]] \n",
      "\n"
     ]
    }
   ],
   "source": [
    "a = np.arange(9).reshape(3,3)\n",
    "print(a,\"\\n\")\n",
    "b = np.arange(9, 18).reshape(3,3)\n",
    "print(b,\"\\n\")\n",
    "c = np.vstack((a,b))\n",
    "print(c,\"\\n\")\n",
    "c = np.vstack((b,a))\n",
    "print(c,\"\\n\")"
   ]
  },
  {
   "cell_type": "code",
   "execution_count": 53,
   "metadata": {},
   "outputs": [
    {
     "name": "stdout",
     "output_type": "stream",
     "text": [
      "[[0 1 2]\n",
      " [3 4 5]] \n",
      "\n",
      "[[ 9 10 11]\n",
      " [12 13 14]] \n",
      "\n",
      "[[ 0  1  2  9 10 11]\n",
      " [ 3  4  5 12 13 14]] \n",
      "\n",
      "[[ 9 10 11  0  1  2]\n",
      " [12 13 14  3  4  5]] \n",
      "\n"
     ]
    }
   ],
   "source": [
    "a = np.arange(6).reshape(2,3)\n",
    "print(a,\"\\n\")\n",
    "b = np.arange(9, 15).reshape(2,3)\n",
    "print(b,\"\\n\")\n",
    "c = np.hstack((a,b))\n",
    "print(c,\"\\n\")\n",
    "c = np.hstack((b,a))\n",
    "print(c,\"\\n\")"
   ]
  },
  {
   "cell_type": "code",
   "execution_count": 54,
   "metadata": {},
   "outputs": [
    {
     "name": "stdout",
     "output_type": "stream",
     "text": [
      "[[0 1 2]\n",
      " [3 4 5]\n",
      " [6 7 8]] \n",
      "\n",
      "[[3 4 5]\n",
      " [6 7 8]] \n",
      "\n",
      "[[0 1 2]] \n",
      "\n",
      "[[1 2]\n",
      " [4 5]\n",
      " [7 8]] \n",
      "\n",
      "[[4 5]\n",
      " [7 8]] \n",
      "\n",
      "[[1 2]] \n",
      "\n",
      "[[1 2]\n",
      " [4 5]\n",
      " [7 8]] \n",
      "\n"
     ]
    }
   ],
   "source": [
    "a = np.arange(9).reshape(3,3)\n",
    "print(a,\"\\n\")\n",
    "b = a[1:]\n",
    "print(b,\"\\n\")\n",
    "b = a[:1]\n",
    "print(b,\"\\n\")\n",
    "b = a[:, 1:]\n",
    "print(b,\"\\n\")\n",
    "b = a[1:, 1:]\n",
    "print(b,\"\\n\")\n",
    "b = a[0:1, 1:]\n",
    "print(b,\"\\n\")\n",
    "b = a[0:, 1:]\n",
    "print(b,\"\\n\")\n"
   ]
  },
  {
   "cell_type": "code",
   "execution_count": 55,
   "metadata": {},
   "outputs": [
    {
     "name": "stdout",
     "output_type": "stream",
     "text": [
      "[[ 0  1  2  3  4]\n",
      " [ 5  6  7  8  9]\n",
      " [10 11 12 13 14]\n",
      " [15 16 17 18 19]\n",
      " [20 21 22 23 24]] \n",
      "\n",
      "[[11 12 13 14]\n",
      " [16 17 18 19]\n",
      " [21 22 23 24]] \n",
      "\n",
      "[[11 12 13 14]\n",
      " [16 17 99 19]\n",
      " [21 22 23 24]] \n",
      "\n",
      "[[ 0  1  2  3  4]\n",
      " [ 5  6  7  8  9]\n",
      " [10 11 12 13 14]\n",
      " [15 16 17 99 19]\n",
      " [20 21 22 23 24]] \n",
      "\n",
      "[[11 12 13 14]\n",
      " [99 99 99 99]\n",
      " [21 22 23 24]] \n",
      "\n",
      "[[ 0  1  2  3  4]\n",
      " [ 5  6  7  8  9]\n",
      " [10 11 12 13 14]\n",
      " [15 99 99 99 99]\n",
      " [20 21 22 23 24]] \n",
      "\n"
     ]
    }
   ],
   "source": [
    "a = np.arange(25).reshape(5,5)\n",
    "print(a,\"\\n\")\n",
    "b = a[2:, 1:]\n",
    "print(b,\"\\n\")\n",
    "b[1,2] = 99\n",
    "print(b,\"\\n\")\n",
    "print(a,\"\\n\")\n",
    "b[1:2] = 99\n",
    "print(b,\"\\n\")\n",
    "print(a,\"\\n\")\n"
   ]
  },
  {
   "cell_type": "code",
   "execution_count": 56,
   "metadata": {},
   "outputs": [
    {
     "name": "stdout",
     "output_type": "stream",
     "text": [
      "[[ 0  1  2  3  4]\n",
      " [ 5  6  7  8  9]\n",
      " [10 11 12 13 14]\n",
      " [15 16 17 18 19]\n",
      " [20 21 22 23 24]] \n",
      "\n",
      "[[11 12 13 14]\n",
      " [16 17 18 19]\n",
      " [21 22 23 24]] \n",
      "\n",
      "[[11 12 13 14]\n",
      " [16 17 99 19]\n",
      " [21 22 23 24]] \n",
      "\n",
      "[[ 0  1  2  3  4]\n",
      " [ 5  6  7  8  9]\n",
      " [10 11 12 13 14]\n",
      " [15 16 17 18 19]\n",
      " [20 21 22 23 24]] \n",
      "\n",
      "[[11 12 13 14]\n",
      " [99 99 99 99]\n",
      " [21 22 23 24]] \n",
      "\n",
      "[[ 0  1  2  3  4]\n",
      " [ 5  6  7  8  9]\n",
      " [10 11 12 13 14]\n",
      " [15 16 17 18 19]\n",
      " [20 21 22 23 24]] \n",
      "\n",
      "[[11 12 13 14]\n",
      " [16 17 18 19]\n",
      " [21 22 23 24]] \n",
      "\n",
      "[[11 12 13 14]\n",
      " [16 17 99 19]\n",
      " [21 22 23 24]] \n",
      "\n",
      "[[ 0  1  2  3  4]\n",
      " [ 5  6  7  8  9]\n",
      " [10 11 12 13 14]\n",
      " [15 16 17 18 19]\n",
      " [20 21 22 23 24]] \n",
      "\n"
     ]
    }
   ],
   "source": [
    "a = np.arange(25).reshape(5,5)\n",
    "print(a,\"\\n\")\n",
    "b = np.copy(a[2:, 1:])\n",
    "print(b,\"\\n\")\n",
    "b[1,2] = 99\n",
    "print(b,\"\\n\")\n",
    "print(a,\"\\n\")\n",
    "b[1:2] = 99\n",
    "print(b,\"\\n\")\n",
    "print(a,\"\\n\")\n",
    "b = a[2:, 1:].copy()\n",
    "print(b,\"\\n\")\n",
    "b[1,2] = 99\n",
    "print(b,\"\\n\")\n",
    "print(a,\"\\n\")\n"
   ]
  },
  {
   "cell_type": "code",
   "execution_count": 57,
   "metadata": {},
   "outputs": [
    {
     "name": "stdout",
     "output_type": "stream",
     "text": [
      "[[ 0  1  2  3  4]\n",
      " [ 5  6  7  8  9]\n",
      " [10 11 12 13 14]\n",
      " [15 16 17 18 19]] \n",
      "\n",
      "[1 3] \n",
      "\n"
     ]
    }
   ],
   "source": [
    "# We create a 4 x 5 ndarray that contains integers from 0 to 19\n",
    "X = np.arange(20).reshape(4, 5)\n",
    "\n",
    "# We create a rank 1 ndarray that will serve as indices to select elements from X\n",
    "indices = np.array([1,3])\n",
    "\n",
    "print(X, \"\\n\")\n",
    "print(indices, \"\\n\")"
   ]
  },
  {
   "cell_type": "code",
   "execution_count": 59,
   "metadata": {},
   "outputs": [
    {
     "name": "stdout",
     "output_type": "stream",
     "text": [
      "[[ 5  6  7  8  9]\n",
      " [15 16 17 18 19]] \n",
      "\n",
      "[[ 1  3]\n",
      " [ 6  8]\n",
      " [11 13]\n",
      " [16 18]] \n",
      "\n"
     ]
    }
   ],
   "source": [
    "# to get specific rows and/or columns\n",
    "\n",
    "# We use the indices ndarray to select the 2nd and 4th row of X\n",
    "Y = X[indices,:]\n",
    "\n",
    "# We use the indices ndarray to select the 2nd and 4th column of X\n",
    "Z = X[:, indices]\n",
    "\n",
    "print(Y, \"\\n\")\n",
    "print(Z, \"\\n\")"
   ]
  },
  {
   "cell_type": "markdown",
   "metadata": {},
   "source": [
    "a = np.arange(9).reshape(3,3)"
   ]
  },
  {
   "cell_type": "code",
   "execution_count": 58,
   "metadata": {},
   "outputs": [
    {
     "name": "stdout",
     "output_type": "stream",
     "text": [
      "[[0 1 2]\n",
      " [3 4 5]\n",
      " [6 7 8]] \n",
      "\n",
      "[2 4] \n",
      "\n",
      "[[2 0 0 0]\n",
      " [0 3 0 0]\n",
      " [0 0 3 0]\n",
      " [0 0 0 4]] \n",
      "\n",
      "[[ 0  1  2  3  4]\n",
      " [ 5  6  7  8  9]\n",
      " [10 11 12 13 14]\n",
      " [15 16 17 18 19]\n",
      " [20 21 22 23 24]] \n",
      "\n",
      "[ 0  6 12 18 24] \n",
      "\n",
      "[ 0  6 12 18 24] \n",
      "\n",
      "[ 5 11 17 23] \n",
      "\n",
      "[3 9] \n",
      "\n",
      "[ 0  1  2  3  4  5  6  7  8  9 10 11 12 13 14 15 16 17 18 19 20 21 22 23\n",
      " 24] \n",
      "\n",
      "[[ 0  5  2  3  4]\n",
      " [ 5  6  7  8  9]\n",
      " [ 9  9  9  9  9]\n",
      " [15 16 17 18 19]\n",
      " [20 21 22 23 24]] \n",
      "\n",
      "[ 0  2  3  4  5  6  7  8  9 15 16 17 18 19 20 21 22 23 24] \n",
      "\n"
     ]
    }
   ],
   "source": [
    "import numpy as np\n",
    "a = np.arange(9).reshape(3,3)\n",
    "print(a, \"\\n\")\n",
    "a  = np.diag([[2,3], [3,4]])\n",
    "print(a, \"\\n\")\n",
    "a  = np.diag([2,3,3,4])\n",
    "print(a, \"\\n\")\n",
    "a = np.arange(25).reshape(5,5)\n",
    "print(a, \"\\n\")\n",
    "b = np.diag(a)\n",
    "print(b, \"\\n\")\n",
    "b = np.diag(a, 0)\n",
    "print(b, \"\\n\")\n",
    "b = np.diag(a, -1)\n",
    "print(b, \"\\n\")\n",
    "b = np.diag(a, 3)\n",
    "print(b, \"\\n\")\n",
    "b = np.unique(a)\n",
    "print(b, \"\\n\")\n",
    "a[0,1] = 5\n",
    "a[2:3] = 9\n",
    "print(a, \"\\n\")\n",
    "b = np.unique(a)\n",
    "print(b, \"\\n\")\n"
   ]
  },
  {
   "cell_type": "code",
   "execution_count": 60,
   "metadata": {},
   "outputs": [
    {
     "name": "stdout",
     "output_type": "stream",
     "text": [
      "[[ 0  1  2  3  4  5]\n",
      " [ 6  7  8  9 10 11]\n",
      " [12 13 14 15 16 17]\n",
      " [18 19 20 21 22 23]\n",
      " [24 25 26 27 28 29]\n",
      " [30 31 32 33 34 35]] \n",
      "\n",
      "[11 12 13 14 15 16 17 18 19 20 21 22 23 24 25 26 27 28 29 30 31 32 33 34\n",
      " 35] \n",
      "\n",
      "[11 12 13 14] \n",
      "\n"
     ]
    }
   ],
   "source": [
    "a = np.arange(36).reshape(6,6)\n",
    "print(a, \"\\n\")\n",
    "b = a[(a>10)]\n",
    "print(b, \"\\n\")\n",
    "b = a[(a > 10) & (a < 15)]\n",
    "print(b, \"\\n\")\n"
   ]
  },
  {
   "cell_type": "code",
   "execution_count": 61,
   "metadata": {},
   "outputs": [
    {
     "name": "stdout",
     "output_type": "stream",
     "text": [
      "[[ 0  1  2  3  4  5]\n",
      " [ 6  7  8  9 10 11]\n",
      " [12 13 14 15 16 17]\n",
      " [18 19 20 21 22 23]\n",
      " [24 25 26 27 28 29]\n",
      " [30 31 32 33 34 35]] \n",
      "\n",
      "[[20 23 26]\n",
      " [29 32 35]\n",
      " [38 41 44]\n",
      " [47 50 53]] \n",
      "\n",
      "[20 23 26 29 32 35] \n",
      "\n",
      "[ 0  1  2  3  4  5  6  7  8  9 10 11 12 13 14 15 16 17 18 19 20 21 22 23\n",
      " 24 25 26 27 28 29 30 31 32 33 34 35 38 41 44 47 50 53] \n",
      "\n",
      "[ 0  1  2  3  4  5  6  7  8  9 10 11 12 13 14 15 16 17 18 19 21 22 24 25\n",
      " 27 28 30 31 33 34] \n",
      "\n"
     ]
    }
   ],
   "source": [
    "a = np.arange(36).reshape(6,6)\n",
    "print(a, \"\\n\")\n",
    "b = np.arange(20, 56, 3).reshape(4,3)\n",
    "print(b, \"\\n\")\n",
    "c = np.intersect1d(a,b)\n",
    "print(c, \"\\n\")\n",
    "c = np.union1d(a,b)\n",
    "print(c, \"\\n\")\n",
    "c = np.setdiff1d(a,b)\n",
    "print(c, \"\\n\")"
   ]
  },
  {
   "cell_type": "code",
   "execution_count": 34,
   "metadata": {},
   "outputs": [
    {
     "name": "stdout",
     "output_type": "stream",
     "text": [
      "[[15  6  7 19  1]\n",
      " [ 3 11  3 11 20]\n",
      " [15  7 22  4 13]\n",
      " [18  2 22  4  3]\n",
      " [ 5 16  6  1 15]]\n",
      "\n",
      "None\n",
      "\n",
      "[[ 1  6  7 15 19]\n",
      " [ 3  3 11 11 20]\n",
      " [ 4  7 13 15 22]\n",
      " [ 2  3  4 18 22]\n",
      " [ 1  5  6 15 16]]\n",
      "\n"
     ]
    }
   ],
   "source": [
    "a = np.random.randint(1,23, size=(5,5))\n",
    "print(a, \"\\n\")\n",
    "b = a.sort()\n",
    "print(b, \"\\n\")\n",
    "print(a, \"\\n\")"
   ]
  },
  {
   "cell_type": "code",
   "execution_count": 62,
   "metadata": {},
   "outputs": [
    {
     "name": "stdout",
     "output_type": "stream",
     "text": [
      "[[17 12 19  4 21]\n",
      " [10 14 12  6 14]\n",
      " [17 12 17 21 18]\n",
      " [16 17 22  7 10]\n",
      " [19 10 11 22  2]] \n",
      "\n",
      "[[ 4 12 17 19 21]\n",
      " [ 6 10 12 14 14]\n",
      " [12 17 17 18 21]\n",
      " [ 7 10 16 17 22]\n",
      " [ 2 10 11 19 22]] \n",
      "\n",
      "[[17 12 19  4 21]\n",
      " [10 14 12  6 14]\n",
      " [17 12 17 21 18]\n",
      " [16 17 22  7 10]\n",
      " [19 10 11 22  2]] \n",
      "\n",
      "[[ 4 12 17 19 21]\n",
      " [ 6 10 12 14 14]\n",
      " [12 17 17 18 21]\n",
      " [ 7 10 16 17 22]\n",
      " [ 2 10 11 19 22]] \n",
      "\n",
      "[[10 10 11  4  2]\n",
      " [16 12 12  6 10]\n",
      " [17 12 17  7 14]\n",
      " [17 14 19 21 18]\n",
      " [19 17 22 22 21]] \n",
      "\n"
     ]
    }
   ],
   "source": [
    "a = np.random.randint(1,23, size=(5,5))\n",
    "print(a, \"\\n\")\n",
    "b = np.sort(a)\n",
    "print(b, \"\\n\")\n",
    "print(a, \"\\n\")\n",
    "b = np.sort(a, axis=1)\n",
    "print(b, \"\\n\")\n",
    "b = np.sort(a, axis=0)\n",
    "print(b, \"\\n\")"
   ]
  },
  {
   "cell_type": "code",
   "execution_count": 74,
   "metadata": {},
   "outputs": [
    {
     "name": "stdout",
     "output_type": "stream",
     "text": [
      "[[ 1  3  5  7  9]\n",
      " [11 13 15 17 19]\n",
      " [21 23 25 27 29]\n",
      " [31 33 35 37 39]\n",
      " [41 43 45 47 49]] \n",
      "\n",
      "[[25  4 16  8  4]\n",
      " [14  4 26 13  8]\n",
      " [ 5 24 17 20  3]\n",
      " [14 16 10 15  4]\n",
      " [15 27 24  6  6]] \n",
      "\n",
      "[[26  7 21 15 13]\n",
      " [25 17 41 30 27]\n",
      " [26 47 42 47 32]\n",
      " [45 49 45 52 43]\n",
      " [56 70 69 53 55]] \n",
      "\n",
      "[[26  7 21 15 13]\n",
      " [25 17 41 30 27]\n",
      " [26 47 42 47 32]\n",
      " [45 49 45 52 43]\n",
      " [56 70 69 53 55]] \n",
      "\n",
      "[[-24  -1 -11  -1   5]\n",
      " [ -3   9 -11   4  11]\n",
      " [ 16  -1   8   7  26]\n",
      " [ 17  17  25  22  35]\n",
      " [ 26  16  21  41  43]] \n",
      "\n",
      "[[  25   12   80   56   36]\n",
      " [ 154   52  390  221  152]\n",
      " [ 105  552  425  540   87]\n",
      " [ 434  528  350  555  156]\n",
      " [ 615 1161 1080  282  294]] \n",
      "\n",
      "[[0.04       0.75       0.3125     0.875      2.25      ]\n",
      " [0.78571429 3.25       0.57692308 1.30769231 2.375     ]\n",
      " [4.2        0.95833333 1.47058824 1.35       9.66666667]\n",
      " [2.21428571 2.0625     3.5        2.46666667 9.75      ]\n",
      " [2.73333333 1.59259259 1.875      7.83333333 8.16666667]] \n",
      "\n"
     ]
    }
   ],
   "source": [
    "a = np.arange(1, 50, 2).reshape(5,5)\n",
    "print(a,\"\\n\")\n",
    "b = np.random.randint(1,28, size=(5,5))\n",
    "print(b, \"\\n\")\n",
    "c = a + b\n",
    "print(c, \"\\n\")\n",
    "print(np.add(a,b), \"\\n\")\n",
    "print(np.subtract(a,b), \"\\n\")\n",
    "print(np.multiply(a,b), \"\\n\")\n",
    "print(np.divide(a,b), \"\\n\")"
   ]
  },
  {
   "cell_type": "code",
   "execution_count": 82,
   "metadata": {},
   "outputs": [
    {
     "name": "stdout",
     "output_type": "stream",
     "text": [
      "[[ 1  3  5  7  9]\n",
      " [11 13 15 17 19]\n",
      " [21 23 25 27 29]\n",
      " [31 33 35 37 39]\n",
      " [41 43 45 47 49]] \n",
      "\n",
      "[[ 1  3 26  8 24]\n",
      " [10 21 12 18  4]\n",
      " [ 3  4 19 26 21]\n",
      " [10 18  1 25 12]\n",
      " [ 9 14  2  5 16]] \n",
      "\n",
      "[[1.         1.73205081 2.23606798 2.64575131 3.        ]\n",
      " [3.31662479 3.60555128 3.87298335 4.12310563 4.35889894]\n",
      " [4.58257569 4.79583152 5.         5.19615242 5.38516481]\n",
      " [5.56776436 5.74456265 5.91607978 6.08276253 6.244998  ]\n",
      " [6.40312424 6.55743852 6.70820393 6.8556546  7.        ]] \n",
      "\n",
      "[[2.71828183e+00 2.00855369e+01 1.48413159e+02 1.09663316e+03\n",
      "  8.10308393e+03]\n",
      " [5.98741417e+04 4.42413392e+05 3.26901737e+06 2.41549528e+07\n",
      "  1.78482301e+08]\n",
      " [1.31881573e+09 9.74480345e+09 7.20048993e+10 5.32048241e+11\n",
      "  3.93133430e+12]\n",
      " [2.90488497e+13 2.14643580e+14 1.58601345e+15 1.17191424e+16\n",
      "  8.65934004e+16]\n",
      " [6.39843494e+17 4.72783947e+18 3.49342711e+19 2.58131289e+20\n",
      "  1.90734657e+21]] \n",
      "\n",
      "[[    1    27 17576   512 13824]\n",
      " [ 1000  9261  1728  5832    64]\n",
      " [   27    64  6859 17576  9261]\n",
      " [ 1000  5832     1 15625  1728]\n",
      " [  729  2744     8   125  4096]] \n",
      "\n",
      "49  :  1\n",
      "[10 21 26 26 24]  :  [1 3 1 5 4]\n",
      "[26 21 26 25 16]  :  [1 4 3 1 2]\n",
      "14.422205101855956  :  [14.14213562 14.14213562 14.14213562 14.14213562 14.14213562]\n",
      "[21. 23. 25. 27. 29.]  :  [21. 23. 25. 27. 29.]\n",
      "[ 5. 15. 25. 35. 45.]  :  [ 5. 15. 25. 35. 45.]\n"
     ]
    }
   ],
   "source": [
    "a = np.arange(1, 50, 2).reshape(5,5)\n",
    "print(a,\"\\n\")\n",
    "b = np.random.randint(1,28, size=(5,5))\n",
    "print(b, \"\\n\")\n",
    "print(np.sqrt(a), \"\\n\")\n",
    "print(np.exp(a), \"\\n\")\n",
    "print(np.power(b,3), \"\\n\")\n",
    "\n",
    "print(np.max(a), \" : \", np.min(a))\n",
    "print(np.max(b, axis=0), \" : \", np.min(b, axis=0))\n",
    "print(np.max(b, axis=1), \" : \", np.min(b, axis=1))\n",
    "\n",
    "print(np.std(a), \" : \", np.std(a, axis=0))\n",
    "print(np.mean(a, axis=0), \" : \", np.median(a, axis=0))\n",
    "print(np.mean(a, axis=1), \" : \", np.median(a, axis=1))"
   ]
  },
  {
   "cell_type": "code",
   "execution_count": 88,
   "metadata": {},
   "outputs": [
    {
     "name": "stdout",
     "output_type": "stream",
     "text": [
      "[1 2 4] \n",
      "\n",
      "[[0 1 2]\n",
      " [3 4 5]\n",
      " [6 7 8]] \n",
      "\n",
      "[[1]\n",
      " [4]\n",
      " [7]] \n",
      "\n",
      "\n",
      "[[ 1  3  6]\n",
      " [ 4  6  9]\n",
      " [ 7  9 12]]\n",
      "\n",
      "[[ 1  2  3]\n",
      " [ 7  8  9]\n",
      " [13 14 15]]\n"
     ]
    }
   ],
   "source": [
    "a = np.array([1, 2, 4])\n",
    "print(a, \"\\n\")\n",
    "b = np.arange(9).reshape(3,3)\n",
    "print(b, \"\\n\")\n",
    "c = np.arange(1, 10, 3).reshape(3, 1)\n",
    "print(c, \"\\n\")\n",
    "print()\n",
    "print(a + b)\n",
    "print()\n",
    "print(b + c)"
   ]
  },
  {
   "cell_type": "code",
   "execution_count": 92,
   "metadata": {},
   "outputs": [
    {
     "name": "stdout",
     "output_type": "stream",
     "text": [
      "[[1. 2. 3. 4.]\n",
      " [1. 2. 3. 4.]\n",
      " [1. 2. 3. 4.]\n",
      " [1. 2. 3. 4.]]\n"
     ]
    }
   ],
   "source": [
    "print(np.ones([4,4]) + np.array([0,1,2,3]))"
   ]
  },
  {
   "cell_type": "code",
   "execution_count": 94,
   "metadata": {},
   "outputs": [
    {
     "name": "stdout",
     "output_type": "stream",
     "text": [
      "# packages in environment at C:\\ProgramData\\Anaconda3:\n",
      "#\n",
      "# Name                    Version                   Build  Channel\n",
      "pandas                    0.23.4           py37h830ac7b_0  \n"
     ]
    }
   ],
   "source": [
    "!conda list pandas\n"
   ]
  },
  {
   "cell_type": "code",
   "execution_count": null,
   "metadata": {},
   "outputs": [],
   "source": []
  }
 ],
 "metadata": {
  "kernelspec": {
   "display_name": "Python 3",
   "language": "python",
   "name": "python3"
  },
  "language_info": {
   "codemirror_mode": {
    "name": "ipython",
    "version": 3
   },
   "file_extension": ".py",
   "mimetype": "text/x-python",
   "name": "python",
   "nbconvert_exporter": "python",
   "pygments_lexer": "ipython3",
   "version": "3.7.0"
  }
 },
 "nbformat": 4,
 "nbformat_minor": 2
}
