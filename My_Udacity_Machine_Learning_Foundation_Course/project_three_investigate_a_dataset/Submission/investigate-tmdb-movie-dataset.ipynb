{
 "cells": [
  {
   "cell_type": "markdown",
   "metadata": {},
   "source": [
    "# Project: Investigate data from The Movies database (TMdb)\n",
    "\n",
    "## Table of Contents\n",
    "<ul>\n",
    "<li><a href=\"#intro\">Introduction</a></li>\n",
    "<li><a href=\"#wrangling\">Data Wrangling</a></li>\n",
    "<li><a href=\"#eda\">Exploratory Data Analysis</a></li>\n",
    "<li><a href=\"#conclusions\">Conclusions</a></li>\n",
    "</ul>"
   ]
  },
  {
   "cell_type": "markdown",
   "metadata": {},
   "source": [
    "<a id='intro'></a>\n",
    "## Introduction\n",
    "\n",
    "I selected the TMDb movie dataset from kaggle to perform investigation as part of the project requirements. \n",
    "\n",
    "As per the project page, this data set contains information about 10,000 movies collected from The Movie Database (TMDb), including user ratings and revenue. Being a movie buff myself, this is quite an interesting project.\n",
    "\n",
    "\n",
    "The dataset consists of information like genre, director, cast etc., which help us in analyzing how much each of these variables helped in a movie success. The dataset also consists of other important data like the revenue generated, popularity and average user votes. Based on all these datapoints mentioned above, we can evaluate (1) How successful a Movie is and (2) What has contributed to the success of the movie. Since the data also contains year of release, we can even get a chance to analyze the ongoing trend during a year and how that has helped in the additional success of a movie.\n",
    "\n",
    "Following are the questions that shall be addressed:\n",
    "1. Distribution of revenue across popularity levels in the recent years\n",
    "2. Distribution of revenue across rating levels in the recent years\n",
    "3. What are the common datapoints for movies with high poularity\n",
    "4. What are the common datapoints for movies with high voting scores\n",
    "5. Trends over the years based on Genre\n",
    "6. Trends over the years based on Keywords\n",
    "7. Number of movies released year by year\n",
    "\n",
    "Distributing them across research questions:\n",
    "Research question #1: Exploring of data\n",
    "1. Popularity over the years\n",
    "2. Distribution of revenue across popularity levels in the recent years\n",
    "3. Distribution of revenue across rating levels in the recent years\n",
    "\n",
    "Research question #2: Data points (or) Attributes associated with Successful movies\n",
    "1. What are the common datapoints for movies with high poularity\n",
    "2. What are the common datapoints for movies with high voting scores\n",
    "\n",
    "Research question #3: Top trends (genre, keywords) over years\n",
    "1. Number of movies released year by year\n",
    "2. Trends over the years based on Genre\n",
    "3. Trends over the years based on Keywords\n"
   ]
  },
  {
   "cell_type": "code",
   "execution_count": 1,
   "metadata": {},
   "outputs": [],
   "source": [
    "# loading the required libraries to perform the required actions\n",
    "\n",
    "import pandas as pd\n",
    "import numpy as np\n",
    "import matplotlib.pyplot as plt\n",
    "import seaborn as sns\n",
    "from collections import Counter\n",
    "% matplotlib inline\n",
    "\n",
    "pd.set_option('mode.chained_assignment', None)"
   ]
  },
  {
   "cell_type": "markdown",
   "metadata": {},
   "source": [
    "<a id='wrangling'></a>\n",
    "## Data Wrangling\n",
    "\n",
    "### General Properties"
   ]
  },
  {
   "cell_type": "code",
   "execution_count": 2,
   "metadata": {},
   "outputs": [
    {
     "data": {
      "text/html": [
       "<div>\n",
       "<style scoped>\n",
       "    .dataframe tbody tr th:only-of-type {\n",
       "        vertical-align: middle;\n",
       "    }\n",
       "\n",
       "    .dataframe tbody tr th {\n",
       "        vertical-align: top;\n",
       "    }\n",
       "\n",
       "    .dataframe thead th {\n",
       "        text-align: right;\n",
       "    }\n",
       "</style>\n",
       "<table border=\"1\" class=\"dataframe\">\n",
       "  <thead>\n",
       "    <tr style=\"text-align: right;\">\n",
       "      <th></th>\n",
       "      <th>id</th>\n",
       "      <th>imdb_id</th>\n",
       "      <th>popularity</th>\n",
       "      <th>budget</th>\n",
       "      <th>revenue</th>\n",
       "      <th>original_title</th>\n",
       "      <th>cast</th>\n",
       "      <th>homepage</th>\n",
       "      <th>director</th>\n",
       "      <th>tagline</th>\n",
       "      <th>...</th>\n",
       "      <th>overview</th>\n",
       "      <th>runtime</th>\n",
       "      <th>genres</th>\n",
       "      <th>production_companies</th>\n",
       "      <th>release_date</th>\n",
       "      <th>vote_count</th>\n",
       "      <th>vote_average</th>\n",
       "      <th>release_year</th>\n",
       "      <th>budget_adj</th>\n",
       "      <th>revenue_adj</th>\n",
       "    </tr>\n",
       "  </thead>\n",
       "  <tbody>\n",
       "    <tr>\n",
       "      <th>0</th>\n",
       "      <td>135397</td>\n",
       "      <td>tt0369610</td>\n",
       "      <td>32.985763</td>\n",
       "      <td>150000000</td>\n",
       "      <td>1513528810</td>\n",
       "      <td>Jurassic World</td>\n",
       "      <td>Chris Pratt|Bryce Dallas Howard|Irrfan Khan|Vi...</td>\n",
       "      <td>http://www.jurassicworld.com/</td>\n",
       "      <td>Colin Trevorrow</td>\n",
       "      <td>The park is open.</td>\n",
       "      <td>...</td>\n",
       "      <td>Twenty-two years after the events of Jurassic ...</td>\n",
       "      <td>124</td>\n",
       "      <td>Action|Adventure|Science Fiction|Thriller</td>\n",
       "      <td>Universal Studios|Amblin Entertainment|Legenda...</td>\n",
       "      <td>6/9/15</td>\n",
       "      <td>5562</td>\n",
       "      <td>6.5</td>\n",
       "      <td>2015</td>\n",
       "      <td>1.379999e+08</td>\n",
       "      <td>1.392446e+09</td>\n",
       "    </tr>\n",
       "    <tr>\n",
       "      <th>1</th>\n",
       "      <td>76341</td>\n",
       "      <td>tt1392190</td>\n",
       "      <td>28.419936</td>\n",
       "      <td>150000000</td>\n",
       "      <td>378436354</td>\n",
       "      <td>Mad Max: Fury Road</td>\n",
       "      <td>Tom Hardy|Charlize Theron|Hugh Keays-Byrne|Nic...</td>\n",
       "      <td>http://www.madmaxmovie.com/</td>\n",
       "      <td>George Miller</td>\n",
       "      <td>What a Lovely Day.</td>\n",
       "      <td>...</td>\n",
       "      <td>An apocalyptic story set in the furthest reach...</td>\n",
       "      <td>120</td>\n",
       "      <td>Action|Adventure|Science Fiction|Thriller</td>\n",
       "      <td>Village Roadshow Pictures|Kennedy Miller Produ...</td>\n",
       "      <td>5/13/15</td>\n",
       "      <td>6185</td>\n",
       "      <td>7.1</td>\n",
       "      <td>2015</td>\n",
       "      <td>1.379999e+08</td>\n",
       "      <td>3.481613e+08</td>\n",
       "    </tr>\n",
       "  </tbody>\n",
       "</table>\n",
       "<p>2 rows × 21 columns</p>\n",
       "</div>"
      ],
      "text/plain": [
       "       id    imdb_id  popularity     budget     revenue      original_title  \\\n",
       "0  135397  tt0369610   32.985763  150000000  1513528810      Jurassic World   \n",
       "1   76341  tt1392190   28.419936  150000000   378436354  Mad Max: Fury Road   \n",
       "\n",
       "                                                cast  \\\n",
       "0  Chris Pratt|Bryce Dallas Howard|Irrfan Khan|Vi...   \n",
       "1  Tom Hardy|Charlize Theron|Hugh Keays-Byrne|Nic...   \n",
       "\n",
       "                        homepage         director             tagline  \\\n",
       "0  http://www.jurassicworld.com/  Colin Trevorrow   The park is open.   \n",
       "1    http://www.madmaxmovie.com/    George Miller  What a Lovely Day.   \n",
       "\n",
       "       ...                                                overview runtime  \\\n",
       "0      ...       Twenty-two years after the events of Jurassic ...     124   \n",
       "1      ...       An apocalyptic story set in the furthest reach...     120   \n",
       "\n",
       "                                      genres  \\\n",
       "0  Action|Adventure|Science Fiction|Thriller   \n",
       "1  Action|Adventure|Science Fiction|Thriller   \n",
       "\n",
       "                                production_companies release_date vote_count  \\\n",
       "0  Universal Studios|Amblin Entertainment|Legenda...       6/9/15       5562   \n",
       "1  Village Roadshow Pictures|Kennedy Miller Produ...      5/13/15       6185   \n",
       "\n",
       "   vote_average  release_year    budget_adj   revenue_adj  \n",
       "0           6.5          2015  1.379999e+08  1.392446e+09  \n",
       "1           7.1          2015  1.379999e+08  3.481613e+08  \n",
       "\n",
       "[2 rows x 21 columns]"
      ]
     },
     "execution_count": 2,
     "metadata": {},
     "output_type": "execute_result"
    }
   ],
   "source": [
    "# Importing the dataset\n",
    "data = pd.read_csv('tmdb-movies.csv')\n",
    "\n",
    "# Displaying the first two rows of data\n",
    "data.head(2)"
   ]
  },
  {
   "cell_type": "code",
   "execution_count": 3,
   "metadata": {},
   "outputs": [
    {
     "name": "stdout",
     "output_type": "stream",
     "text": [
      "<class 'pandas.core.frame.DataFrame'>\n",
      "RangeIndex: 10866 entries, 0 to 10865\n",
      "Data columns (total 21 columns):\n",
      "id                      10866 non-null int64\n",
      "imdb_id                 10856 non-null object\n",
      "popularity              10866 non-null float64\n",
      "budget                  10866 non-null int64\n",
      "revenue                 10866 non-null int64\n",
      "original_title          10866 non-null object\n",
      "cast                    10790 non-null object\n",
      "homepage                2936 non-null object\n",
      "director                10822 non-null object\n",
      "tagline                 8042 non-null object\n",
      "keywords                9373 non-null object\n",
      "overview                10862 non-null object\n",
      "runtime                 10866 non-null int64\n",
      "genres                  10843 non-null object\n",
      "production_companies    9836 non-null object\n",
      "release_date            10866 non-null object\n",
      "vote_count              10866 non-null int64\n",
      "vote_average            10866 non-null float64\n",
      "release_year            10866 non-null int64\n",
      "budget_adj              10866 non-null float64\n",
      "revenue_adj             10866 non-null float64\n",
      "dtypes: float64(4), int64(6), object(11)\n",
      "memory usage: 1.7+ MB\n"
     ]
    }
   ],
   "source": [
    "# List the available columns for general understanding of the data points we have per movie\n",
    "\n",
    "data.info()"
   ]
  },
  {
   "cell_type": "markdown",
   "metadata": {},
   "source": [
    "\n",
    "As observed, we were provided with about 21 different data points per movie and a huge list of 10866 movies in total. \n",
    "From the data points provided, for the selected questions to answer, we do not need several datapoints like tagline or homepage or overview etc., which can be dropped from the dataset.\n",
    "\n",
    "Not all data points have values for all movies. As observed, cast (10790), homepage (2936), director (10822), tagline (8042), keywords (9373), genre (10843) and production_companies (9836) all of these have entries less than the total movie count. These all have several entries will NULLs. Since null columns effect the analyses, the dataset needs to be carefully considered with all the resepective entries present.\n",
    "\n",
    "Out of the list, cast (10790), director (10822) and genre (10843) have very less missing data and these movies that have missed cast, director and genre can be safely removed from the dataset."
   ]
  },
  {
   "cell_type": "code",
   "execution_count": 4,
   "metadata": {},
   "outputs": [
    {
     "data": {
      "text/html": [
       "<div>\n",
       "<style scoped>\n",
       "    .dataframe tbody tr th:only-of-type {\n",
       "        vertical-align: middle;\n",
       "    }\n",
       "\n",
       "    .dataframe tbody tr th {\n",
       "        vertical-align: top;\n",
       "    }\n",
       "\n",
       "    .dataframe thead th {\n",
       "        text-align: right;\n",
       "    }\n",
       "</style>\n",
       "<table border=\"1\" class=\"dataframe\">\n",
       "  <thead>\n",
       "    <tr style=\"text-align: right;\">\n",
       "      <th></th>\n",
       "      <th>id</th>\n",
       "      <th>popularity</th>\n",
       "      <th>budget</th>\n",
       "      <th>revenue</th>\n",
       "      <th>runtime</th>\n",
       "      <th>vote_count</th>\n",
       "      <th>vote_average</th>\n",
       "      <th>release_year</th>\n",
       "      <th>budget_adj</th>\n",
       "      <th>revenue_adj</th>\n",
       "    </tr>\n",
       "  </thead>\n",
       "  <tbody>\n",
       "    <tr>\n",
       "      <th>count</th>\n",
       "      <td>10866.000000</td>\n",
       "      <td>10866.000000</td>\n",
       "      <td>1.086600e+04</td>\n",
       "      <td>1.086600e+04</td>\n",
       "      <td>10866.000000</td>\n",
       "      <td>10866.000000</td>\n",
       "      <td>10866.000000</td>\n",
       "      <td>10866.000000</td>\n",
       "      <td>1.086600e+04</td>\n",
       "      <td>1.086600e+04</td>\n",
       "    </tr>\n",
       "    <tr>\n",
       "      <th>mean</th>\n",
       "      <td>66064.177434</td>\n",
       "      <td>0.646441</td>\n",
       "      <td>1.462570e+07</td>\n",
       "      <td>3.982332e+07</td>\n",
       "      <td>102.070863</td>\n",
       "      <td>217.389748</td>\n",
       "      <td>5.974922</td>\n",
       "      <td>2001.322658</td>\n",
       "      <td>1.755104e+07</td>\n",
       "      <td>5.136436e+07</td>\n",
       "    </tr>\n",
       "    <tr>\n",
       "      <th>std</th>\n",
       "      <td>92130.136561</td>\n",
       "      <td>1.000185</td>\n",
       "      <td>3.091321e+07</td>\n",
       "      <td>1.170035e+08</td>\n",
       "      <td>31.381405</td>\n",
       "      <td>575.619058</td>\n",
       "      <td>0.935142</td>\n",
       "      <td>12.812941</td>\n",
       "      <td>3.430616e+07</td>\n",
       "      <td>1.446325e+08</td>\n",
       "    </tr>\n",
       "    <tr>\n",
       "      <th>min</th>\n",
       "      <td>5.000000</td>\n",
       "      <td>0.000065</td>\n",
       "      <td>0.000000e+00</td>\n",
       "      <td>0.000000e+00</td>\n",
       "      <td>0.000000</td>\n",
       "      <td>10.000000</td>\n",
       "      <td>1.500000</td>\n",
       "      <td>1960.000000</td>\n",
       "      <td>0.000000e+00</td>\n",
       "      <td>0.000000e+00</td>\n",
       "    </tr>\n",
       "    <tr>\n",
       "      <th>25%</th>\n",
       "      <td>10596.250000</td>\n",
       "      <td>0.207583</td>\n",
       "      <td>0.000000e+00</td>\n",
       "      <td>0.000000e+00</td>\n",
       "      <td>90.000000</td>\n",
       "      <td>17.000000</td>\n",
       "      <td>5.400000</td>\n",
       "      <td>1995.000000</td>\n",
       "      <td>0.000000e+00</td>\n",
       "      <td>0.000000e+00</td>\n",
       "    </tr>\n",
       "    <tr>\n",
       "      <th>50%</th>\n",
       "      <td>20669.000000</td>\n",
       "      <td>0.383856</td>\n",
       "      <td>0.000000e+00</td>\n",
       "      <td>0.000000e+00</td>\n",
       "      <td>99.000000</td>\n",
       "      <td>38.000000</td>\n",
       "      <td>6.000000</td>\n",
       "      <td>2006.000000</td>\n",
       "      <td>0.000000e+00</td>\n",
       "      <td>0.000000e+00</td>\n",
       "    </tr>\n",
       "    <tr>\n",
       "      <th>75%</th>\n",
       "      <td>75610.000000</td>\n",
       "      <td>0.713817</td>\n",
       "      <td>1.500000e+07</td>\n",
       "      <td>2.400000e+07</td>\n",
       "      <td>111.000000</td>\n",
       "      <td>145.750000</td>\n",
       "      <td>6.600000</td>\n",
       "      <td>2011.000000</td>\n",
       "      <td>2.085325e+07</td>\n",
       "      <td>3.369710e+07</td>\n",
       "    </tr>\n",
       "    <tr>\n",
       "      <th>max</th>\n",
       "      <td>417859.000000</td>\n",
       "      <td>32.985763</td>\n",
       "      <td>4.250000e+08</td>\n",
       "      <td>2.781506e+09</td>\n",
       "      <td>900.000000</td>\n",
       "      <td>9767.000000</td>\n",
       "      <td>9.200000</td>\n",
       "      <td>2015.000000</td>\n",
       "      <td>4.250000e+08</td>\n",
       "      <td>2.827124e+09</td>\n",
       "    </tr>\n",
       "  </tbody>\n",
       "</table>\n",
       "</div>"
      ],
      "text/plain": [
       "                  id    popularity        budget       revenue       runtime  \\\n",
       "count   10866.000000  10866.000000  1.086600e+04  1.086600e+04  10866.000000   \n",
       "mean    66064.177434      0.646441  1.462570e+07  3.982332e+07    102.070863   \n",
       "std     92130.136561      1.000185  3.091321e+07  1.170035e+08     31.381405   \n",
       "min         5.000000      0.000065  0.000000e+00  0.000000e+00      0.000000   \n",
       "25%     10596.250000      0.207583  0.000000e+00  0.000000e+00     90.000000   \n",
       "50%     20669.000000      0.383856  0.000000e+00  0.000000e+00     99.000000   \n",
       "75%     75610.000000      0.713817  1.500000e+07  2.400000e+07    111.000000   \n",
       "max    417859.000000     32.985763  4.250000e+08  2.781506e+09    900.000000   \n",
       "\n",
       "         vote_count  vote_average  release_year    budget_adj   revenue_adj  \n",
       "count  10866.000000  10866.000000  10866.000000  1.086600e+04  1.086600e+04  \n",
       "mean     217.389748      5.974922   2001.322658  1.755104e+07  5.136436e+07  \n",
       "std      575.619058      0.935142     12.812941  3.430616e+07  1.446325e+08  \n",
       "min       10.000000      1.500000   1960.000000  0.000000e+00  0.000000e+00  \n",
       "25%       17.000000      5.400000   1995.000000  0.000000e+00  0.000000e+00  \n",
       "50%       38.000000      6.000000   2006.000000  0.000000e+00  0.000000e+00  \n",
       "75%      145.750000      6.600000   2011.000000  2.085325e+07  3.369710e+07  \n",
       "max     9767.000000      9.200000   2015.000000  4.250000e+08  2.827124e+09  "
      ]
     },
     "execution_count": 4,
     "metadata": {},
     "output_type": "execute_result"
    }
   ],
   "source": [
    "# describe the data and collect some statistics about the data\n",
    "data.describe()"
   ]
  },
  {
   "cell_type": "markdown",
   "metadata": {},
   "source": [
    "\n",
    "As observed budget and revenue has minimum, 25% and 50% percentile data to be 0. Since it is not practical to have zero budget or revenue, the data might not be enough reliable when considering budget and revenue. Revenue could be zero however, if the movie is not relased, however, the min value of release_year points to 1960 which means all the movies in the database are released at some point of time. Interestingly, min value of runtime is zero as well, which could not be a possibility.\n",
    "\n",
    "So far we know the following:\n",
    "1. Budget of 0.00 cannot be a possibility and this is definitely a missing data \n",
    "2. 50% (or more) of the Budget data is 0.00, so we cannot delete this data as our sample size becomes very small.\n",
    "3. Revenue of 0.00 can be a possibility but since all movies have a release date, revenue also has missing data\n",
    "4. 50% (or more) of the Revenue data is 0.00, so we cannot delete this data\n",
    "5. Runtime of 0 is not possible but we need to further analyze if this is true or missing data."
   ]
  },
  {
   "cell_type": "code",
   "execution_count": 5,
   "metadata": {},
   "outputs": [
    {
     "data": {
      "text/html": [
       "<div>\n",
       "<style scoped>\n",
       "    .dataframe tbody tr th:only-of-type {\n",
       "        vertical-align: middle;\n",
       "    }\n",
       "\n",
       "    .dataframe tbody tr th {\n",
       "        vertical-align: top;\n",
       "    }\n",
       "\n",
       "    .dataframe thead th {\n",
       "        text-align: right;\n",
       "    }\n",
       "</style>\n",
       "<table border=\"1\" class=\"dataframe\">\n",
       "  <thead>\n",
       "    <tr style=\"text-align: right;\">\n",
       "      <th></th>\n",
       "      <th>id</th>\n",
       "      <th>imdb_id</th>\n",
       "      <th>popularity</th>\n",
       "      <th>budget</th>\n",
       "      <th>revenue</th>\n",
       "      <th>original_title</th>\n",
       "      <th>cast</th>\n",
       "      <th>homepage</th>\n",
       "      <th>director</th>\n",
       "      <th>tagline</th>\n",
       "      <th>...</th>\n",
       "      <th>overview</th>\n",
       "      <th>runtime</th>\n",
       "      <th>genres</th>\n",
       "      <th>production_companies</th>\n",
       "      <th>release_date</th>\n",
       "      <th>vote_count</th>\n",
       "      <th>vote_average</th>\n",
       "      <th>release_year</th>\n",
       "      <th>budget_adj</th>\n",
       "      <th>revenue_adj</th>\n",
       "    </tr>\n",
       "  </thead>\n",
       "  <tbody>\n",
       "    <tr>\n",
       "      <th>92</th>\n",
       "      <td>370687</td>\n",
       "      <td>tt3608646</td>\n",
       "      <td>1.876037</td>\n",
       "      <td>0</td>\n",
       "      <td>0</td>\n",
       "      <td>Mythica: The Necromancer</td>\n",
       "      <td>Melanie Stone|Adam Johnson|Kevin Sorbo|Nicola ...</td>\n",
       "      <td>http://www.mythicamovie.com/#!blank/y9ake</td>\n",
       "      <td>A. Todd Smith</td>\n",
       "      <td>NaN</td>\n",
       "      <td>...</td>\n",
       "      <td>Mallister takes Thane prisoner and forces Mare...</td>\n",
       "      <td>0</td>\n",
       "      <td>Fantasy|Action|Adventure</td>\n",
       "      <td>Arrowstorm Entertainment|Camera 40 Productions...</td>\n",
       "      <td>12/19/15</td>\n",
       "      <td>11</td>\n",
       "      <td>5.4</td>\n",
       "      <td>2015</td>\n",
       "      <td>0.0</td>\n",
       "      <td>0.0</td>\n",
       "    </tr>\n",
       "    <tr>\n",
       "      <th>334</th>\n",
       "      <td>361931</td>\n",
       "      <td>tt5065822</td>\n",
       "      <td>0.357654</td>\n",
       "      <td>0</td>\n",
       "      <td>0</td>\n",
       "      <td>Ronaldo</td>\n",
       "      <td>Cristiano Ronaldo</td>\n",
       "      <td>http://www.ronaldothefilm.com</td>\n",
       "      <td>Anthony Wonke</td>\n",
       "      <td>Astonishing. Intimate. Definitive.</td>\n",
       "      <td>...</td>\n",
       "      <td>Filmed over 14 months with unprecedented acces...</td>\n",
       "      <td>0</td>\n",
       "      <td>Documentary</td>\n",
       "      <td>On The Corner Films|We Came, We Saw, We Conque...</td>\n",
       "      <td>11/9/15</td>\n",
       "      <td>80</td>\n",
       "      <td>6.5</td>\n",
       "      <td>2015</td>\n",
       "      <td>0.0</td>\n",
       "      <td>0.0</td>\n",
       "    </tr>\n",
       "    <tr>\n",
       "      <th>410</th>\n",
       "      <td>339342</td>\n",
       "      <td>tt2948712</td>\n",
       "      <td>0.097514</td>\n",
       "      <td>0</td>\n",
       "      <td>0</td>\n",
       "      <td>Anarchy Parlor</td>\n",
       "      <td>Robert LaSardo|Jordan James Smith|Sara Fabel|T...</td>\n",
       "      <td>NaN</td>\n",
       "      <td>Kenny Gage|Devon Downs</td>\n",
       "      <td>NaN</td>\n",
       "      <td>...</td>\n",
       "      <td>Six young college hopefuls vacationing and par...</td>\n",
       "      <td>0</td>\n",
       "      <td>Horror</td>\n",
       "      <td>NaN</td>\n",
       "      <td>1/1/15</td>\n",
       "      <td>15</td>\n",
       "      <td>5.6</td>\n",
       "      <td>2015</td>\n",
       "      <td>0.0</td>\n",
       "      <td>0.0</td>\n",
       "    </tr>\n",
       "  </tbody>\n",
       "</table>\n",
       "<p>3 rows × 21 columns</p>\n",
       "</div>"
      ],
      "text/plain": [
       "         id    imdb_id  popularity  budget  revenue            original_title  \\\n",
       "92   370687  tt3608646    1.876037       0        0  Mythica: The Necromancer   \n",
       "334  361931  tt5065822    0.357654       0        0                   Ronaldo   \n",
       "410  339342  tt2948712    0.097514       0        0            Anarchy Parlor   \n",
       "\n",
       "                                                  cast  \\\n",
       "92   Melanie Stone|Adam Johnson|Kevin Sorbo|Nicola ...   \n",
       "334                                  Cristiano Ronaldo   \n",
       "410  Robert LaSardo|Jordan James Smith|Sara Fabel|T...   \n",
       "\n",
       "                                      homepage                director  \\\n",
       "92   http://www.mythicamovie.com/#!blank/y9ake           A. Todd Smith   \n",
       "334              http://www.ronaldothefilm.com           Anthony Wonke   \n",
       "410                                        NaN  Kenny Gage|Devon Downs   \n",
       "\n",
       "                                tagline     ...       \\\n",
       "92                                  NaN     ...        \n",
       "334  Astonishing. Intimate. Definitive.     ...        \n",
       "410                                 NaN     ...        \n",
       "\n",
       "                                              overview runtime  \\\n",
       "92   Mallister takes Thane prisoner and forces Mare...       0   \n",
       "334  Filmed over 14 months with unprecedented acces...       0   \n",
       "410  Six young college hopefuls vacationing and par...       0   \n",
       "\n",
       "                       genres  \\\n",
       "92   Fantasy|Action|Adventure   \n",
       "334               Documentary   \n",
       "410                    Horror   \n",
       "\n",
       "                                  production_companies release_date  \\\n",
       "92   Arrowstorm Entertainment|Camera 40 Productions...     12/19/15   \n",
       "334  On The Corner Films|We Came, We Saw, We Conque...      11/9/15   \n",
       "410                                                NaN       1/1/15   \n",
       "\n",
       "    vote_count  vote_average  release_year  budget_adj  revenue_adj  \n",
       "92          11           5.4          2015         0.0          0.0  \n",
       "334         80           6.5          2015         0.0          0.0  \n",
       "410         15           5.6          2015         0.0          0.0  \n",
       "\n",
       "[3 rows x 21 columns]"
      ]
     },
     "execution_count": 5,
     "metadata": {},
     "output_type": "execute_result"
    }
   ],
   "source": [
    "# Check for details about movies that have runtime of zero\n",
    "\n",
    "runtime_data = data.query('runtime == 0')\n",
    "runtime_data.head(3)"
   ]
  },
  {
   "cell_type": "markdown",
   "metadata": {},
   "source": [
    "Printing three rows from the data where runitme is zero. If we take the first entry \"Mythica: The Necromancer\", it is observed at http://watch.arrowstormentertainment.com/ that, the actual runtime is 95 minutes. So this is again a missing data and not actual data. \n",
    "\n",
    "Also, for all these three movies, their budget (and revenue) values are zero which is again not actual data. To limit the dataset to correct data and reduce missing data as much as possible, we can consider to remove movies that have a revenue of zero provided provided the budget is also zero for these entries and number of such movies is quite little compared to the actual data size. \n",
    "\n",
    "Lets see how many movies have both runtime and budget as zero"
   ]
  },
  {
   "cell_type": "code",
   "execution_count": 6,
   "metadata": {},
   "outputs": [
    {
     "data": {
      "text/plain": [
       "runtime  budget \n",
       "0        0          28\n",
       "         2000000     1\n",
       "         3250000     1\n",
       "         6000000     1\n",
       "2        0           5\n",
       "Name: id, dtype: int64"
      ]
     },
     "execution_count": 6,
     "metadata": {},
     "output_type": "execute_result"
    }
   ],
   "source": [
    "# Count number of movies whose runtime and budget values are both zero\n",
    "number_of_zero_runtime_movies =  (data.groupby(['runtime', 'budget']).count()['id'])\n",
    "number_of_zero_runtime_movies.head(5)"
   ]
  },
  {
   "cell_type": "markdown",
   "metadata": {},
   "source": [
    "\n",
    "It is observed that, about 31 movies have a runtime of zero of which 28 have even a budget of zero. So we can safely discard this data from our dataset. Since there are only 3 additional rows with runtime of zero but budget not zero, we could drop them too as runtime of zero doesn't make any sense eitherways.\n",
    "\n",
    "Lets now find if there are any duplicate rows in the given data."
   ]
  },
  {
   "cell_type": "code",
   "execution_count": 7,
   "metadata": {},
   "outputs": [
    {
     "data": {
      "text/html": [
       "<div>\n",
       "<style scoped>\n",
       "    .dataframe tbody tr th:only-of-type {\n",
       "        vertical-align: middle;\n",
       "    }\n",
       "\n",
       "    .dataframe tbody tr th {\n",
       "        vertical-align: top;\n",
       "    }\n",
       "\n",
       "    .dataframe thead th {\n",
       "        text-align: right;\n",
       "    }\n",
       "</style>\n",
       "<table border=\"1\" class=\"dataframe\">\n",
       "  <thead>\n",
       "    <tr style=\"text-align: right;\">\n",
       "      <th></th>\n",
       "      <th>id</th>\n",
       "      <th>imdb_id</th>\n",
       "      <th>popularity</th>\n",
       "      <th>budget</th>\n",
       "      <th>revenue</th>\n",
       "      <th>original_title</th>\n",
       "      <th>cast</th>\n",
       "      <th>homepage</th>\n",
       "      <th>director</th>\n",
       "      <th>tagline</th>\n",
       "      <th>...</th>\n",
       "      <th>overview</th>\n",
       "      <th>runtime</th>\n",
       "      <th>genres</th>\n",
       "      <th>production_companies</th>\n",
       "      <th>release_date</th>\n",
       "      <th>vote_count</th>\n",
       "      <th>vote_average</th>\n",
       "      <th>release_year</th>\n",
       "      <th>budget_adj</th>\n",
       "      <th>revenue_adj</th>\n",
       "    </tr>\n",
       "  </thead>\n",
       "  <tbody>\n",
       "    <tr>\n",
       "      <th>2090</th>\n",
       "      <td>42194</td>\n",
       "      <td>tt0411951</td>\n",
       "      <td>0.59643</td>\n",
       "      <td>30000000</td>\n",
       "      <td>967000</td>\n",
       "      <td>TEKKEN</td>\n",
       "      <td>Jon Foo|Kelly Overton|Cary-Hiroyuki Tagawa|Ian...</td>\n",
       "      <td>NaN</td>\n",
       "      <td>Dwight H. Little</td>\n",
       "      <td>Survival is no game</td>\n",
       "      <td>...</td>\n",
       "      <td>In the year of 2039, after World Wars destroy ...</td>\n",
       "      <td>92</td>\n",
       "      <td>Crime|Drama|Action|Thriller|Science Fiction</td>\n",
       "      <td>Namco|Light Song Films</td>\n",
       "      <td>3/20/10</td>\n",
       "      <td>110</td>\n",
       "      <td>5.0</td>\n",
       "      <td>2010</td>\n",
       "      <td>30000000.0</td>\n",
       "      <td>967000.0</td>\n",
       "    </tr>\n",
       "  </tbody>\n",
       "</table>\n",
       "<p>1 rows × 21 columns</p>\n",
       "</div>"
      ],
      "text/plain": [
       "         id    imdb_id  popularity    budget  revenue original_title  \\\n",
       "2090  42194  tt0411951     0.59643  30000000   967000         TEKKEN   \n",
       "\n",
       "                                                   cast homepage  \\\n",
       "2090  Jon Foo|Kelly Overton|Cary-Hiroyuki Tagawa|Ian...      NaN   \n",
       "\n",
       "              director              tagline     ...       \\\n",
       "2090  Dwight H. Little  Survival is no game     ...        \n",
       "\n",
       "                                               overview runtime  \\\n",
       "2090  In the year of 2039, after World Wars destroy ...      92   \n",
       "\n",
       "                                           genres    production_companies  \\\n",
       "2090  Crime|Drama|Action|Thriller|Science Fiction  Namco|Light Song Films   \n",
       "\n",
       "     release_date vote_count  vote_average  release_year  budget_adj  \\\n",
       "2090      3/20/10        110           5.0          2010  30000000.0   \n",
       "\n",
       "      revenue_adj  \n",
       "2090     967000.0  \n",
       "\n",
       "[1 rows x 21 columns]"
      ]
     },
     "execution_count": 7,
     "metadata": {},
     "output_type": "execute_result"
    }
   ],
   "source": [
    "# Find duplicated entries\n",
    "data[data.duplicated()]"
   ]
  },
  {
   "cell_type": "markdown",
   "metadata": {},
   "source": [
    "\n",
    "\n",
    "\n",
    "There is only one duplicate found. Lets see how many times it might have actually duplicated.\n",
    "\n"
   ]
  },
  {
   "cell_type": "code",
   "execution_count": 8,
   "metadata": {},
   "outputs": [
    {
     "data": {
      "text/html": [
       "<div>\n",
       "<style scoped>\n",
       "    .dataframe tbody tr th:only-of-type {\n",
       "        vertical-align: middle;\n",
       "    }\n",
       "\n",
       "    .dataframe tbody tr th {\n",
       "        vertical-align: top;\n",
       "    }\n",
       "\n",
       "    .dataframe thead th {\n",
       "        text-align: right;\n",
       "    }\n",
       "</style>\n",
       "<table border=\"1\" class=\"dataframe\">\n",
       "  <thead>\n",
       "    <tr style=\"text-align: right;\">\n",
       "      <th></th>\n",
       "      <th>id</th>\n",
       "      <th>imdb_id</th>\n",
       "      <th>popularity</th>\n",
       "      <th>budget</th>\n",
       "      <th>revenue</th>\n",
       "      <th>original_title</th>\n",
       "      <th>cast</th>\n",
       "      <th>homepage</th>\n",
       "      <th>director</th>\n",
       "      <th>tagline</th>\n",
       "      <th>...</th>\n",
       "      <th>overview</th>\n",
       "      <th>runtime</th>\n",
       "      <th>genres</th>\n",
       "      <th>production_companies</th>\n",
       "      <th>release_date</th>\n",
       "      <th>vote_count</th>\n",
       "      <th>vote_average</th>\n",
       "      <th>release_year</th>\n",
       "      <th>budget_adj</th>\n",
       "      <th>revenue_adj</th>\n",
       "    </tr>\n",
       "  </thead>\n",
       "  <tbody>\n",
       "    <tr>\n",
       "      <th>2089</th>\n",
       "      <td>42194</td>\n",
       "      <td>tt0411951</td>\n",
       "      <td>0.59643</td>\n",
       "      <td>30000000</td>\n",
       "      <td>967000</td>\n",
       "      <td>TEKKEN</td>\n",
       "      <td>Jon Foo|Kelly Overton|Cary-Hiroyuki Tagawa|Ian...</td>\n",
       "      <td>NaN</td>\n",
       "      <td>Dwight H. Little</td>\n",
       "      <td>Survival is no game</td>\n",
       "      <td>...</td>\n",
       "      <td>In the year of 2039, after World Wars destroy ...</td>\n",
       "      <td>92</td>\n",
       "      <td>Crime|Drama|Action|Thriller|Science Fiction</td>\n",
       "      <td>Namco|Light Song Films</td>\n",
       "      <td>3/20/10</td>\n",
       "      <td>110</td>\n",
       "      <td>5.0</td>\n",
       "      <td>2010</td>\n",
       "      <td>30000000.0</td>\n",
       "      <td>967000.0</td>\n",
       "    </tr>\n",
       "    <tr>\n",
       "      <th>2090</th>\n",
       "      <td>42194</td>\n",
       "      <td>tt0411951</td>\n",
       "      <td>0.59643</td>\n",
       "      <td>30000000</td>\n",
       "      <td>967000</td>\n",
       "      <td>TEKKEN</td>\n",
       "      <td>Jon Foo|Kelly Overton|Cary-Hiroyuki Tagawa|Ian...</td>\n",
       "      <td>NaN</td>\n",
       "      <td>Dwight H. Little</td>\n",
       "      <td>Survival is no game</td>\n",
       "      <td>...</td>\n",
       "      <td>In the year of 2039, after World Wars destroy ...</td>\n",
       "      <td>92</td>\n",
       "      <td>Crime|Drama|Action|Thriller|Science Fiction</td>\n",
       "      <td>Namco|Light Song Films</td>\n",
       "      <td>3/20/10</td>\n",
       "      <td>110</td>\n",
       "      <td>5.0</td>\n",
       "      <td>2010</td>\n",
       "      <td>30000000.0</td>\n",
       "      <td>967000.0</td>\n",
       "    </tr>\n",
       "  </tbody>\n",
       "</table>\n",
       "<p>2 rows × 21 columns</p>\n",
       "</div>"
      ],
      "text/plain": [
       "         id    imdb_id  popularity    budget  revenue original_title  \\\n",
       "2089  42194  tt0411951     0.59643  30000000   967000         TEKKEN   \n",
       "2090  42194  tt0411951     0.59643  30000000   967000         TEKKEN   \n",
       "\n",
       "                                                   cast homepage  \\\n",
       "2089  Jon Foo|Kelly Overton|Cary-Hiroyuki Tagawa|Ian...      NaN   \n",
       "2090  Jon Foo|Kelly Overton|Cary-Hiroyuki Tagawa|Ian...      NaN   \n",
       "\n",
       "              director              tagline     ...       \\\n",
       "2089  Dwight H. Little  Survival is no game     ...        \n",
       "2090  Dwight H. Little  Survival is no game     ...        \n",
       "\n",
       "                                               overview runtime  \\\n",
       "2089  In the year of 2039, after World Wars destroy ...      92   \n",
       "2090  In the year of 2039, after World Wars destroy ...      92   \n",
       "\n",
       "                                           genres    production_companies  \\\n",
       "2089  Crime|Drama|Action|Thriller|Science Fiction  Namco|Light Song Films   \n",
       "2090  Crime|Drama|Action|Thriller|Science Fiction  Namco|Light Song Films   \n",
       "\n",
       "     release_date vote_count  vote_average  release_year  budget_adj  \\\n",
       "2089      3/20/10        110           5.0          2010  30000000.0   \n",
       "2090      3/20/10        110           5.0          2010  30000000.0   \n",
       "\n",
       "      revenue_adj  \n",
       "2089     967000.0  \n",
       "2090     967000.0  \n",
       "\n",
       "[2 rows x 21 columns]"
      ]
     },
     "execution_count": 8,
     "metadata": {},
     "output_type": "execute_result"
    }
   ],
   "source": [
    "# Bring all the rows that have an IMDB ID of tt0411951 as IMDB ID per movie will be unique \n",
    "tekken_data = data.query('imdb_id == \"tt0411951\"')\n",
    "tekken_data"
   ]
  },
  {
   "cell_type": "markdown",
   "metadata": {},
   "source": [
    "### Data Cleaning based on the analysis\n",
    "\n",
    "1. We drop duplicates\n",
    "2. We delete columns that are not required for answering the above mentioned queries (imdb_id, homepage, tagline, overview, budget_adj and revenue_adj)\n",
    "3. Drop movies whose runtime is zero and budget is zero (Since there are only 3 additional rows with runtime of zero but budget not zero, we could drop them too as runtime of zero doesn't make any sense eitherways, so we drop all movies with runtime of zero).\n",
    "4. Drop NULL valued columns for cast (10790), director (10822) and genre (10843) as the number of missing ones are limited.\n",
    "5. Replace zero valued columns with null values in the budget and revenue columns (as we cannot delete them and do not want the 0's to effect our analysis)."
   ]
  },
  {
   "cell_type": "code",
   "execution_count": 9,
   "metadata": {},
   "outputs": [],
   "source": [
    "# 1. Drop duplicates\n",
    "data.drop_duplicates(inplace=True)"
   ]
  },
  {
   "cell_type": "code",
   "execution_count": 10,
   "metadata": {},
   "outputs": [
    {
     "data": {
      "text/plain": [
       "10865"
      ]
     },
     "execution_count": 10,
     "metadata": {},
     "output_type": "execute_result"
    }
   ],
   "source": [
    "# Confirm the deletion of duplicates: Total number of rows should be -1 from the actual total of 10866\n",
    "data.count()[0]"
   ]
  },
  {
   "cell_type": "code",
   "execution_count": 11,
   "metadata": {},
   "outputs": [],
   "source": [
    "# 2. Delete columns that we do not require for answering and aforementioned queries.\n",
    "columns_to_drop = ['imdb_id', 'homepage', 'tagline', 'overview', 'budget_adj', 'revenue_adj']\n",
    "data.drop(columns_to_drop, axis=1, inplace=True)"
   ]
  },
  {
   "cell_type": "code",
   "execution_count": 12,
   "metadata": {},
   "outputs": [
    {
     "name": "stdout",
     "output_type": "stream",
     "text": [
      "<class 'pandas.core.frame.DataFrame'>\n",
      "Int64Index: 10865 entries, 0 to 10865\n",
      "Data columns (total 15 columns):\n",
      "id                      10865 non-null int64\n",
      "popularity              10865 non-null float64\n",
      "budget                  10865 non-null int64\n",
      "revenue                 10865 non-null int64\n",
      "original_title          10865 non-null object\n",
      "cast                    10789 non-null object\n",
      "director                10821 non-null object\n",
      "keywords                9372 non-null object\n",
      "runtime                 10865 non-null int64\n",
      "genres                  10842 non-null object\n",
      "production_companies    9835 non-null object\n",
      "release_date            10865 non-null object\n",
      "vote_count              10865 non-null int64\n",
      "vote_average            10865 non-null float64\n",
      "release_year            10865 non-null int64\n",
      "dtypes: float64(2), int64(6), object(7)\n",
      "memory usage: 1.3+ MB\n"
     ]
    }
   ],
   "source": [
    "# Confirm that the columns are successfully deleted. There should be only 15 columns out of 21\n",
    "data.info()"
   ]
  },
  {
   "cell_type": "code",
   "execution_count": 13,
   "metadata": {},
   "outputs": [],
   "source": [
    "# 3. Drop movies whose rutime is zero\n",
    "data.query('runtime != 0', inplace=True)"
   ]
  },
  {
   "cell_type": "code",
   "execution_count": 14,
   "metadata": {},
   "outputs": [
    {
     "data": {
      "text/html": [
       "<div>\n",
       "<style scoped>\n",
       "    .dataframe tbody tr th:only-of-type {\n",
       "        vertical-align: middle;\n",
       "    }\n",
       "\n",
       "    .dataframe tbody tr th {\n",
       "        vertical-align: top;\n",
       "    }\n",
       "\n",
       "    .dataframe thead th {\n",
       "        text-align: right;\n",
       "    }\n",
       "</style>\n",
       "<table border=\"1\" class=\"dataframe\">\n",
       "  <thead>\n",
       "    <tr style=\"text-align: right;\">\n",
       "      <th></th>\n",
       "      <th>id</th>\n",
       "      <th>popularity</th>\n",
       "      <th>budget</th>\n",
       "      <th>revenue</th>\n",
       "      <th>original_title</th>\n",
       "      <th>cast</th>\n",
       "      <th>director</th>\n",
       "      <th>keywords</th>\n",
       "      <th>runtime</th>\n",
       "      <th>genres</th>\n",
       "      <th>production_companies</th>\n",
       "      <th>release_date</th>\n",
       "      <th>vote_count</th>\n",
       "      <th>vote_average</th>\n",
       "      <th>release_year</th>\n",
       "    </tr>\n",
       "  </thead>\n",
       "  <tbody>\n",
       "  </tbody>\n",
       "</table>\n",
       "</div>"
      ],
      "text/plain": [
       "Empty DataFrame\n",
       "Columns: [id, popularity, budget, revenue, original_title, cast, director, keywords, runtime, genres, production_companies, release_date, vote_count, vote_average, release_year]\n",
       "Index: []"
      ]
     },
     "execution_count": 14,
     "metadata": {},
     "output_type": "execute_result"
    }
   ],
   "source": [
    "# Confirm that movies whose runtime is zero are no longer present in the dataset. The result should display no rows.\n",
    "data.query('runtime == 0')"
   ]
  },
  {
   "cell_type": "code",
   "execution_count": 15,
   "metadata": {},
   "outputs": [],
   "source": [
    "# 4. Drop NULL valued columns for cast (10790), director (10822) and genre (10843)\n",
    "columns_to_drop_null_values = ['cast', 'director', 'genres']\n",
    "data.dropna(subset=columns_to_drop_null_values, how='any', inplace=True)"
   ]
  },
  {
   "cell_type": "code",
   "execution_count": 16,
   "metadata": {},
   "outputs": [
    {
     "data": {
      "text/plain": [
       "id                         0\n",
       "popularity                 0\n",
       "budget                     0\n",
       "revenue                    0\n",
       "original_title             0\n",
       "cast                       0\n",
       "director                   0\n",
       "keywords                1410\n",
       "runtime                    0\n",
       "genres                     0\n",
       "production_companies     944\n",
       "release_date               0\n",
       "vote_count                 0\n",
       "vote_average               0\n",
       "release_year               0\n",
       "dtype: int64"
      ]
     },
     "execution_count": 16,
     "metadata": {},
     "output_type": "execute_result"
    }
   ],
   "source": [
    "# Confirm that null valued columns for cast, director and genre are dropped. For cast, director and genre the sum should be zero.\n",
    "data.isnull().sum()"
   ]
  },
  {
   "cell_type": "code",
   "execution_count": 17,
   "metadata": {},
   "outputs": [],
   "source": [
    "# 5. Replace zero valued columns with null values in the budget and revenue columns\n",
    "data['budget'] = data['budget'].replace(0, np.NaN)\n",
    "data['revenue'] = data['revenue'].replace(0, np.NaN)"
   ]
  },
  {
   "cell_type": "code",
   "execution_count": 18,
   "metadata": {},
   "outputs": [
    {
     "name": "stdout",
     "output_type": "stream",
     "text": [
      "<class 'pandas.core.frame.DataFrame'>\n",
      "Int64Index: 10703 entries, 0 to 10865\n",
      "Data columns (total 15 columns):\n",
      "id                      10703 non-null int64\n",
      "popularity              10703 non-null float64\n",
      "budget                  5150 non-null float64\n",
      "revenue                 4843 non-null float64\n",
      "original_title          10703 non-null object\n",
      "cast                    10703 non-null object\n",
      "director                10703 non-null object\n",
      "keywords                9293 non-null object\n",
      "runtime                 10703 non-null int64\n",
      "genres                  10703 non-null object\n",
      "production_companies    9759 non-null object\n",
      "release_date            10703 non-null object\n",
      "vote_count              10703 non-null int64\n",
      "vote_average            10703 non-null float64\n",
      "release_year            10703 non-null int64\n",
      "dtypes: float64(4), int64(4), object(7)\n",
      "memory usage: 1.3+ MB\n"
     ]
    }
   ],
   "source": [
    "# Confirm that 0's are replaced with NULL values in budget and revenue columns. \n",
    "# The count for budget and revenue must be equal to the total entry count (here it is 10703)\n",
    "data.info()"
   ]
  },
  {
   "cell_type": "markdown",
   "metadata": {},
   "source": [
    "\n",
    "After the clean up, we are finally left with 10703 rows of data with 15 columns each. It was not a complete cleanup of rows holding NULL values in some columns like (production_companies, keywords, budget and revenue), however the data is still useful. For production_companies and keywords though, the NULL value percentage is not very high."
   ]
  },
  {
   "cell_type": "code",
   "execution_count": 19,
   "metadata": {},
   "outputs": [
    {
     "data": {
      "text/html": [
       "<div>\n",
       "<style scoped>\n",
       "    .dataframe tbody tr th:only-of-type {\n",
       "        vertical-align: middle;\n",
       "    }\n",
       "\n",
       "    .dataframe tbody tr th {\n",
       "        vertical-align: top;\n",
       "    }\n",
       "\n",
       "    .dataframe thead th {\n",
       "        text-align: right;\n",
       "    }\n",
       "</style>\n",
       "<table border=\"1\" class=\"dataframe\">\n",
       "  <thead>\n",
       "    <tr style=\"text-align: right;\">\n",
       "      <th></th>\n",
       "      <th>id</th>\n",
       "      <th>popularity</th>\n",
       "      <th>budget</th>\n",
       "      <th>revenue</th>\n",
       "      <th>runtime</th>\n",
       "      <th>vote_count</th>\n",
       "      <th>vote_average</th>\n",
       "      <th>release_year</th>\n",
       "    </tr>\n",
       "  </thead>\n",
       "  <tbody>\n",
       "    <tr>\n",
       "      <th>count</th>\n",
       "      <td>10703.000000</td>\n",
       "      <td>10703.000000</td>\n",
       "      <td>5.150000e+03</td>\n",
       "      <td>4.843000e+03</td>\n",
       "      <td>10703.000000</td>\n",
       "      <td>10703.000000</td>\n",
       "      <td>10703.000000</td>\n",
       "      <td>10703.000000</td>\n",
       "    </tr>\n",
       "    <tr>\n",
       "      <th>mean</th>\n",
       "      <td>64904.988321</td>\n",
       "      <td>0.653818</td>\n",
       "      <td>3.084401e+07</td>\n",
       "      <td>8.933981e+07</td>\n",
       "      <td>102.736896</td>\n",
       "      <td>220.333178</td>\n",
       "      <td>5.966112</td>\n",
       "      <td>2001.235355</td>\n",
       "    </tr>\n",
       "    <tr>\n",
       "      <th>std</th>\n",
       "      <td>91161.996308</td>\n",
       "      <td>1.005687</td>\n",
       "      <td>3.893782e+07</td>\n",
       "      <td>1.621546e+08</td>\n",
       "      <td>30.079331</td>\n",
       "      <td>579.481969</td>\n",
       "      <td>0.930155</td>\n",
       "      <td>12.825920</td>\n",
       "    </tr>\n",
       "    <tr>\n",
       "      <th>min</th>\n",
       "      <td>5.000000</td>\n",
       "      <td>0.000188</td>\n",
       "      <td>1.000000e+00</td>\n",
       "      <td>2.000000e+00</td>\n",
       "      <td>3.000000</td>\n",
       "      <td>10.000000</td>\n",
       "      <td>1.500000</td>\n",
       "      <td>1960.000000</td>\n",
       "    </tr>\n",
       "    <tr>\n",
       "      <th>25%</th>\n",
       "      <td>10538.500000</td>\n",
       "      <td>0.211533</td>\n",
       "      <td>6.000000e+06</td>\n",
       "      <td>7.779664e+06</td>\n",
       "      <td>90.000000</td>\n",
       "      <td>17.000000</td>\n",
       "      <td>5.400000</td>\n",
       "      <td>1995.000000</td>\n",
       "    </tr>\n",
       "    <tr>\n",
       "      <th>50%</th>\n",
       "      <td>20235.000000</td>\n",
       "      <td>0.388036</td>\n",
       "      <td>1.750000e+07</td>\n",
       "      <td>3.191160e+07</td>\n",
       "      <td>99.000000</td>\n",
       "      <td>39.000000</td>\n",
       "      <td>6.000000</td>\n",
       "      <td>2006.000000</td>\n",
       "    </tr>\n",
       "    <tr>\n",
       "      <th>75%</th>\n",
       "      <td>73637.000000</td>\n",
       "      <td>0.722438</td>\n",
       "      <td>4.000000e+07</td>\n",
       "      <td>1.000000e+08</td>\n",
       "      <td>112.000000</td>\n",
       "      <td>149.000000</td>\n",
       "      <td>6.600000</td>\n",
       "      <td>2011.000000</td>\n",
       "    </tr>\n",
       "    <tr>\n",
       "      <th>max</th>\n",
       "      <td>417859.000000</td>\n",
       "      <td>32.985763</td>\n",
       "      <td>4.250000e+08</td>\n",
       "      <td>2.781506e+09</td>\n",
       "      <td>900.000000</td>\n",
       "      <td>9767.000000</td>\n",
       "      <td>9.200000</td>\n",
       "      <td>2015.000000</td>\n",
       "    </tr>\n",
       "  </tbody>\n",
       "</table>\n",
       "</div>"
      ],
      "text/plain": [
       "                  id    popularity        budget       revenue       runtime  \\\n",
       "count   10703.000000  10703.000000  5.150000e+03  4.843000e+03  10703.000000   \n",
       "mean    64904.988321      0.653818  3.084401e+07  8.933981e+07    102.736896   \n",
       "std     91161.996308      1.005687  3.893782e+07  1.621546e+08     30.079331   \n",
       "min         5.000000      0.000188  1.000000e+00  2.000000e+00      3.000000   \n",
       "25%     10538.500000      0.211533  6.000000e+06  7.779664e+06     90.000000   \n",
       "50%     20235.000000      0.388036  1.750000e+07  3.191160e+07     99.000000   \n",
       "75%     73637.000000      0.722438  4.000000e+07  1.000000e+08    112.000000   \n",
       "max    417859.000000     32.985763  4.250000e+08  2.781506e+09    900.000000   \n",
       "\n",
       "         vote_count  vote_average  release_year  \n",
       "count  10703.000000  10703.000000  10703.000000  \n",
       "mean     220.333178      5.966112   2001.235355  \n",
       "std      579.481969      0.930155     12.825920  \n",
       "min       10.000000      1.500000   1960.000000  \n",
       "25%       17.000000      5.400000   1995.000000  \n",
       "50%       39.000000      6.000000   2006.000000  \n",
       "75%      149.000000      6.600000   2011.000000  \n",
       "max     9767.000000      9.200000   2015.000000  "
      ]
     },
     "execution_count": 19,
     "metadata": {},
     "output_type": "execute_result"
    }
   ],
   "source": [
    "data.describe()"
   ]
  },
  {
   "cell_type": "markdown",
   "metadata": {},
   "source": [
    "\n",
    "Since we replaced zero values to null values in budget and revenue data, both distribution of budget and revenue are better compared to zero."
   ]
  },
  {
   "cell_type": "markdown",
   "metadata": {},
   "source": [
    "<a id='eda'></a>\n",
    "## Exploratory Data Analysis\n",
    "\n",
    "### Research Question #1: Exploring of data\n",
    "\n",
    "1. Popularity over the years\n",
    "2. Distribution of revenue across popularity levels in the recent years\n",
    "3. Distribution of revenue across rating levels in the recent years\n",
    "\n",
    "#### Question 1: Popularity over the years\n",
    "Compute the mean of popularity per year and see the trends by plotting the lines. While 75 percentile of popularity is still under 1, there is a max of 32.98 which can tell presence of outliers in this diata, so median as well is computed."
   ]
  },
  {
   "cell_type": "code",
   "execution_count": 20,
   "metadata": {},
   "outputs": [
    {
     "data": {
      "text/plain": [
       "release_year\n",
       "2011    0.685607\n",
       "2012    0.620326\n",
       "2013    0.639309\n",
       "2014    0.910027\n",
       "2015    1.055081\n",
       "Name: popularity, dtype: float64"
      ]
     },
     "execution_count": 20,
     "metadata": {},
     "output_type": "execute_result"
    }
   ],
   "source": [
    "# Calculate mean of popularity and display the data of recent years\n",
    "popularity_mean = data.groupby('release_year').mean()['popularity']\n",
    "popularity_mean.tail()"
   ]
  },
  {
   "cell_type": "code",
   "execution_count": 21,
   "metadata": {},
   "outputs": [
    {
     "data": {
      "text/plain": [
       "release_year\n",
       "2011    0.420930\n",
       "2012    0.344263\n",
       "2013    0.356506\n",
       "2014    0.383337\n",
       "2015    0.407396\n",
       "Name: popularity, dtype: float64"
      ]
     },
     "execution_count": 21,
     "metadata": {},
     "output_type": "execute_result"
    }
   ],
   "source": [
    "# Calculate median of popularity and display the data of recent years\n",
    "popularity_median = data.groupby('release_year').median()['popularity']\n",
    "popularity_median.tail()"
   ]
  },
  {
   "cell_type": "code",
   "execution_count": 22,
   "metadata": {},
   "outputs": [
    {
     "data": {
      "image/png": "[encoded data removed]",
      "text/plain": [
       "<Figure size 648x288 with 1 Axes>"
      ]
     },
     "metadata": {
      "needs_background": "light"
     },
     "output_type": "display_data"
    }
   ],
   "source": [
    "# Data for x-axis and y-axis\n",
    "\n",
    "# index for x-axis\n",
    "popularity_mean_index = popularity_mean.index\n",
    "popularity_median_index = popularity_median.index\n",
    "\n",
    "# x1, y1 for mean data\n",
    "x1, y1 = popularity_mean_index, popularity_mean\n",
    "\n",
    "# x2, y2 for median data\n",
    "x2, y2 = popularity_median_index, popularity_median\n",
    "\n",
    "# Plot Size\n",
    "plt.figure(figsize=(9, 4))\n",
    "\n",
    "# Plot line chart for mean and median\n",
    "plt.plot(x1, y1, color = 'y', label = 'mean')\n",
    "plt.plot(x2, y2, color = 'b', label = 'median')\n",
    "\n",
    "# Plot title and labels\n",
    "plt.title('Popularity Over Recent Years')\n",
    "plt.xlabel('Year')\n",
    "plt.ylabel('Popularity');\n",
    "\n",
    "# Setup Legend\n",
    "plt.legend(loc='upper left')\n",
    "\n",
    "# Plot style\n",
    "sns.set_style('whitegrid')\n"
   ]
  },
  {
   "cell_type": "markdown",
   "metadata": {},
   "source": [
    "\n",
    "There is an increse in trend as observed from the popularity plot above. While the popularity mean has shot up in the latest year, population medium stayed smooth. However, the population median stayed almost the same over the recent years. \n",
    "\n",
    "\n",
    "#### Question: 2 The distribution of popularity in different revenue levels in recent years.\n",
    "\n",
    "The popularity in differnt revenue levels may be effected widely owing to the internet streaming, inflation etc.,. So it is difficult to infer any analysis on the trend of revenue. However, we can try categorizing revenue into several levels and see how the popularity falls across those levels. \n",
    "\n",
    "Lets divide revenue according to their quartile:"
   ]
  },
  {
   "cell_type": "code",
   "execution_count": 23,
   "metadata": {},
   "outputs": [],
   "source": [
    "# Define few functions and variables to reuse\n",
    "\n",
    "# Function for categorizing revenue into per quantile\n",
    "def categorize_per_quantile(data, column_name):\n",
    "    \n",
    "    # Find min and max values\n",
    "    min_value = data[column_name].min()\n",
    "    max_value = data[column_name].max()\n",
    "    \n",
    "    # Find quartiles\n",
    "    first_quantile = data[column_name].describe()[4]\n",
    "    second_quantile = data[column_name].describe()[5]\n",
    "    third_quantile = data[column_name].describe()[6]\n",
    "    \n",
    "    # Bin edges that will be used to \"cut\" the data into groups\n",
    "    bin_edges = [min_value, first_quantile, second_quantile, third_quantile, max_value]\n",
    " \n",
    "    # Labels for the four levels\n",
    "    bin_names = ['Low', 'Medium', 'High', 'Very High'] \n",
    "\n",
    "    # Creates a new new column and put the categorized data into it\n",
    "    name = '{}_levels'.format(column_name)\n",
    "    data[name] = pd.cut(data[column_name], bin_edges, labels=bin_names, include_lowest=True)\n",
    "    \n",
    "    # return categorized data\n",
    "    return data\n",
    "\n",
    "\n",
    "# Select recent five years \n",
    "years = [2011, 2012, 2013, 2014, 2015]\n",
    "\n",
    "\n",
    "def generate_categorization(datapoint):\n",
    "    # Create an empty dataframe\n",
    "    loc_data = pd.DataFrame()\n",
    "\n",
    "    # For each year, perform the following actions\n",
    "    for year in years:\n",
    "        # Prepare yearly dataframes\n",
    "        selected_year = data.query('release_year == \"%s\"' % year)\n",
    "    \n",
    "        # Apply the categorization\n",
    "        categorized_data = categorize_per_quantile(selected_year, datapoint) \n",
    "    \n",
    "        # Append the data into final_data\n",
    "        loc_data = loc_data.append(categorized_data)\n",
    "        \n",
    "    # Return the categorized dataframe\n",
    "    return loc_data\n",
    "\n",
    "# Plotting a bar chart using the final_data_summary dataframe\n",
    "width = 0.2 \n",
    "\n",
    "# Labels for the four budget level groups\n",
    "categories = ['Low', 'Medium', 'High', 'Very High'] \n",
    "\n",
    "# Colors\n",
    "# colors = ['#EE3224', '#F78F1E', '#FFC222', '#4fb427']\n",
    "colors = ['r', 'b', 'y', 'g']\n",
    "\n",
    "# Create a function to plot bars. This function generates graph while keeping revenue_\n",
    "def plot_bars(position, category, color, datapoint): \n",
    "    # Create a bar at position pos,\n",
    "    plt.bar(position, \n",
    "        # for 'Low',\n",
    "        final_summary.query('revenue_levels ==\"'+category+'\"')[datapoint], \n",
    "        # of width\n",
    "        width, \n",
    "        # with alpha 0.5\n",
    "        alpha=0.5, \n",
    "        # with color\n",
    "        color=color, \n",
    "        # with label Low\n",
    "        label=category)\n",
    "\n",
    "# Setup the plot labels and additional details        \n",
    "def setup_plot_additional_details(axes, name, description, position):        \n",
    "    # Set the y axis label\n",
    "    axes.set_ylabel(name)\n",
    "\n",
    "    # Set the chart's title\n",
    "    axes.set_title(description)\n",
    "\n",
    "    # Set the position of the x ticks\n",
    "    axes.set_xticks([p + 1.5 * width for p in position])\n",
    "\n",
    "    # Set the labels for the x ticks\n",
    "    axes.set_xticklabels([2011, 2012, 2013, 2014, 2015])\n"
   ]
  },
  {
   "cell_type": "code",
   "execution_count": 24,
   "metadata": {},
   "outputs": [
    {
     "name": "stdout",
     "output_type": "stream",
     "text": [
      "<class 'pandas.core.frame.DataFrame'>\n",
      "Int64Index: 3035 entries, 3371 to 628\n",
      "Data columns (total 16 columns):\n",
      "id                      3035 non-null int64\n",
      "popularity              3035 non-null float64\n",
      "budget                  1227 non-null float64\n",
      "revenue                 1143 non-null float64\n",
      "original_title          3035 non-null object\n",
      "cast                    3035 non-null object\n",
      "director                3035 non-null object\n",
      "keywords                2385 non-null object\n",
      "runtime                 3035 non-null int64\n",
      "genres                  3035 non-null object\n",
      "production_companies    2703 non-null object\n",
      "release_date            3035 non-null object\n",
      "vote_count              3035 non-null int64\n",
      "vote_average            3035 non-null float64\n",
      "release_year            3035 non-null int64\n",
      "revenue_levels          1143 non-null category\n",
      "dtypes: category(1), float64(4), int64(4), object(7)\n",
      "memory usage: 382.5+ KB\n"
     ]
    }
   ],
   "source": [
    "final_data = generate_categorization('revenue')\n",
    "final_data.info()"
   ]
  },
  {
   "cell_type": "code",
   "execution_count": 25,
   "metadata": {},
   "outputs": [
    {
     "data": {
      "text/html": [
       "<div>\n",
       "<style scoped>\n",
       "    .dataframe tbody tr th:only-of-type {\n",
       "        vertical-align: middle;\n",
       "    }\n",
       "\n",
       "    .dataframe tbody tr th {\n",
       "        vertical-align: top;\n",
       "    }\n",
       "\n",
       "    .dataframe thead th {\n",
       "        text-align: right;\n",
       "    }\n",
       "</style>\n",
       "<table border=\"1\" class=\"dataframe\">\n",
       "  <thead>\n",
       "    <tr style=\"text-align: right;\">\n",
       "      <th></th>\n",
       "      <th></th>\n",
       "      <th>id</th>\n",
       "      <th>popularity</th>\n",
       "      <th>budget</th>\n",
       "      <th>revenue</th>\n",
       "      <th>runtime</th>\n",
       "      <th>vote_count</th>\n",
       "      <th>vote_average</th>\n",
       "    </tr>\n",
       "    <tr>\n",
       "      <th>release_year</th>\n",
       "      <th>revenue_levels</th>\n",
       "      <th></th>\n",
       "      <th></th>\n",
       "      <th></th>\n",
       "      <th></th>\n",
       "      <th></th>\n",
       "      <th></th>\n",
       "      <th></th>\n",
       "    </tr>\n",
       "  </thead>\n",
       "  <tbody>\n",
       "    <tr>\n",
       "      <th rowspan=\"4\" valign=\"top\">2015</th>\n",
       "      <th>Low</th>\n",
       "      <td>301284.0</td>\n",
       "      <td>0.506000</td>\n",
       "      <td>7500000.0</td>\n",
       "      <td>228615.0</td>\n",
       "      <td>98.5</td>\n",
       "      <td>79.5</td>\n",
       "      <td>5.85</td>\n",
       "    </tr>\n",
       "    <tr>\n",
       "      <th>Medium</th>\n",
       "      <td>272606.5</td>\n",
       "      <td>0.921828</td>\n",
       "      <td>13000000.0</td>\n",
       "      <td>11893552.5</td>\n",
       "      <td>105.0</td>\n",
       "      <td>242.5</td>\n",
       "      <td>6.15</td>\n",
       "    </tr>\n",
       "    <tr>\n",
       "      <th>High</th>\n",
       "      <td>273980.0</td>\n",
       "      <td>1.750452</td>\n",
       "      <td>19000000.0</td>\n",
       "      <td>61365324.5</td>\n",
       "      <td>108.0</td>\n",
       "      <td>614.5</td>\n",
       "      <td>6.40</td>\n",
       "    </tr>\n",
       "    <tr>\n",
       "      <th>Very High</th>\n",
       "      <td>253770.0</td>\n",
       "      <td>3.923328</td>\n",
       "      <td>81000000.0</td>\n",
       "      <td>244935102.0</td>\n",
       "      <td>117.0</td>\n",
       "      <td>1576.5</td>\n",
       "      <td>6.50</td>\n",
       "    </tr>\n",
       "  </tbody>\n",
       "</table>\n",
       "</div>"
      ],
      "text/plain": [
       "                                   id  popularity      budget      revenue  \\\n",
       "release_year revenue_levels                                                  \n",
       "2015         Low             301284.0    0.506000   7500000.0     228615.0   \n",
       "             Medium          272606.5    0.921828  13000000.0   11893552.5   \n",
       "             High            273980.0    1.750452  19000000.0   61365324.5   \n",
       "             Very High       253770.0    3.923328  81000000.0  244935102.0   \n",
       "\n",
       "                             runtime  vote_count  vote_average  \n",
       "release_year revenue_levels                                     \n",
       "2015         Low                98.5        79.5          5.85  \n",
       "             Medium            105.0       242.5          6.15  \n",
       "             High              108.0       614.5          6.40  \n",
       "             Very High         117.0      1576.5          6.50  "
      ]
     },
     "execution_count": 25,
     "metadata": {},
     "output_type": "execute_result"
    }
   ],
   "source": [
    "# Group dataframe we created above with each revenue levels in each year\n",
    "final_summary = final_data.groupby(['release_year','revenue_levels']).median()\n",
    "final_summary.tail(4)"
   ]
  },
  {
   "cell_type": "code",
   "execution_count": 26,
   "metadata": {},
   "outputs": [
    {
     "data": {
      "image/png": "[encoded data removed]",
      "text/plain": [
       "<Figure size 720x360 with 1 Axes>"
      ]
     },
     "metadata": {},
     "output_type": "display_data"
    }
   ],
   "source": [
    "# Plot the bars for popularity\n",
    "\n",
    "# Bar graph positions and width\n",
    "pos = list(range(len(final_summary.query('revenue_levels == \"Low\"'))))\n",
    "fig, ax = plt.subplots(figsize=(10,5))\n",
    "    \n",
    "for index, category in enumerate(categories):\n",
    "        plot_bars([p + width*index for p in pos], category, colors[index], 'popularity')\n",
    "\n",
    "\n",
    "setup_plot_additional_details(ax, 'popularity', 'Popularity in Different Revenue Levels in Recent Five Years', pos)\n",
    "\n",
    "# Adding the legend and showing the plot\n",
    "plt.legend( loc='upper left')\n",
    "plt.grid()\n",
    "plt.show()"
   ]
  },
  {
   "cell_type": "markdown",
   "metadata": {},
   "source": [
    "In the last five years, as analogous, we can infer that revenue is directly proportional with popularity. Movies with high popularity resulted in higher revenue.\n",
    "\n",
    "#### Question 3: The distribution of revenue in different score rating levels in recent five years."
   ]
  },
  {
   "cell_type": "code",
   "execution_count": 27,
   "metadata": {},
   "outputs": [
    {
     "data": {
      "image/png": "[encoded data removed]",
      "text/plain": [
       "<Figure size 864x216 with 1 Axes>"
      ]
     },
     "metadata": {},
     "output_type": "display_data"
    }
   ],
   "source": [
    "# Plotting a bar chart using the final_data_summary dataframe\n",
    "\n",
    "# Bar graph positions and width\n",
    "pos = list(range(len(final_summary.query('revenue_levels == \"Low\"'))))\n",
    "width = 0.2 \n",
    "\n",
    "# Plotting the bars\n",
    "fig, ax_va = plt.subplots(figsize=(12,3))\n",
    "\n",
    "for index, category in enumerate(categories):\n",
    "        plot_bars([p + width*index for p in pos], category, colors[index], 'vote_average')\n",
    "\n",
    "\n",
    "setup_plot_additional_details(ax_va, 'vote_average', 'Vote Average in Different Revenue Levels in Recent Five Years', pos)\n",
    "\n",
    "\n",
    "\n",
    "# Adding the legend and showing the plot\n",
    "plt.legend( loc='upper left')\n",
    "plt.grid()\n",
    "plt.show()"
   ]
  },
  {
   "cell_type": "markdown",
   "metadata": {},
   "source": [
    "From the chart above, we can see that there is not much difference across revenue levels in terms of vote average. So it can be inferred that high revenue doesn't attract high votes.\n",
    "\n",
    "\n",
    "#### Research 1: Exploration Summary\n",
    "\n",
    "From this assessment, we inferred that movie popularity trend is growing since inception (of this data). Higher popularity accounted to higher revenue levels or vice versa in recent five years. However, the vote_average has shown little effect on the revenue generated."
   ]
  },
  {
   "cell_type": "markdown",
   "metadata": {},
   "source": [
    "### Research Question 2 - Data points (or) Attributes associated with Successful movies\n",
    "\n",
    "#### 1. What are the common datapoints for movies with high poularity\n",
    "#### 2. What are the common datapoints for movies with high voting scores\n",
    "\n"
   ]
  },
  {
   "cell_type": "markdown",
   "metadata": {},
   "source": [
    "### Question 1: What are the common datapoints for movies with high poularity\n",
    "\n",
    "To answer this question, we take the following attributes of the movie:\n",
    "- budget\n",
    "- cast\n",
    "- director\n",
    "- keywords\n",
    "- runtime\n",
    "- genres\n",
    "- production companies. \n",
    "\n",
    "The data provided by these attributes can be divided into two types:\n",
    "\n",
    "1. Quantitative data (dynamic data)\n",
    "- runtime\n",
    "- budget\n",
    "\n",
    "The runtime and budget data can be divided into four levels according to their quartiles: 'Low', 'Medium', 'High', 'Very High' across all the years of data provided. After the categorization is done, we can observe in which budget and revenue level does the successful movies (higher popularity and voting scores) fall into.\n",
    "\n",
    "\n",
    "2. Categorical data (static data)\n",
    "- cast\n",
    "- director\n",
    "- keywords\n",
    "- genres\n",
    "- production companies\n",
    "\n",
    "We filter top 5% of movies based on their popularity and high voting scores. From the top 5% dataset, we try to find prominent cast, director etc for their frequency in occurrance. We also filter low 5% of movies on their least popularity and low voting scores and try to match the frequency in occurrances of cast, director etc., and try to filter them from the top 5%.\n",
    "\n",
    "##### Preparation: Setup functions and Prepare data for analysis\n",
    "\n",
    "###### Setup functions"
   ]
  },
  {
   "cell_type": "code",
   "execution_count": 28,
   "metadata": {},
   "outputs": [],
   "source": [
    "# Prepare some functions and variables for reuse\n",
    "\n",
    "# Split pipe characters and return first few as per the requirement\n",
    "# num - the number of entries requrired to be returned after splitting\n",
    "def find_top_few(dataframe_col, num=3):\n",
    "    # split the characters in the input column and make it to a list\n",
    "    split_data = dataframe_col.str.cat(sep='|').split('|')\n",
    "    \n",
    "    # save split_data it to a dataframe\n",
    "    new_data = pd.DataFrame({'top' :split_data})\n",
    "\n",
    "    # count their number of occurrences and choose the first few as per the argument\n",
    "    top_few = new_data['top'].value_counts().head(num)\n",
    "    \n",
    "    # return top_few dataframe\n",
    "    return top_few\n",
    "\n",
    "# number of entries\n",
    "count = len(data.index.astype(int))\n",
    "five_percent = int(count*5/100)"
   ]
  },
  {
   "cell_type": "code",
   "execution_count": 29,
   "metadata": {},
   "outputs": [
    {
     "name": "stdout",
     "output_type": "stream",
     "text": [
      "<class 'pandas.core.frame.DataFrame'>\n",
      "Int64Index: 10703 entries, 0 to 10865\n",
      "Data columns (total 15 columns):\n",
      "id                      10703 non-null int64\n",
      "popularity              10703 non-null float64\n",
      "budget                  5150 non-null float64\n",
      "revenue                 4843 non-null float64\n",
      "original_title          10703 non-null object\n",
      "cast                    10703 non-null object\n",
      "director                10703 non-null object\n",
      "keywords                9293 non-null object\n",
      "runtime                 10703 non-null int64\n",
      "genres                  10703 non-null object\n",
      "production_companies    9759 non-null object\n",
      "release_date            10703 non-null object\n",
      "vote_count              10703 non-null int64\n",
      "vote_average            10703 non-null float64\n",
      "release_year            10703 non-null int64\n",
      "dtypes: float64(4), int64(4), object(7)\n",
      "memory usage: 1.3+ MB\n"
     ]
    }
   ],
   "source": [
    "data.info()"
   ]
  },
  {
   "cell_type": "markdown",
   "metadata": {},
   "source": [
    "###### Prepare data for analysis consisting of top 5% movies based on popularity, revenue and rating"
   ]
  },
  {
   "cell_type": "code",
   "execution_count": 30,
   "metadata": {},
   "outputs": [
    {
     "data": {
      "text/html": [
       "<div>\n",
       "<style scoped>\n",
       "    .dataframe tbody tr th:only-of-type {\n",
       "        vertical-align: middle;\n",
       "    }\n",
       "\n",
       "    .dataframe tbody tr th {\n",
       "        vertical-align: top;\n",
       "    }\n",
       "\n",
       "    .dataframe thead th {\n",
       "        text-align: right;\n",
       "    }\n",
       "</style>\n",
       "<table border=\"1\" class=\"dataframe\">\n",
       "  <thead>\n",
       "    <tr style=\"text-align: right;\">\n",
       "      <th></th>\n",
       "      <th>id</th>\n",
       "      <th>popularity</th>\n",
       "      <th>budget</th>\n",
       "      <th>revenue</th>\n",
       "      <th>original_title</th>\n",
       "      <th>cast</th>\n",
       "      <th>director</th>\n",
       "      <th>keywords</th>\n",
       "      <th>runtime</th>\n",
       "      <th>genres</th>\n",
       "      <th>production_companies</th>\n",
       "      <th>release_date</th>\n",
       "      <th>vote_count</th>\n",
       "      <th>vote_average</th>\n",
       "      <th>release_year</th>\n",
       "    </tr>\n",
       "  </thead>\n",
       "  <tbody>\n",
       "    <tr>\n",
       "      <th>0</th>\n",
       "      <td>539</td>\n",
       "      <td>2.610362</td>\n",
       "      <td>806948.0</td>\n",
       "      <td>32000000.0</td>\n",
       "      <td>Psycho</td>\n",
       "      <td>Anthony Perkins|Vera Miles|John Gavin|Janet Le...</td>\n",
       "      <td>Alfred Hitchcock</td>\n",
       "      <td>hotel|clerk|arizona|shower|rain</td>\n",
       "      <td>109</td>\n",
       "      <td>Drama|Horror|Thriller</td>\n",
       "      <td>Shamley Productions</td>\n",
       "      <td>8/14/60</td>\n",
       "      <td>1180</td>\n",
       "      <td>8.0</td>\n",
       "      <td>1960</td>\n",
       "    </tr>\n",
       "    <tr>\n",
       "      <th>1</th>\n",
       "      <td>966</td>\n",
       "      <td>1.872132</td>\n",
       "      <td>2000000.0</td>\n",
       "      <td>4905000.0</td>\n",
       "      <td>The Magnificent Seven</td>\n",
       "      <td>Yul Brynner|Eli Wallach|Steve McQueen|Charles ...</td>\n",
       "      <td>John Sturges</td>\n",
       "      <td>horse|village|friendship|remake|number in title</td>\n",
       "      <td>128</td>\n",
       "      <td>Action|Adventure|Western</td>\n",
       "      <td>The Mirisch Corporation|Alpha Productions</td>\n",
       "      <td>10/23/60</td>\n",
       "      <td>224</td>\n",
       "      <td>7.0</td>\n",
       "      <td>1960</td>\n",
       "    </tr>\n",
       "  </tbody>\n",
       "</table>\n",
       "</div>"
      ],
      "text/plain": [
       "    id  popularity     budget     revenue         original_title  \\\n",
       "0  539    2.610362   806948.0  32000000.0                 Psycho   \n",
       "1  966    1.872132  2000000.0   4905000.0  The Magnificent Seven   \n",
       "\n",
       "                                                cast          director  \\\n",
       "0  Anthony Perkins|Vera Miles|John Gavin|Janet Le...  Alfred Hitchcock   \n",
       "1  Yul Brynner|Eli Wallach|Steve McQueen|Charles ...      John Sturges   \n",
       "\n",
       "                                          keywords  runtime  \\\n",
       "0                  hotel|clerk|arizona|shower|rain      109   \n",
       "1  horse|village|friendship|remake|number in title      128   \n",
       "\n",
       "                     genres                       production_companies  \\\n",
       "0     Drama|Horror|Thriller                        Shamley Productions   \n",
       "1  Action|Adventure|Western  The Mirisch Corporation|Alpha Productions   \n",
       "\n",
       "  release_date  vote_count  vote_average  release_year  \n",
       "0      8/14/60        1180           8.0          1960  \n",
       "1     10/23/60         224           7.0          1960  "
      ]
     },
     "execution_count": 30,
     "metadata": {},
     "output_type": "execute_result"
    }
   ],
   "source": [
    "# Select top 5% movies that are most popular\n",
    "\n",
    "# Sort data by release year in ascending order and popularity in descending order\n",
    "top_popular_movies = data.sort_values(['release_year','popularity'], ascending=[True, False])\n",
    "\n",
    "# Group by year and choose the top 5%\n",
    "top_popular_movies = top_popular_movies.groupby('release_year').head(five_percent).reset_index(drop=True)\n",
    "\n",
    "# Confirm that the data has the first entries starting with year 1960 (as we sorted by release_year ascending)\n",
    "top_popular_movies.head(2)"
   ]
  },
  {
   "cell_type": "code",
   "execution_count": 31,
   "metadata": {},
   "outputs": [
    {
     "data": {
      "text/html": [
       "<div>\n",
       "<style scoped>\n",
       "    .dataframe tbody tr th:only-of-type {\n",
       "        vertical-align: middle;\n",
       "    }\n",
       "\n",
       "    .dataframe tbody tr th {\n",
       "        vertical-align: top;\n",
       "    }\n",
       "\n",
       "    .dataframe thead th {\n",
       "        text-align: right;\n",
       "    }\n",
       "</style>\n",
       "<table border=\"1\" class=\"dataframe\">\n",
       "  <thead>\n",
       "    <tr style=\"text-align: right;\">\n",
       "      <th></th>\n",
       "      <th>id</th>\n",
       "      <th>popularity</th>\n",
       "      <th>budget</th>\n",
       "      <th>revenue</th>\n",
       "      <th>original_title</th>\n",
       "      <th>cast</th>\n",
       "      <th>director</th>\n",
       "      <th>keywords</th>\n",
       "      <th>runtime</th>\n",
       "      <th>genres</th>\n",
       "      <th>production_companies</th>\n",
       "      <th>release_date</th>\n",
       "      <th>vote_count</th>\n",
       "      <th>vote_average</th>\n",
       "      <th>release_year</th>\n",
       "    </tr>\n",
       "  </thead>\n",
       "  <tbody>\n",
       "    <tr>\n",
       "      <th>0</th>\n",
       "      <td>967</td>\n",
       "      <td>1.136943</td>\n",
       "      <td>12000000.0</td>\n",
       "      <td>60000000.0</td>\n",
       "      <td>Spartacus</td>\n",
       "      <td>Kirk Douglas|Laurence Olivier|Jean Simmons|Cha...</td>\n",
       "      <td>Stanley Kubrick</td>\n",
       "      <td>gladiator|roman empire|gladiator fight|slavery...</td>\n",
       "      <td>197</td>\n",
       "      <td>Action|Drama|History</td>\n",
       "      <td>Bryna Productions</td>\n",
       "      <td>10/6/60</td>\n",
       "      <td>211</td>\n",
       "      <td>6.9</td>\n",
       "      <td>1960</td>\n",
       "    </tr>\n",
       "    <tr>\n",
       "      <th>1</th>\n",
       "      <td>539</td>\n",
       "      <td>2.610362</td>\n",
       "      <td>806948.0</td>\n",
       "      <td>32000000.0</td>\n",
       "      <td>Psycho</td>\n",
       "      <td>Anthony Perkins|Vera Miles|John Gavin|Janet Le...</td>\n",
       "      <td>Alfred Hitchcock</td>\n",
       "      <td>hotel|clerk|arizona|shower|rain</td>\n",
       "      <td>109</td>\n",
       "      <td>Drama|Horror|Thriller</td>\n",
       "      <td>Shamley Productions</td>\n",
       "      <td>8/14/60</td>\n",
       "      <td>1180</td>\n",
       "      <td>8.0</td>\n",
       "      <td>1960</td>\n",
       "    </tr>\n",
       "  </tbody>\n",
       "</table>\n",
       "</div>"
      ],
      "text/plain": [
       "    id  popularity      budget     revenue original_title  \\\n",
       "0  967    1.136943  12000000.0  60000000.0      Spartacus   \n",
       "1  539    2.610362    806948.0  32000000.0         Psycho   \n",
       "\n",
       "                                                cast          director  \\\n",
       "0  Kirk Douglas|Laurence Olivier|Jean Simmons|Cha...   Stanley Kubrick   \n",
       "1  Anthony Perkins|Vera Miles|John Gavin|Janet Le...  Alfred Hitchcock   \n",
       "\n",
       "                                            keywords  runtime  \\\n",
       "0  gladiator|roman empire|gladiator fight|slavery...      197   \n",
       "1                    hotel|clerk|arizona|shower|rain      109   \n",
       "\n",
       "                  genres production_companies release_date  vote_count  \\\n",
       "0   Action|Drama|History    Bryna Productions      10/6/60         211   \n",
       "1  Drama|Horror|Thriller  Shamley Productions      8/14/60        1180   \n",
       "\n",
       "   vote_average  release_year  \n",
       "0           6.9          1960  \n",
       "1           8.0          1960  "
      ]
     },
     "execution_count": 31,
     "metadata": {},
     "output_type": "execute_result"
    }
   ],
   "source": [
    "# Select top 5% movies that generated high revenue.\n",
    "\n",
    "# Sort data by release year in ascending order and revenue in descending order\n",
    "top_revenue_movies = data.sort_values(['release_year','revenue'], ascending=[True, False])\n",
    "\n",
    "# Group by year and choose the top 5%\n",
    "top_revenue_movies = top_revenue_movies.groupby('release_year').head(five_percent).reset_index(drop=True)\n",
    "\n",
    "# Confirm that the data has the first entries starting year 1960\n",
    "top_revenue_movies.head(2)"
   ]
  },
  {
   "cell_type": "code",
   "execution_count": 32,
   "metadata": {},
   "outputs": [
    {
     "data": {
      "text/html": [
       "<div>\n",
       "<style scoped>\n",
       "    .dataframe tbody tr th:only-of-type {\n",
       "        vertical-align: middle;\n",
       "    }\n",
       "\n",
       "    .dataframe tbody tr th {\n",
       "        vertical-align: top;\n",
       "    }\n",
       "\n",
       "    .dataframe thead th {\n",
       "        text-align: right;\n",
       "    }\n",
       "</style>\n",
       "<table border=\"1\" class=\"dataframe\">\n",
       "  <thead>\n",
       "    <tr style=\"text-align: right;\">\n",
       "      <th></th>\n",
       "      <th>id</th>\n",
       "      <th>popularity</th>\n",
       "      <th>budget</th>\n",
       "      <th>revenue</th>\n",
       "      <th>original_title</th>\n",
       "      <th>cast</th>\n",
       "      <th>director</th>\n",
       "      <th>keywords</th>\n",
       "      <th>runtime</th>\n",
       "      <th>genres</th>\n",
       "      <th>production_companies</th>\n",
       "      <th>release_date</th>\n",
       "      <th>vote_count</th>\n",
       "      <th>vote_average</th>\n",
       "      <th>release_year</th>\n",
       "    </tr>\n",
       "  </thead>\n",
       "  <tbody>\n",
       "    <tr>\n",
       "      <th>0</th>\n",
       "      <td>539</td>\n",
       "      <td>2.610362</td>\n",
       "      <td>806948.0</td>\n",
       "      <td>32000000.0</td>\n",
       "      <td>Psycho</td>\n",
       "      <td>Anthony Perkins|Vera Miles|John Gavin|Janet Le...</td>\n",
       "      <td>Alfred Hitchcock</td>\n",
       "      <td>hotel|clerk|arizona|shower|rain</td>\n",
       "      <td>109</td>\n",
       "      <td>Drama|Horror|Thriller</td>\n",
       "      <td>Shamley Productions</td>\n",
       "      <td>8/14/60</td>\n",
       "      <td>1180</td>\n",
       "      <td>8.0</td>\n",
       "      <td>1960</td>\n",
       "    </tr>\n",
       "    <tr>\n",
       "      <th>1</th>\n",
       "      <td>284</td>\n",
       "      <td>0.947307</td>\n",
       "      <td>3000000.0</td>\n",
       "      <td>25000000.0</td>\n",
       "      <td>The Apartment</td>\n",
       "      <td>Jack Lemmon|Shirley MacLaine|Fred MacMurray|Ra...</td>\n",
       "      <td>Billy Wilder</td>\n",
       "      <td>new york|new year's eve|lovesickness|age diffe...</td>\n",
       "      <td>125</td>\n",
       "      <td>Comedy|Drama|Romance</td>\n",
       "      <td>United Artists|The Mirisch Company</td>\n",
       "      <td>6/15/60</td>\n",
       "      <td>235</td>\n",
       "      <td>7.9</td>\n",
       "      <td>1960</td>\n",
       "    </tr>\n",
       "  </tbody>\n",
       "</table>\n",
       "</div>"
      ],
      "text/plain": [
       "    id  popularity     budget     revenue original_title  \\\n",
       "0  539    2.610362   806948.0  32000000.0         Psycho   \n",
       "1  284    0.947307  3000000.0  25000000.0  The Apartment   \n",
       "\n",
       "                                                cast          director  \\\n",
       "0  Anthony Perkins|Vera Miles|John Gavin|Janet Le...  Alfred Hitchcock   \n",
       "1  Jack Lemmon|Shirley MacLaine|Fred MacMurray|Ra...      Billy Wilder   \n",
       "\n",
       "                                            keywords  runtime  \\\n",
       "0                    hotel|clerk|arizona|shower|rain      109   \n",
       "1  new york|new year's eve|lovesickness|age diffe...      125   \n",
       "\n",
       "                  genres                production_companies release_date  \\\n",
       "0  Drama|Horror|Thriller                 Shamley Productions      8/14/60   \n",
       "1   Comedy|Drama|Romance  United Artists|The Mirisch Company      6/15/60   \n",
       "\n",
       "   vote_count  vote_average  release_year  \n",
       "0        1180           8.0          1960  \n",
       "1         235           7.9          1960  "
      ]
     },
     "execution_count": 32,
     "metadata": {},
     "output_type": "execute_result"
    }
   ],
   "source": [
    "# Select top 5% highly rated movies.\n",
    "\n",
    "# Sort data by release year in ascending order and vote_average in descending order\n",
    "top_rated_movies = data.sort_values(['release_year','vote_average'], ascending=[True, False])\n",
    "\n",
    "# Group by year and choose the top 5%\n",
    "top_rated_movies = top_rated_movies.groupby('release_year').head(five_percent).reset_index(drop=True)\n",
    "\n",
    "# Confirm that the data has the first entries starting year 1960\n",
    "top_rated_movies.head(2)"
   ]
  },
  {
   "cell_type": "markdown",
   "metadata": {},
   "source": [
    "###### Prepare data for analysis consisting of bottom 5% movies based on popularity, revenue and rating"
   ]
  },
  {
   "cell_type": "code",
   "execution_count": 33,
   "metadata": {},
   "outputs": [],
   "source": [
    "# Select bottom 5% least popular movies.\n",
    "least_popular_movies = data.sort_values(['release_year','popularity'], ascending=[True, True])\n",
    "least_popular_movies = least_popular_movies.groupby('release_year').head(five_percent).reset_index(drop=True)\n",
    "\n",
    "# Select bottom 5% lowest revenue movies\n",
    "lowest_revenue_movies = data.sort_values(['release_year','revenue'], ascending=[True, True])\n",
    "lowest_revenue_movies = lowest_revenue_movies.groupby('release_year').head(five_percent).reset_index(drop=True)\n",
    "\n",
    "# Select bottom 5% least rated movies.\n",
    "least_rated_movies = data.sort_values(['release_year','vote_average'], ascending=[True, True])\n",
    "least_rated_movies = least_rated_movies.groupby('release_year').head(five_percent).reset_index(drop=True)\n"
   ]
  },
  {
   "cell_type": "markdown",
   "metadata": {},
   "source": [
    "##### Answering the question: What attributes are associated with movies that have high popularity?\n",
    "To answer these, we shall answer the following three questions:\n",
    "1. Which budget category movies are associated with movies that have high popularity?\n",
    "2. Which runtime category movies are associated with movies that have high popularity on average?\n",
    "3. What other categorical attributes are associated with high popularity?\n",
    "\n",
    "\n",
    "\n",
    "*Answering: Which budget category movies are associated with movies that have high popularity?*\n",
    "\n",
    "Budget data is divided into four levels with quartiles: 'Low', 'Medium', 'High', 'Very High' and create a level column."
   ]
  },
  {
   "cell_type": "code",
   "execution_count": 34,
   "metadata": {},
   "outputs": [
    {
     "data": {
      "text/plain": [
       "0    Very High\n",
       "1    Very High\n",
       "Name: budget_levels, dtype: category\n",
       "Categories (4, object): [Low < Medium < High < Very High]"
      ]
     },
     "execution_count": 34,
     "metadata": {},
     "output_type": "execute_result"
    }
   ],
   "source": [
    "# Generate budget into categories\n",
    "budget_data = categorize_per_quantile(data,'budget')\n",
    "\n",
    "# Test that budget_levels column is created and categorized\n",
    "budget_data['budget_levels'].head(2)"
   ]
  },
  {
   "cell_type": "code",
   "execution_count": 35,
   "metadata": {},
   "outputs": [
    {
     "data": {
      "text/plain": [
       "budget_levels\n",
       "Low          0.510678\n",
       "Medium       0.726490\n",
       "High         0.988660\n",
       "Very High    1.821742\n",
       "Name: popularity, dtype: float64"
      ]
     },
     "execution_count": 35,
     "metadata": {},
     "output_type": "execute_result"
    }
   ],
   "source": [
    "# Find the mean popularity of each level with groupby\n",
    "budget_mean = budget_data.groupby('budget_levels')['popularity'].mean()\n",
    "budget_mean"
   ]
  },
  {
   "cell_type": "code",
   "execution_count": 36,
   "metadata": {
    "scrolled": true
   },
   "outputs": [
    {
     "data": {
      "text/plain": [
       "budget_levels\n",
       "Low          0.367621\n",
       "Medium       0.507987\n",
       "High         0.733975\n",
       "Very High    1.232098\n",
       "Name: popularity, dtype: float64"
      ]
     },
     "execution_count": 36,
     "metadata": {},
     "output_type": "execute_result"
    }
   ],
   "source": [
    "# Find the median popularity of each level with groupby\n",
    "budget_median = budget_data.groupby('budget_levels')['popularity'].median()\n",
    "budget_median"
   ]
  },
  {
   "cell_type": "code",
   "execution_count": 37,
   "metadata": {},
   "outputs": [
    {
     "data": {
      "text/plain": [
       "array([0, 1, 2, 3])"
      ]
     },
     "execution_count": 37,
     "metadata": {},
     "output_type": "execute_result"
    }
   ],
   "source": [
    "# Prepare the x locations for the generated groups\n",
    "ind = np.arange(len(budget_mean))  \n",
    "\n",
    "# the width of the bars\n",
    "width = 0.5       \n",
    "\n",
    "ind"
   ]
  },
  {
   "cell_type": "code",
   "execution_count": 38,
   "metadata": {},
   "outputs": [
    {
     "data": {
      "text/plain": [
       "<matplotlib.legend.Legend at 0x2a7d9e849b0>"
      ]
     },
     "execution_count": 38,
     "metadata": {},
     "output_type": "execute_result"
    },
    {
     "data": {
      "image/png": "[encoded data removed]",
      "text/plain": [
       "<Figure size 432x288 with 1 Axes>"
      ]
     },
     "metadata": {},
     "output_type": "display_data"
    }
   ],
   "source": [
    "# Plot\n",
    "\n",
    "# Set style\n",
    "sns.set_style('whitegrid')\n",
    "bars = plt.bar(ind, budget_mean, width, color='b', alpha=0.5, label='mean')\n",
    "\n",
    "# Title and Labels\n",
    "plt.ylabel('popularity')\n",
    "plt.xlabel('budget levels')\n",
    "plt.title('Popularity with Budget Levels')\n",
    "locations = ind\n",
    "labels = budget_mean.index  \n",
    "plt.xticks(locations, labels)\n",
    "\n",
    "# legend\n",
    "plt.legend()"
   ]
  },
  {
   "cell_type": "markdown",
   "metadata": {},
   "source": [
    "\n",
    "###### From the plot we can infer that movies with higher budget level accounted to higher popularity. Budget may be in heavy casting, costly setup, higher marketing costs etc., which all can contribute to popularity of a movie.\n",
    "\n",
    "\n",
    "*Answering: Which runtime category movies are associated with movies that have high popularity on average?*\n",
    "\n",
    "Runtime data is divided into four levels with quartiles: 'Low', 'Medium', 'High', 'Very High' and create a level column."
   ]
  },
  {
   "cell_type": "code",
   "execution_count": 39,
   "metadata": {},
   "outputs": [
    {
     "data": {
      "text/plain": [
       "0    Very High\n",
       "1    Very High\n",
       "Name: runtime_levels, dtype: category\n",
       "Categories (4, object): [Low < Medium < High < Very High]"
      ]
     },
     "execution_count": 39,
     "metadata": {},
     "output_type": "execute_result"
    }
   ],
   "source": [
    "# Generate runtime into categories\n",
    "runtime_data = categorize_per_quantile(data,'runtime')\n",
    "\n",
    "# Test that runtime column is created and categorized\n",
    "runtime_data['runtime_levels'].head(2)"
   ]
  },
  {
   "cell_type": "code",
   "execution_count": 40,
   "metadata": {
    "scrolled": true
   },
   "outputs": [
    {
     "data": {
      "text/plain": [
       "runtime_levels\n",
       "Low          0.418723\n",
       "Medium       0.551560\n",
       "High         0.656342\n",
       "Very High    1.019749\n",
       "Name: popularity, dtype: float64"
      ]
     },
     "execution_count": 40,
     "metadata": {},
     "output_type": "execute_result"
    }
   ],
   "source": [
    "# Find the mean runtime of each level with groupby\n",
    "runtime_mean = runtime_data.groupby('runtime_levels')['popularity'].mean()\n",
    "runtime_mean"
   ]
  },
  {
   "cell_type": "code",
   "execution_count": 41,
   "metadata": {
    "scrolled": true
   },
   "outputs": [
    {
     "data": {
      "text/plain": [
       "runtime_levels\n",
       "Low          0.290399\n",
       "Medium       0.366125\n",
       "High         0.420568\n",
       "Very High    0.529933\n",
       "Name: popularity, dtype: float64"
      ]
     },
     "execution_count": 41,
     "metadata": {},
     "output_type": "execute_result"
    }
   ],
   "source": [
    "# Find the median runtime of each level with groupby\n",
    "runtime_median = runtime_data.groupby('runtime_levels')['popularity'].median()\n",
    "runtime_median"
   ]
  },
  {
   "cell_type": "code",
   "execution_count": 42,
   "metadata": {},
   "outputs": [
    {
     "data": {
      "text/plain": [
       "array([0, 1, 2, 3])"
      ]
     },
     "execution_count": 42,
     "metadata": {},
     "output_type": "execute_result"
    }
   ],
   "source": [
    "# Prepare the x locations for the generated groups\n",
    "ind = np.arange(len(runtime_median))  \n",
    "\n",
    "# the width of the bars\n",
    "width = 0.5       \n",
    "\n",
    "ind"
   ]
  },
  {
   "cell_type": "code",
   "execution_count": 43,
   "metadata": {},
   "outputs": [
    {
     "data": {
      "text/plain": [
       "<matplotlib.legend.Legend at 0x2a7db245550>"
      ]
     },
     "execution_count": 43,
     "metadata": {},
     "output_type": "execute_result"
    },
    {
     "data": {
      "image/png": "[encoded data removed]",
      "text/plain": [
       "<Figure size 432x288 with 1 Axes>"
      ]
     },
     "metadata": {},
     "output_type": "display_data"
    }
   ],
   "source": [
    "# Plot\n",
    "\n",
    "# Set style\n",
    "sns.set_style('whitegrid')\n",
    "bars = plt.bar(ind, runtime_median, width, color='y', alpha=0.5, label='median')\n",
    "\n",
    "# Title and Labels\n",
    "plt.ylabel('popularity')\n",
    "plt.xlabel('runtime levels')\n",
    "plt.title('Popularity with Runtime Levels')\n",
    "locations = ind\n",
    "labels = runtime_median.index  \n",
    "plt.xticks(locations, labels)\n",
    "\n",
    "# legend\n",
    "plt.legend()"
   ]
  },
  {
   "cell_type": "markdown",
   "metadata": {},
   "source": [
    "\n",
    "###### From the plot we can infer that movies with high runtime have accounted to high popularity. \n",
    "\n",
    "\n",
    "*Answering: What other categorical attributes are associated with high popularity?*\n",
    "\n",
    "We start analysis with dataframe: top_popular_movies. It is the dataframe with top 5% popular movies."
   ]
  },
  {
   "cell_type": "code",
   "execution_count": 44,
   "metadata": {
    "scrolled": true
   },
   "outputs": [
    {
     "data": {
      "text/html": [
       "<div>\n",
       "<style scoped>\n",
       "    .dataframe tbody tr th:only-of-type {\n",
       "        vertical-align: middle;\n",
       "    }\n",
       "\n",
       "    .dataframe tbody tr th {\n",
       "        vertical-align: top;\n",
       "    }\n",
       "\n",
       "    .dataframe thead th {\n",
       "        text-align: right;\n",
       "    }\n",
       "</style>\n",
       "<table border=\"1\" class=\"dataframe\">\n",
       "  <thead>\n",
       "    <tr style=\"text-align: right;\">\n",
       "      <th></th>\n",
       "      <th>id</th>\n",
       "      <th>popularity</th>\n",
       "      <th>budget</th>\n",
       "      <th>revenue</th>\n",
       "      <th>original_title</th>\n",
       "      <th>cast</th>\n",
       "      <th>director</th>\n",
       "      <th>keywords</th>\n",
       "      <th>runtime</th>\n",
       "      <th>genres</th>\n",
       "      <th>production_companies</th>\n",
       "      <th>release_date</th>\n",
       "      <th>vote_count</th>\n",
       "      <th>vote_average</th>\n",
       "      <th>release_year</th>\n",
       "    </tr>\n",
       "  </thead>\n",
       "  <tbody>\n",
       "    <tr>\n",
       "      <th>0</th>\n",
       "      <td>539</td>\n",
       "      <td>2.610362</td>\n",
       "      <td>806948.0</td>\n",
       "      <td>32000000.0</td>\n",
       "      <td>Psycho</td>\n",
       "      <td>Anthony Perkins|Vera Miles|John Gavin|Janet Le...</td>\n",
       "      <td>Alfred Hitchcock</td>\n",
       "      <td>hotel|clerk|arizona|shower|rain</td>\n",
       "      <td>109</td>\n",
       "      <td>Drama|Horror|Thriller</td>\n",
       "      <td>Shamley Productions</td>\n",
       "      <td>8/14/60</td>\n",
       "      <td>1180</td>\n",
       "      <td>8.0</td>\n",
       "      <td>1960</td>\n",
       "    </tr>\n",
       "    <tr>\n",
       "      <th>1</th>\n",
       "      <td>966</td>\n",
       "      <td>1.872132</td>\n",
       "      <td>2000000.0</td>\n",
       "      <td>4905000.0</td>\n",
       "      <td>The Magnificent Seven</td>\n",
       "      <td>Yul Brynner|Eli Wallach|Steve McQueen|Charles ...</td>\n",
       "      <td>John Sturges</td>\n",
       "      <td>horse|village|friendship|remake|number in title</td>\n",
       "      <td>128</td>\n",
       "      <td>Action|Adventure|Western</td>\n",
       "      <td>The Mirisch Corporation|Alpha Productions</td>\n",
       "      <td>10/23/60</td>\n",
       "      <td>224</td>\n",
       "      <td>7.0</td>\n",
       "      <td>1960</td>\n",
       "    </tr>\n",
       "  </tbody>\n",
       "</table>\n",
       "</div>"
      ],
      "text/plain": [
       "    id  popularity     budget     revenue         original_title  \\\n",
       "0  539    2.610362   806948.0  32000000.0                 Psycho   \n",
       "1  966    1.872132  2000000.0   4905000.0  The Magnificent Seven   \n",
       "\n",
       "                                                cast          director  \\\n",
       "0  Anthony Perkins|Vera Miles|John Gavin|Janet Le...  Alfred Hitchcock   \n",
       "1  Yul Brynner|Eli Wallach|Steve McQueen|Charles ...      John Sturges   \n",
       "\n",
       "                                          keywords  runtime  \\\n",
       "0                  hotel|clerk|arizona|shower|rain      109   \n",
       "1  horse|village|friendship|remake|number in title      128   \n",
       "\n",
       "                     genres                       production_companies  \\\n",
       "0     Drama|Horror|Thriller                        Shamley Productions   \n",
       "1  Action|Adventure|Western  The Mirisch Corporation|Alpha Productions   \n",
       "\n",
       "  release_date  vote_count  vote_average  release_year  \n",
       "0      8/14/60        1180           8.0          1960  \n",
       "1     10/23/60         224           7.0          1960  "
      ]
     },
     "execution_count": 44,
     "metadata": {},
     "output_type": "execute_result"
    }
   ],
   "source": [
    "top_popular_movies.head(2)"
   ]
  },
  {
   "cell_type": "markdown",
   "metadata": {},
   "source": [
    "Select the five highest occurrences in each category among the top 5% popular movies and store into temporary summary tables"
   ]
  },
  {
   "cell_type": "code",
   "execution_count": 45,
   "metadata": {},
   "outputs": [],
   "source": [
    "# Find top five cast occurrences\n",
    "cast_occurrences = find_top_few(top_popular_movies.cast, 5)\n",
    "\n",
    "# Find top five director occurrences\n",
    "director_occurrences = find_top_few(top_popular_movies.director, 5)\n",
    "\n",
    "# Find top five keyword occurrences\n",
    "keyword_occurrences = find_top_few(top_popular_movies.keywords, 5)\n",
    "\n",
    "# Find top five genres occurrences\n",
    "genre_occurrences = find_top_few(top_popular_movies.genres, 5)\n",
    "\n",
    "# Find top five production companies occurrences\n",
    "production_occurrences = find_top_few(top_popular_movies.production_companies, 5)"
   ]
  },
  {
   "cell_type": "markdown",
   "metadata": {},
   "source": [
    "Create a summary table"
   ]
  },
  {
   "cell_type": "code",
   "execution_count": 46,
   "metadata": {},
   "outputs": [
    {
     "data": {
      "text/html": [
       "<div>\n",
       "<style scoped>\n",
       "    .dataframe tbody tr th:only-of-type {\n",
       "        vertical-align: middle;\n",
       "    }\n",
       "\n",
       "    .dataframe tbody tr th {\n",
       "        vertical-align: top;\n",
       "    }\n",
       "\n",
       "    .dataframe thead th {\n",
       "        text-align: right;\n",
       "    }\n",
       "</style>\n",
       "<table border=\"1\" class=\"dataframe\">\n",
       "  <thead>\n",
       "    <tr style=\"text-align: right;\">\n",
       "      <th></th>\n",
       "      <th>popular_cast</th>\n",
       "      <th>popular_director</th>\n",
       "      <th>popular_keywords</th>\n",
       "      <th>popular_genres</th>\n",
       "      <th>popular_producer</th>\n",
       "    </tr>\n",
       "  </thead>\n",
       "  <tbody>\n",
       "    <tr>\n",
       "      <th>0</th>\n",
       "      <td>Samuel L. Jackson</td>\n",
       "      <td>Woody Allen</td>\n",
       "      <td>independent film</td>\n",
       "      <td>Drama</td>\n",
       "      <td>Universal Pictures</td>\n",
       "    </tr>\n",
       "    <tr>\n",
       "      <th>1</th>\n",
       "      <td>Robert De Niro</td>\n",
       "      <td>Clint Eastwood</td>\n",
       "      <td>woman director</td>\n",
       "      <td>Comedy</td>\n",
       "      <td>Warner Bros.</td>\n",
       "    </tr>\n",
       "    <tr>\n",
       "      <th>2</th>\n",
       "      <td>Bruce Willis</td>\n",
       "      <td>Steven Spielberg</td>\n",
       "      <td>based on novel</td>\n",
       "      <td>Thriller</td>\n",
       "      <td>Paramount Pictures</td>\n",
       "    </tr>\n",
       "    <tr>\n",
       "      <th>3</th>\n",
       "      <td>Nicolas Cage</td>\n",
       "      <td>Martin Scorsese</td>\n",
       "      <td>sex</td>\n",
       "      <td>Action</td>\n",
       "      <td>Twentieth Century Fox Film Corporation</td>\n",
       "    </tr>\n",
       "    <tr>\n",
       "      <th>4</th>\n",
       "      <td>Michael Caine</td>\n",
       "      <td>Ridley Scott</td>\n",
       "      <td>sport</td>\n",
       "      <td>Romance</td>\n",
       "      <td>Columbia Pictures</td>\n",
       "    </tr>\n",
       "  </tbody>\n",
       "</table>\n",
       "</div>"
      ],
      "text/plain": [
       "        popular_cast  popular_director  popular_keywords popular_genres  \\\n",
       "0  Samuel L. Jackson       Woody Allen  independent film          Drama   \n",
       "1     Robert De Niro    Clint Eastwood    woman director         Comedy   \n",
       "2       Bruce Willis  Steven Spielberg    based on novel       Thriller   \n",
       "3       Nicolas Cage   Martin Scorsese               sex         Action   \n",
       "4      Michael Caine      Ridley Scott             sport        Romance   \n",
       "\n",
       "                         popular_producer  \n",
       "0                      Universal Pictures  \n",
       "1                            Warner Bros.  \n",
       "2                      Paramount Pictures  \n",
       "3  Twentieth Century Fox Film Corporation  \n",
       "4                       Columbia Pictures  "
      ]
     },
     "execution_count": 46,
     "metadata": {},
     "output_type": "execute_result"
    }
   ],
   "source": [
    "#Use the result above to create a summary dataframe.\n",
    "popular_summary = pd.DataFrame({'popular_cast': cast_occurrences.index, \n",
    "                                'popular_director': director_occurrences.index, \n",
    "                                'popular_keywords': keyword_occurrences.index, \n",
    "                                'popular_genres': genre_occurrences.index, \n",
    "                                'popular_producer': production_occurrences.index})\n",
    "popular_summary"
   ]
  },
  {
   "cell_type": "code",
   "execution_count": 47,
   "metadata": {
    "scrolled": false
   },
   "outputs": [
    {
     "data": {
      "text/html": [
       "<div>\n",
       "<style scoped>\n",
       "    .dataframe tbody tr th:only-of-type {\n",
       "        vertical-align: middle;\n",
       "    }\n",
       "\n",
       "    .dataframe tbody tr th {\n",
       "        vertical-align: top;\n",
       "    }\n",
       "\n",
       "    .dataframe thead th {\n",
       "        text-align: right;\n",
       "    }\n",
       "</style>\n",
       "<table border=\"1\" class=\"dataframe\">\n",
       "  <thead>\n",
       "    <tr style=\"text-align: right;\">\n",
       "      <th></th>\n",
       "      <th>id</th>\n",
       "      <th>popularity</th>\n",
       "      <th>budget</th>\n",
       "      <th>revenue</th>\n",
       "      <th>original_title</th>\n",
       "      <th>cast</th>\n",
       "      <th>director</th>\n",
       "      <th>keywords</th>\n",
       "      <th>runtime</th>\n",
       "      <th>genres</th>\n",
       "      <th>production_companies</th>\n",
       "      <th>release_date</th>\n",
       "      <th>vote_count</th>\n",
       "      <th>vote_average</th>\n",
       "      <th>release_year</th>\n",
       "    </tr>\n",
       "  </thead>\n",
       "  <tbody>\n",
       "    <tr>\n",
       "      <th>0</th>\n",
       "      <td>539</td>\n",
       "      <td>2.610362</td>\n",
       "      <td>806948.0</td>\n",
       "      <td>32000000.0</td>\n",
       "      <td>Psycho</td>\n",
       "      <td>Anthony Perkins|Vera Miles|John Gavin|Janet Le...</td>\n",
       "      <td>Alfred Hitchcock</td>\n",
       "      <td>hotel|clerk|arizona|shower|rain</td>\n",
       "      <td>109</td>\n",
       "      <td>Drama|Horror|Thriller</td>\n",
       "      <td>Shamley Productions</td>\n",
       "      <td>8/14/60</td>\n",
       "      <td>1180</td>\n",
       "      <td>8.0</td>\n",
       "      <td>1960</td>\n",
       "    </tr>\n",
       "    <tr>\n",
       "      <th>1</th>\n",
       "      <td>966</td>\n",
       "      <td>1.872132</td>\n",
       "      <td>2000000.0</td>\n",
       "      <td>4905000.0</td>\n",
       "      <td>The Magnificent Seven</td>\n",
       "      <td>Yul Brynner|Eli Wallach|Steve McQueen|Charles ...</td>\n",
       "      <td>John Sturges</td>\n",
       "      <td>horse|village|friendship|remake|number in title</td>\n",
       "      <td>128</td>\n",
       "      <td>Action|Adventure|Western</td>\n",
       "      <td>The Mirisch Corporation|Alpha Productions</td>\n",
       "      <td>10/23/60</td>\n",
       "      <td>224</td>\n",
       "      <td>7.0</td>\n",
       "      <td>1960</td>\n",
       "    </tr>\n",
       "  </tbody>\n",
       "</table>\n",
       "</div>"
      ],
      "text/plain": [
       "    id  popularity     budget     revenue         original_title  \\\n",
       "0  539    2.610362   806948.0  32000000.0                 Psycho   \n",
       "1  966    1.872132  2000000.0   4905000.0  The Magnificent Seven   \n",
       "\n",
       "                                                cast          director  \\\n",
       "0  Anthony Perkins|Vera Miles|John Gavin|Janet Le...  Alfred Hitchcock   \n",
       "1  Yul Brynner|Eli Wallach|Steve McQueen|Charles ...      John Sturges   \n",
       "\n",
       "                                          keywords  runtime  \\\n",
       "0                  hotel|clerk|arizona|shower|rain      109   \n",
       "1  horse|village|friendship|remake|number in title      128   \n",
       "\n",
       "                     genres                       production_companies  \\\n",
       "0     Drama|Horror|Thriller                        Shamley Productions   \n",
       "1  Action|Adventure|Western  The Mirisch Corporation|Alpha Productions   \n",
       "\n",
       "  release_date  vote_count  vote_average  release_year  \n",
       "0      8/14/60        1180           8.0          1960  \n",
       "1     10/23/60         224           7.0          1960  "
      ]
     },
     "execution_count": 47,
     "metadata": {},
     "output_type": "execute_result"
    }
   ],
   "source": [
    "top_popular_movies.head(2)"
   ]
  },
  {
   "cell_type": "markdown",
   "metadata": {},
   "source": [
    "Find the five most occurrences in each category among the 5% of unpopular movies."
   ]
  },
  {
   "cell_type": "code",
   "execution_count": 48,
   "metadata": {
    "scrolled": false
   },
   "outputs": [
    {
     "data": {
      "text/html": [
       "<div>\n",
       "<style scoped>\n",
       "    .dataframe tbody tr th:only-of-type {\n",
       "        vertical-align: middle;\n",
       "    }\n",
       "\n",
       "    .dataframe tbody tr th {\n",
       "        vertical-align: top;\n",
       "    }\n",
       "\n",
       "    .dataframe thead th {\n",
       "        text-align: right;\n",
       "    }\n",
       "</style>\n",
       "<table border=\"1\" class=\"dataframe\">\n",
       "  <thead>\n",
       "    <tr style=\"text-align: right;\">\n",
       "      <th></th>\n",
       "      <th>id</th>\n",
       "      <th>popularity</th>\n",
       "      <th>budget</th>\n",
       "      <th>revenue</th>\n",
       "      <th>original_title</th>\n",
       "      <th>cast</th>\n",
       "      <th>director</th>\n",
       "      <th>keywords</th>\n",
       "      <th>runtime</th>\n",
       "      <th>genres</th>\n",
       "      <th>production_companies</th>\n",
       "      <th>release_date</th>\n",
       "      <th>vote_count</th>\n",
       "      <th>vote_average</th>\n",
       "      <th>release_year</th>\n",
       "    </tr>\n",
       "  </thead>\n",
       "  <tbody>\n",
       "    <tr>\n",
       "      <th>0</th>\n",
       "      <td>18973</td>\n",
       "      <td>0.055821</td>\n",
       "      <td>3000000.0</td>\n",
       "      <td>7100000.0</td>\n",
       "      <td>Cinderfella</td>\n",
       "      <td>Jerry Lewis|Ed Wynn|Judith Anderson|Henry Silv...</td>\n",
       "      <td>Frank Tashlin</td>\n",
       "      <td>NaN</td>\n",
       "      <td>91</td>\n",
       "      <td>Comedy|Romance</td>\n",
       "      <td>Paramount Pictures|Jerry Lewis Productions</td>\n",
       "      <td>12/18/60</td>\n",
       "      <td>13</td>\n",
       "      <td>7.2</td>\n",
       "      <td>1960</td>\n",
       "    </tr>\n",
       "    <tr>\n",
       "      <th>1</th>\n",
       "      <td>39890</td>\n",
       "      <td>0.065808</td>\n",
       "      <td>NaN</td>\n",
       "      <td>NaN</td>\n",
       "      <td>The City of the Dead</td>\n",
       "      <td>Christopher Lee|Dennis Lotis|Patricia Jessel|T...</td>\n",
       "      <td>John Llewellyn Moxey</td>\n",
       "      <td>witch|burning of witches|witch burning|witchcraft</td>\n",
       "      <td>76</td>\n",
       "      <td>Horror</td>\n",
       "      <td>Vulcan Productions Inc.</td>\n",
       "      <td>9/9/60</td>\n",
       "      <td>13</td>\n",
       "      <td>6.1</td>\n",
       "      <td>1960</td>\n",
       "    </tr>\n",
       "  </tbody>\n",
       "</table>\n",
       "</div>"
      ],
      "text/plain": [
       "      id  popularity     budget    revenue        original_title  \\\n",
       "0  18973    0.055821  3000000.0  7100000.0           Cinderfella   \n",
       "1  39890    0.065808        NaN        NaN  The City of the Dead   \n",
       "\n",
       "                                                cast              director  \\\n",
       "0  Jerry Lewis|Ed Wynn|Judith Anderson|Henry Silv...         Frank Tashlin   \n",
       "1  Christopher Lee|Dennis Lotis|Patricia Jessel|T...  John Llewellyn Moxey   \n",
       "\n",
       "                                            keywords  runtime          genres  \\\n",
       "0                                                NaN       91  Comedy|Romance   \n",
       "1  witch|burning of witches|witch burning|witchcraft       76          Horror   \n",
       "\n",
       "                         production_companies release_date  vote_count  \\\n",
       "0  Paramount Pictures|Jerry Lewis Productions     12/18/60          13   \n",
       "1                     Vulcan Productions Inc.       9/9/60          13   \n",
       "\n",
       "   vote_average  release_year  \n",
       "0           7.2          1960  \n",
       "1           6.1          1960  "
      ]
     },
     "execution_count": 48,
     "metadata": {},
     "output_type": "execute_result"
    }
   ],
   "source": [
    "least_popular_movies.head(2)"
   ]
  },
  {
   "cell_type": "code",
   "execution_count": 49,
   "metadata": {},
   "outputs": [],
   "source": [
    "# Find bottom five cast occurrences\n",
    "cast_occurrences = find_top_few(least_popular_movies.cast, 5)\n",
    "\n",
    "# Find bottom five director occurrences\n",
    "director_occurrences = find_top_few(least_popular_movies.director, 5)\n",
    "\n",
    "# Find bottom five keyword occurrences\n",
    "keyword_occurrences = find_top_few(least_popular_movies.keywords, 5)\n",
    "\n",
    "# Find bottom five genres occurrences\n",
    "genre_occurrences = find_top_few(least_popular_movies.genres, 5)\n",
    "\n",
    "# Find bottom five production companies occurrences\n",
    "production_occurrences = find_top_few(least_popular_movies.production_companies, 5)"
   ]
  },
  {
   "cell_type": "markdown",
   "metadata": {},
   "source": [
    "Create a summary table"
   ]
  },
  {
   "cell_type": "code",
   "execution_count": 50,
   "metadata": {},
   "outputs": [
    {
     "data": {
      "text/html": [
       "<div>\n",
       "<style scoped>\n",
       "    .dataframe tbody tr th:only-of-type {\n",
       "        vertical-align: middle;\n",
       "    }\n",
       "\n",
       "    .dataframe tbody tr th {\n",
       "        vertical-align: top;\n",
       "    }\n",
       "\n",
       "    .dataframe thead th {\n",
       "        text-align: right;\n",
       "    }\n",
       "</style>\n",
       "<table border=\"1\" class=\"dataframe\">\n",
       "  <thead>\n",
       "    <tr style=\"text-align: right;\">\n",
       "      <th></th>\n",
       "      <th>unpopular_cast</th>\n",
       "      <th>unpopular_director</th>\n",
       "      <th>unpopular_keywords</th>\n",
       "      <th>unpopular_genres</th>\n",
       "      <th>unpopular_producer</th>\n",
       "    </tr>\n",
       "  </thead>\n",
       "  <tbody>\n",
       "    <tr>\n",
       "      <th>0</th>\n",
       "      <td>Robert De Niro</td>\n",
       "      <td>Woody Allen</td>\n",
       "      <td>woman director</td>\n",
       "      <td>Drama</td>\n",
       "      <td>Universal Pictures</td>\n",
       "    </tr>\n",
       "    <tr>\n",
       "      <th>1</th>\n",
       "      <td>Samuel L. Jackson</td>\n",
       "      <td>Clint Eastwood</td>\n",
       "      <td>independent film</td>\n",
       "      <td>Comedy</td>\n",
       "      <td>Warner Bros.</td>\n",
       "    </tr>\n",
       "    <tr>\n",
       "      <th>2</th>\n",
       "      <td>Nicolas Cage</td>\n",
       "      <td>Martin Scorsese</td>\n",
       "      <td>sex</td>\n",
       "      <td>Thriller</td>\n",
       "      <td>Paramount Pictures</td>\n",
       "    </tr>\n",
       "    <tr>\n",
       "      <th>3</th>\n",
       "      <td>Bruce Willis</td>\n",
       "      <td>Steven Spielberg</td>\n",
       "      <td>based on novel</td>\n",
       "      <td>Action</td>\n",
       "      <td>Twentieth Century Fox Film Corporation</td>\n",
       "    </tr>\n",
       "    <tr>\n",
       "      <th>4</th>\n",
       "      <td>Robin Williams</td>\n",
       "      <td>Steven Soderbergh</td>\n",
       "      <td>sport</td>\n",
       "      <td>Romance</td>\n",
       "      <td>Columbia Pictures</td>\n",
       "    </tr>\n",
       "  </tbody>\n",
       "</table>\n",
       "</div>"
      ],
      "text/plain": [
       "      unpopular_cast unpopular_director unpopular_keywords unpopular_genres  \\\n",
       "0     Robert De Niro        Woody Allen     woman director            Drama   \n",
       "1  Samuel L. Jackson     Clint Eastwood   independent film           Comedy   \n",
       "2       Nicolas Cage    Martin Scorsese                sex         Thriller   \n",
       "3       Bruce Willis   Steven Spielberg     based on novel           Action   \n",
       "4     Robin Williams  Steven Soderbergh              sport          Romance   \n",
       "\n",
       "                       unpopular_producer  \n",
       "0                      Universal Pictures  \n",
       "1                            Warner Bros.  \n",
       "2                      Paramount Pictures  \n",
       "3  Twentieth Century Fox Film Corporation  \n",
       "4                       Columbia Pictures  "
      ]
     },
     "execution_count": 50,
     "metadata": {},
     "output_type": "execute_result"
    }
   ],
   "source": [
    "#Use the result above to create a summary dataframe.\n",
    "unpopular_summary = pd.DataFrame({'unpopular_cast': cast_occurrences.index, \n",
    "                                'unpopular_director': director_occurrences.index, \n",
    "                                'unpopular_keywords': keyword_occurrences.index, \n",
    "                                'unpopular_genres': genre_occurrences.index, \n",
    "                                'unpopular_producer': production_occurrences.index})\n",
    "unpopular_summary"
   ]
  },
  {
   "cell_type": "code",
   "execution_count": 51,
   "metadata": {
    "scrolled": true
   },
   "outputs": [
    {
     "data": {
      "text/html": [
       "<div>\n",
       "<style scoped>\n",
       "    .dataframe tbody tr th:only-of-type {\n",
       "        vertical-align: middle;\n",
       "    }\n",
       "\n",
       "    .dataframe tbody tr th {\n",
       "        vertical-align: top;\n",
       "    }\n",
       "\n",
       "    .dataframe thead th {\n",
       "        text-align: right;\n",
       "    }\n",
       "</style>\n",
       "<table border=\"1\" class=\"dataframe\">\n",
       "  <thead>\n",
       "    <tr style=\"text-align: right;\">\n",
       "      <th></th>\n",
       "      <th>popular_cast</th>\n",
       "      <th>popular_director</th>\n",
       "      <th>popular_keywords</th>\n",
       "      <th>popular_genres</th>\n",
       "      <th>popular_producer</th>\n",
       "    </tr>\n",
       "  </thead>\n",
       "  <tbody>\n",
       "    <tr>\n",
       "      <th>0</th>\n",
       "      <td>Samuel L. Jackson</td>\n",
       "      <td>Woody Allen</td>\n",
       "      <td>independent film</td>\n",
       "      <td>Drama</td>\n",
       "      <td>Universal Pictures</td>\n",
       "    </tr>\n",
       "    <tr>\n",
       "      <th>1</th>\n",
       "      <td>Robert De Niro</td>\n",
       "      <td>Clint Eastwood</td>\n",
       "      <td>woman director</td>\n",
       "      <td>Comedy</td>\n",
       "      <td>Warner Bros.</td>\n",
       "    </tr>\n",
       "    <tr>\n",
       "      <th>2</th>\n",
       "      <td>Bruce Willis</td>\n",
       "      <td>Steven Spielberg</td>\n",
       "      <td>based on novel</td>\n",
       "      <td>Thriller</td>\n",
       "      <td>Paramount Pictures</td>\n",
       "    </tr>\n",
       "    <tr>\n",
       "      <th>3</th>\n",
       "      <td>Nicolas Cage</td>\n",
       "      <td>Martin Scorsese</td>\n",
       "      <td>sex</td>\n",
       "      <td>Action</td>\n",
       "      <td>Twentieth Century Fox Film Corporation</td>\n",
       "    </tr>\n",
       "    <tr>\n",
       "      <th>4</th>\n",
       "      <td>Michael Caine</td>\n",
       "      <td>Ridley Scott</td>\n",
       "      <td>sport</td>\n",
       "      <td>Romance</td>\n",
       "      <td>Columbia Pictures</td>\n",
       "    </tr>\n",
       "  </tbody>\n",
       "</table>\n",
       "</div>"
      ],
      "text/plain": [
       "        popular_cast  popular_director  popular_keywords popular_genres  \\\n",
       "0  Samuel L. Jackson       Woody Allen  independent film          Drama   \n",
       "1     Robert De Niro    Clint Eastwood    woman director         Comedy   \n",
       "2       Bruce Willis  Steven Spielberg    based on novel       Thriller   \n",
       "3       Nicolas Cage   Martin Scorsese               sex         Action   \n",
       "4      Michael Caine      Ridley Scott             sport        Romance   \n",
       "\n",
       "                         popular_producer  \n",
       "0                      Universal Pictures  \n",
       "1                            Warner Bros.  \n",
       "2                      Paramount Pictures  \n",
       "3  Twentieth Century Fox Film Corporation  \n",
       "4                       Columbia Pictures  "
      ]
     },
     "execution_count": 51,
     "metadata": {},
     "output_type": "execute_result"
    }
   ],
   "source": [
    "popular_summary"
   ]
  },
  {
   "cell_type": "markdown",
   "metadata": {},
   "source": [
    "The following can be inferred from the data considered from popular and unpopular:\n",
    "\n",
    "**Cast associated with highly popular movies**: Robin Williams\n",
    "\n",
    "**Director associated with highly popular movies**: Steven Soderbergh\n",
    "\n",
    "**Genres associated with highly popular movies**: All genres present in top 5% are present in bottom 5%.\n",
    "\n",
    "**Keywords associated with highly popular movies**: All keywords present in top 5% are present in bottom 5%.\n",
    "\n",
    "**Producer associated with highly popular movies**: All producers present in top 5% are present in bottom 5%\n"
   ]
  },
  {
   "cell_type": "markdown",
   "metadata": {},
   "source": [
    "### Question 2: What are the common datapoints for movies with high voting scores\n",
    "\n",
    "1. Which budget category movies are associated with movies that have high voting scores?\n",
    "2. Which runtime category movies are associated with movies that have high voting scores on average?\n",
    "3. What other categorical attributes are associated with high voting scores?\n",
    "\n",
    "\n",
    "\n",
    "*Answering: Which budget category movies are associated with movies that have high voting scores?*\n",
    "\n",
    "Budget data is divided into four levels with quartiles: 'Low', 'Medium', 'High', 'Very High' and create a level column.\n"
   ]
  },
  {
   "cell_type": "code",
   "execution_count": 52,
   "metadata": {},
   "outputs": [
    {
     "data": {
      "text/plain": [
       "0    Very High\n",
       "1    Very High\n",
       "Name: budget_levels, dtype: category\n",
       "Categories (4, object): [Low < Medium < High < Very High]"
      ]
     },
     "execution_count": 52,
     "metadata": {},
     "output_type": "execute_result"
    }
   ],
   "source": [
    "# Generate budget into categories\n",
    "budget_data = categorize_per_quantile(data,'budget')\n",
    "\n",
    "# Test that budget_levels column is created and categorized\n",
    "budget_data['budget_levels'].head(2)"
   ]
  },
  {
   "cell_type": "code",
   "execution_count": 53,
   "metadata": {},
   "outputs": [
    {
     "data": {
      "text/plain": [
       "budget_levels\n",
       "Low          5.947569\n",
       "Medium       6.016922\n",
       "High         6.066133\n",
       "Very High    6.104504\n",
       "Name: vote_average, dtype: float64"
      ]
     },
     "execution_count": 53,
     "metadata": {},
     "output_type": "execute_result"
    }
   ],
   "source": [
    "# Find the mean voting average of each level with groupby\n",
    "budget_mean = budget_data.groupby('budget_levels')['vote_average'].mean()\n",
    "budget_mean"
   ]
  },
  {
   "cell_type": "code",
   "execution_count": 54,
   "metadata": {
    "scrolled": true
   },
   "outputs": [
    {
     "data": {
      "text/plain": [
       "budget_levels\n",
       "Low          6.0\n",
       "Medium       6.1\n",
       "High         6.1\n",
       "Very High    6.1\n",
       "Name: vote_average, dtype: float64"
      ]
     },
     "execution_count": 54,
     "metadata": {},
     "output_type": "execute_result"
    }
   ],
   "source": [
    "# Find the median voting average of each level with groupby\n",
    "budget_median = budget_data.groupby('budget_levels')['vote_average'].median()\n",
    "budget_median"
   ]
  },
  {
   "cell_type": "code",
   "execution_count": 55,
   "metadata": {},
   "outputs": [
    {
     "data": {
      "text/plain": [
       "array([0, 1, 2, 3])"
      ]
     },
     "execution_count": 55,
     "metadata": {},
     "output_type": "execute_result"
    }
   ],
   "source": [
    "# Prepare the x locations for the generated groups\n",
    "ind = np.arange(len(budget_mean))  \n",
    "\n",
    "# the width of the bars\n",
    "width = 0.5       \n",
    "\n",
    "ind"
   ]
  },
  {
   "cell_type": "code",
   "execution_count": 56,
   "metadata": {},
   "outputs": [
    {
     "data": {
      "text/plain": [
       "<matplotlib.legend.Legend at 0x2a7db71b630>"
      ]
     },
     "execution_count": 56,
     "metadata": {},
     "output_type": "execute_result"
    },
    {
     "data": {
      "image/png": "[encoded data removed]",
      "text/plain": [
       "<Figure size 432x288 with 1 Axes>"
      ]
     },
     "metadata": {},
     "output_type": "display_data"
    }
   ],
   "source": [
    "# Plot\n",
    "\n",
    "# Set style\n",
    "sns.set_style('whitegrid')\n",
    "bars = plt.bar(ind, budget_mean, width, color='r', alpha=0.5, label='mean')\n",
    "\n",
    "# Title and Labels\n",
    "plt.ylabel('Vote average')\n",
    "plt.xlabel('budget levels')\n",
    "plt.title('Popularity with Budget Levels')\n",
    "locations = ind\n",
    "labels = budget_mean.index  \n",
    "plt.xticks(locations, labels)\n",
    "\n",
    "# legend\n",
    "plt.legend()"
   ]
  },
  {
   "cell_type": "markdown",
   "metadata": {},
   "source": [
    "\n",
    "###### From the plot we can infer that movies with higher budget level have no effect on vote averages. \n",
    "\n",
    "\n",
    "*Answering: Which runtime category movies are associated with movies that have high vote averages?*\n",
    "\n",
    "Runtime data is divided into four levels with quartiles: 'Low', 'Medium', 'High', 'Very High' and create a level column."
   ]
  },
  {
   "cell_type": "code",
   "execution_count": 57,
   "metadata": {},
   "outputs": [
    {
     "data": {
      "text/plain": [
       "0    Very High\n",
       "1    Very High\n",
       "Name: runtime_levels, dtype: category\n",
       "Categories (4, object): [Low < Medium < High < Very High]"
      ]
     },
     "execution_count": 57,
     "metadata": {},
     "output_type": "execute_result"
    }
   ],
   "source": [
    "# Generate runtime into categories\n",
    "runtime_data = categorize_per_quantile(data,'runtime')\n",
    "\n",
    "# Test that runtime column is created and categorized\n",
    "runtime_data['runtime_levels'].head(2)"
   ]
  },
  {
   "cell_type": "code",
   "execution_count": 58,
   "metadata": {
    "scrolled": true
   },
   "outputs": [
    {
     "data": {
      "text/plain": [
       "runtime_levels\n",
       "Low          5.726425\n",
       "Medium       5.724355\n",
       "High         6.044946\n",
       "Very High    6.401297\n",
       "Name: vote_average, dtype: float64"
      ]
     },
     "execution_count": 58,
     "metadata": {},
     "output_type": "execute_result"
    }
   ],
   "source": [
    "# Find the mean runtime of each level with groupby\n",
    "runtime_mean = runtime_data.groupby('runtime_levels')['vote_average'].mean()\n",
    "runtime_mean"
   ]
  },
  {
   "cell_type": "code",
   "execution_count": 59,
   "metadata": {
    "scrolled": true
   },
   "outputs": [
    {
     "data": {
      "text/plain": [
       "runtime_levels\n",
       "Low          5.8\n",
       "Medium       5.8\n",
       "High         6.1\n",
       "Very High    6.4\n",
       "Name: vote_average, dtype: float64"
      ]
     },
     "execution_count": 59,
     "metadata": {},
     "output_type": "execute_result"
    }
   ],
   "source": [
    "# Find the median runtime of each level with groupby\n",
    "runtime_median = runtime_data.groupby('runtime_levels')['vote_average'].median()\n",
    "runtime_median"
   ]
  },
  {
   "cell_type": "code",
   "execution_count": 60,
   "metadata": {},
   "outputs": [
    {
     "data": {
      "text/plain": [
       "array([0, 1, 2, 3])"
      ]
     },
     "execution_count": 60,
     "metadata": {},
     "output_type": "execute_result"
    }
   ],
   "source": [
    "# Prepare the x locations for the generated groups\n",
    "ind = np.arange(len(runtime_median))  \n",
    "\n",
    "# the width of the bars\n",
    "width = 0.5       \n",
    "\n",
    "ind"
   ]
  },
  {
   "cell_type": "code",
   "execution_count": 61,
   "metadata": {},
   "outputs": [
    {
     "data": {
      "text/plain": [
       "<matplotlib.legend.Legend at 0x2a7db725908>"
      ]
     },
     "execution_count": 61,
     "metadata": {},
     "output_type": "execute_result"
    },
    {
     "data": {
      "image/png": "[encoded data removed]",
      "text/plain": [
       "<Figure size 432x288 with 1 Axes>"
      ]
     },
     "metadata": {},
     "output_type": "display_data"
    }
   ],
   "source": [
    "# Plot\n",
    "\n",
    "# Set style\n",
    "sns.set_style('whitegrid')\n",
    "bars = plt.bar(ind, runtime_median, width, color='g', alpha=0.5, label='median')\n",
    "\n",
    "# Title and Labels\n",
    "plt.ylabel('Vote average')\n",
    "plt.xlabel('runtime levels')\n",
    "plt.title('Popularity with Runtime Levels')\n",
    "locations = ind\n",
    "labels = runtime_median.index  \n",
    "plt.xticks(locations, labels)\n",
    "\n",
    "# legend\n",
    "plt.legend()"
   ]
  },
  {
   "cell_type": "markdown",
   "metadata": {},
   "source": [
    "\n",
    "###### From the plot we can infer that movies with high runtime have little or no effect on vote average. \n",
    "\n",
    "\n",
    "*Answering: What other categorical attributes are associated with high vote averages?*\n",
    "\n",
    "We start analysis with dataframe: top_rated_movies. It is the dataframe with top 5% high rated movies."
   ]
  },
  {
   "cell_type": "code",
   "execution_count": 62,
   "metadata": {
    "scrolled": true
   },
   "outputs": [
    {
     "data": {
      "text/html": [
       "<div>\n",
       "<style scoped>\n",
       "    .dataframe tbody tr th:only-of-type {\n",
       "        vertical-align: middle;\n",
       "    }\n",
       "\n",
       "    .dataframe tbody tr th {\n",
       "        vertical-align: top;\n",
       "    }\n",
       "\n",
       "    .dataframe thead th {\n",
       "        text-align: right;\n",
       "    }\n",
       "</style>\n",
       "<table border=\"1\" class=\"dataframe\">\n",
       "  <thead>\n",
       "    <tr style=\"text-align: right;\">\n",
       "      <th></th>\n",
       "      <th>id</th>\n",
       "      <th>popularity</th>\n",
       "      <th>budget</th>\n",
       "      <th>revenue</th>\n",
       "      <th>original_title</th>\n",
       "      <th>cast</th>\n",
       "      <th>director</th>\n",
       "      <th>keywords</th>\n",
       "      <th>runtime</th>\n",
       "      <th>genres</th>\n",
       "      <th>production_companies</th>\n",
       "      <th>release_date</th>\n",
       "      <th>vote_count</th>\n",
       "      <th>vote_average</th>\n",
       "      <th>release_year</th>\n",
       "    </tr>\n",
       "  </thead>\n",
       "  <tbody>\n",
       "    <tr>\n",
       "      <th>0</th>\n",
       "      <td>539</td>\n",
       "      <td>2.610362</td>\n",
       "      <td>806948.0</td>\n",
       "      <td>32000000.0</td>\n",
       "      <td>Psycho</td>\n",
       "      <td>Anthony Perkins|Vera Miles|John Gavin|Janet Le...</td>\n",
       "      <td>Alfred Hitchcock</td>\n",
       "      <td>hotel|clerk|arizona|shower|rain</td>\n",
       "      <td>109</td>\n",
       "      <td>Drama|Horror|Thriller</td>\n",
       "      <td>Shamley Productions</td>\n",
       "      <td>8/14/60</td>\n",
       "      <td>1180</td>\n",
       "      <td>8.0</td>\n",
       "      <td>1960</td>\n",
       "    </tr>\n",
       "    <tr>\n",
       "      <th>1</th>\n",
       "      <td>284</td>\n",
       "      <td>0.947307</td>\n",
       "      <td>3000000.0</td>\n",
       "      <td>25000000.0</td>\n",
       "      <td>The Apartment</td>\n",
       "      <td>Jack Lemmon|Shirley MacLaine|Fred MacMurray|Ra...</td>\n",
       "      <td>Billy Wilder</td>\n",
       "      <td>new york|new year's eve|lovesickness|age diffe...</td>\n",
       "      <td>125</td>\n",
       "      <td>Comedy|Drama|Romance</td>\n",
       "      <td>United Artists|The Mirisch Company</td>\n",
       "      <td>6/15/60</td>\n",
       "      <td>235</td>\n",
       "      <td>7.9</td>\n",
       "      <td>1960</td>\n",
       "    </tr>\n",
       "  </tbody>\n",
       "</table>\n",
       "</div>"
      ],
      "text/plain": [
       "    id  popularity     budget     revenue original_title  \\\n",
       "0  539    2.610362   806948.0  32000000.0         Psycho   \n",
       "1  284    0.947307  3000000.0  25000000.0  The Apartment   \n",
       "\n",
       "                                                cast          director  \\\n",
       "0  Anthony Perkins|Vera Miles|John Gavin|Janet Le...  Alfred Hitchcock   \n",
       "1  Jack Lemmon|Shirley MacLaine|Fred MacMurray|Ra...      Billy Wilder   \n",
       "\n",
       "                                            keywords  runtime  \\\n",
       "0                    hotel|clerk|arizona|shower|rain      109   \n",
       "1  new york|new year's eve|lovesickness|age diffe...      125   \n",
       "\n",
       "                  genres                production_companies release_date  \\\n",
       "0  Drama|Horror|Thriller                 Shamley Productions      8/14/60   \n",
       "1   Comedy|Drama|Romance  United Artists|The Mirisch Company      6/15/60   \n",
       "\n",
       "   vote_count  vote_average  release_year  \n",
       "0        1180           8.0          1960  \n",
       "1         235           7.9          1960  "
      ]
     },
     "execution_count": 62,
     "metadata": {},
     "output_type": "execute_result"
    }
   ],
   "source": [
    "top_rated_movies.head(2)"
   ]
  },
  {
   "cell_type": "markdown",
   "metadata": {},
   "source": [
    "Select the five highest occurrences in each category among the top 5% vote average movies and store into temporary summary tables"
   ]
  },
  {
   "cell_type": "code",
   "execution_count": 63,
   "metadata": {},
   "outputs": [],
   "source": [
    "# Find top five cast occurrences\n",
    "cast_occurrences = find_top_few(top_rated_movies.cast, 5)\n",
    "\n",
    "# Find top five director occurrences\n",
    "director_occurrences = find_top_few(top_rated_movies.director, 5)\n",
    "\n",
    "# Find top five keyword occurrences\n",
    "keyword_occurrences = find_top_few(top_rated_movies.keywords, 5)\n",
    "\n",
    "# Find top five genres occurrences\n",
    "genre_occurrences = find_top_few(top_rated_movies.genres, 5)\n",
    "\n",
    "# Find top five production companies occurrences\n",
    "production_occurrences = find_top_few(top_rated_movies.production_companies, 5)"
   ]
  },
  {
   "cell_type": "code",
   "execution_count": 64,
   "metadata": {},
   "outputs": [
    {
     "data": {
      "text/html": [
       "<div>\n",
       "<style scoped>\n",
       "    .dataframe tbody tr th:only-of-type {\n",
       "        vertical-align: middle;\n",
       "    }\n",
       "\n",
       "    .dataframe tbody tr th {\n",
       "        vertical-align: top;\n",
       "    }\n",
       "\n",
       "    .dataframe thead th {\n",
       "        text-align: right;\n",
       "    }\n",
       "</style>\n",
       "<table border=\"1\" class=\"dataframe\">\n",
       "  <thead>\n",
       "    <tr style=\"text-align: right;\">\n",
       "      <th></th>\n",
       "      <th>popular_cast</th>\n",
       "      <th>popular_director</th>\n",
       "      <th>popular_keywords</th>\n",
       "      <th>popular_genres</th>\n",
       "      <th>popular_producer</th>\n",
       "    </tr>\n",
       "  </thead>\n",
       "  <tbody>\n",
       "    <tr>\n",
       "      <th>0</th>\n",
       "      <td>Robert De Niro</td>\n",
       "      <td>Woody Allen</td>\n",
       "      <td>independent film</td>\n",
       "      <td>Drama</td>\n",
       "      <td>Universal Pictures</td>\n",
       "    </tr>\n",
       "    <tr>\n",
       "      <th>1</th>\n",
       "      <td>Samuel L. Jackson</td>\n",
       "      <td>Clint Eastwood</td>\n",
       "      <td>woman director</td>\n",
       "      <td>Comedy</td>\n",
       "      <td>Warner Bros.</td>\n",
       "    </tr>\n",
       "    <tr>\n",
       "      <th>2</th>\n",
       "      <td>Bruce Willis</td>\n",
       "      <td>Martin Scorsese</td>\n",
       "      <td>based on novel</td>\n",
       "      <td>Thriller</td>\n",
       "      <td>Paramount Pictures</td>\n",
       "    </tr>\n",
       "    <tr>\n",
       "      <th>3</th>\n",
       "      <td>Nicolas Cage</td>\n",
       "      <td>Steven Spielberg</td>\n",
       "      <td>sex</td>\n",
       "      <td>Action</td>\n",
       "      <td>Twentieth Century Fox Film Corporation</td>\n",
       "    </tr>\n",
       "    <tr>\n",
       "      <th>4</th>\n",
       "      <td>Michael Caine</td>\n",
       "      <td>Ridley Scott</td>\n",
       "      <td>sport</td>\n",
       "      <td>Romance</td>\n",
       "      <td>Columbia Pictures</td>\n",
       "    </tr>\n",
       "  </tbody>\n",
       "</table>\n",
       "</div>"
      ],
      "text/plain": [
       "        popular_cast  popular_director  popular_keywords popular_genres  \\\n",
       "0     Robert De Niro       Woody Allen  independent film          Drama   \n",
       "1  Samuel L. Jackson    Clint Eastwood    woman director         Comedy   \n",
       "2       Bruce Willis   Martin Scorsese    based on novel       Thriller   \n",
       "3       Nicolas Cage  Steven Spielberg               sex         Action   \n",
       "4      Michael Caine      Ridley Scott             sport        Romance   \n",
       "\n",
       "                         popular_producer  \n",
       "0                      Universal Pictures  \n",
       "1                            Warner Bros.  \n",
       "2                      Paramount Pictures  \n",
       "3  Twentieth Century Fox Film Corporation  \n",
       "4                       Columbia Pictures  "
      ]
     },
     "execution_count": 64,
     "metadata": {},
     "output_type": "execute_result"
    }
   ],
   "source": [
    "#Use the result above to create a summary dataframe.\n",
    "top_vote_average_summary = pd.DataFrame({'popular_cast': cast_occurrences.index, \n",
    "                                         'popular_director': director_occurrences.index, \n",
    "                                         'popular_keywords': keyword_occurrences.index, \n",
    "                                         'popular_genres': genre_occurrences.index, \n",
    "                                         'popular_producer': production_occurrences.index})\n",
    "top_vote_average_summary"
   ]
  },
  {
   "cell_type": "markdown",
   "metadata": {},
   "source": [
    "Find the five most occurrences in each category among the 5% of least vote average movies."
   ]
  },
  {
   "cell_type": "code",
   "execution_count": 65,
   "metadata": {
    "scrolled": false
   },
   "outputs": [
    {
     "data": {
      "text/html": [
       "<div>\n",
       "<style scoped>\n",
       "    .dataframe tbody tr th:only-of-type {\n",
       "        vertical-align: middle;\n",
       "    }\n",
       "\n",
       "    .dataframe tbody tr th {\n",
       "        vertical-align: top;\n",
       "    }\n",
       "\n",
       "    .dataframe thead th {\n",
       "        text-align: right;\n",
       "    }\n",
       "</style>\n",
       "<table border=\"1\" class=\"dataframe\">\n",
       "  <thead>\n",
       "    <tr style=\"text-align: right;\">\n",
       "      <th></th>\n",
       "      <th>id</th>\n",
       "      <th>popularity</th>\n",
       "      <th>budget</th>\n",
       "      <th>revenue</th>\n",
       "      <th>original_title</th>\n",
       "      <th>cast</th>\n",
       "      <th>director</th>\n",
       "      <th>keywords</th>\n",
       "      <th>runtime</th>\n",
       "      <th>genres</th>\n",
       "      <th>production_companies</th>\n",
       "      <th>release_date</th>\n",
       "      <th>vote_count</th>\n",
       "      <th>vote_average</th>\n",
       "      <th>release_year</th>\n",
       "    </tr>\n",
       "  </thead>\n",
       "  <tbody>\n",
       "    <tr>\n",
       "      <th>0</th>\n",
       "      <td>24014</td>\n",
       "      <td>0.875173</td>\n",
       "      <td>NaN</td>\n",
       "      <td>NaN</td>\n",
       "      <td>Let's Make Love</td>\n",
       "      <td>Marilyn Monroe|Yves Montand|Tony Randall|Frank...</td>\n",
       "      <td>George Cukor</td>\n",
       "      <td>musical</td>\n",
       "      <td>114</td>\n",
       "      <td>Comedy|Romance</td>\n",
       "      <td>Twentieth Century Fox Film Corporation|The Com...</td>\n",
       "      <td>10/7/60</td>\n",
       "      <td>15</td>\n",
       "      <td>4.9</td>\n",
       "      <td>1960</td>\n",
       "    </tr>\n",
       "    <tr>\n",
       "      <th>1</th>\n",
       "      <td>6643</td>\n",
       "      <td>0.421043</td>\n",
       "      <td>NaN</td>\n",
       "      <td>NaN</td>\n",
       "      <td>The Unforgiven</td>\n",
       "      <td>Burt Lancaster|Audrey Hepburn|Audie Murphy|Joh...</td>\n",
       "      <td>John Huston</td>\n",
       "      <td>indian|texas|farm|siblings|saddle</td>\n",
       "      <td>125</td>\n",
       "      <td>Action|Drama|Western</td>\n",
       "      <td>James Productions</td>\n",
       "      <td>1/1/60</td>\n",
       "      <td>17</td>\n",
       "      <td>4.9</td>\n",
       "      <td>1960</td>\n",
       "    </tr>\n",
       "  </tbody>\n",
       "</table>\n",
       "</div>"
      ],
      "text/plain": [
       "      id  popularity  budget  revenue   original_title  \\\n",
       "0  24014    0.875173     NaN      NaN  Let's Make Love   \n",
       "1   6643    0.421043     NaN      NaN   The Unforgiven   \n",
       "\n",
       "                                                cast      director  \\\n",
       "0  Marilyn Monroe|Yves Montand|Tony Randall|Frank...  George Cukor   \n",
       "1  Burt Lancaster|Audrey Hepburn|Audie Murphy|Joh...   John Huston   \n",
       "\n",
       "                            keywords  runtime                genres  \\\n",
       "0                            musical      114        Comedy|Romance   \n",
       "1  indian|texas|farm|siblings|saddle      125  Action|Drama|Western   \n",
       "\n",
       "                                production_companies release_date  vote_count  \\\n",
       "0  Twentieth Century Fox Film Corporation|The Com...      10/7/60          15   \n",
       "1                                  James Productions       1/1/60          17   \n",
       "\n",
       "   vote_average  release_year  \n",
       "0           4.9          1960  \n",
       "1           4.9          1960  "
      ]
     },
     "execution_count": 65,
     "metadata": {},
     "output_type": "execute_result"
    }
   ],
   "source": [
    "least_rated_movies.head(2)"
   ]
  },
  {
   "cell_type": "code",
   "execution_count": 66,
   "metadata": {},
   "outputs": [],
   "source": [
    "# Find bottom five cast occurrences\n",
    "cast_occurrences = find_top_few(least_rated_movies.cast, 5)\n",
    "\n",
    "# Find bottom five director occurrences\n",
    "director_occurrences = find_top_few(least_rated_movies.director, 5)\n",
    "\n",
    "# Find bottom five keyword occurrences\n",
    "keyword_occurrences = find_top_few(least_rated_movies.keywords, 5)\n",
    "\n",
    "# Find bottom five genres occurrences\n",
    "genre_occurrences = find_top_few(least_rated_movies.genres, 5)\n",
    "\n",
    "# Find bottom five production companies occurrences\n",
    "production_occurrences = find_top_few(least_rated_movies.production_companies, 5)"
   ]
  },
  {
   "cell_type": "markdown",
   "metadata": {},
   "source": [
    "Create a summary table"
   ]
  },
  {
   "cell_type": "code",
   "execution_count": 67,
   "metadata": {},
   "outputs": [
    {
     "data": {
      "text/html": [
       "<div>\n",
       "<style scoped>\n",
       "    .dataframe tbody tr th:only-of-type {\n",
       "        vertical-align: middle;\n",
       "    }\n",
       "\n",
       "    .dataframe tbody tr th {\n",
       "        vertical-align: top;\n",
       "    }\n",
       "\n",
       "    .dataframe thead th {\n",
       "        text-align: right;\n",
       "    }\n",
       "</style>\n",
       "<table border=\"1\" class=\"dataframe\">\n",
       "  <thead>\n",
       "    <tr style=\"text-align: right;\">\n",
       "      <th></th>\n",
       "      <th>unpopular_cast</th>\n",
       "      <th>unpopular_director</th>\n",
       "      <th>unpopular_keywords</th>\n",
       "      <th>unpopular_genres</th>\n",
       "      <th>unpopular_producer</th>\n",
       "    </tr>\n",
       "  </thead>\n",
       "  <tbody>\n",
       "    <tr>\n",
       "      <th>0</th>\n",
       "      <td>Robert De Niro</td>\n",
       "      <td>Woody Allen</td>\n",
       "      <td>independent film</td>\n",
       "      <td>Drama</td>\n",
       "      <td>Universal Pictures</td>\n",
       "    </tr>\n",
       "    <tr>\n",
       "      <th>1</th>\n",
       "      <td>Samuel L. Jackson</td>\n",
       "      <td>Clint Eastwood</td>\n",
       "      <td>woman director</td>\n",
       "      <td>Comedy</td>\n",
       "      <td>Warner Bros.</td>\n",
       "    </tr>\n",
       "    <tr>\n",
       "      <th>2</th>\n",
       "      <td>Nicolas Cage</td>\n",
       "      <td>Steven Spielberg</td>\n",
       "      <td>sex</td>\n",
       "      <td>Thriller</td>\n",
       "      <td>Paramount Pictures</td>\n",
       "    </tr>\n",
       "    <tr>\n",
       "      <th>3</th>\n",
       "      <td>Bruce Willis</td>\n",
       "      <td>Martin Scorsese</td>\n",
       "      <td>based on novel</td>\n",
       "      <td>Action</td>\n",
       "      <td>Twentieth Century Fox Film Corporation</td>\n",
       "    </tr>\n",
       "    <tr>\n",
       "      <th>4</th>\n",
       "      <td>Robin Williams</td>\n",
       "      <td>Steven Soderbergh</td>\n",
       "      <td>sport</td>\n",
       "      <td>Romance</td>\n",
       "      <td>Columbia Pictures</td>\n",
       "    </tr>\n",
       "  </tbody>\n",
       "</table>\n",
       "</div>"
      ],
      "text/plain": [
       "      unpopular_cast unpopular_director unpopular_keywords unpopular_genres  \\\n",
       "0     Robert De Niro        Woody Allen   independent film            Drama   \n",
       "1  Samuel L. Jackson     Clint Eastwood     woman director           Comedy   \n",
       "2       Nicolas Cage   Steven Spielberg                sex         Thriller   \n",
       "3       Bruce Willis    Martin Scorsese     based on novel           Action   \n",
       "4     Robin Williams  Steven Soderbergh              sport          Romance   \n",
       "\n",
       "                       unpopular_producer  \n",
       "0                      Universal Pictures  \n",
       "1                            Warner Bros.  \n",
       "2                      Paramount Pictures  \n",
       "3  Twentieth Century Fox Film Corporation  \n",
       "4                       Columbia Pictures  "
      ]
     },
     "execution_count": 67,
     "metadata": {},
     "output_type": "execute_result"
    }
   ],
   "source": [
    "#Use the result above to create a summary dataframe.\n",
    "low_vote_average_summary = pd.DataFrame({'unpopular_cast': cast_occurrences.index, \n",
    "                                         'unpopular_director': director_occurrences.index, \n",
    "                                         'unpopular_keywords': keyword_occurrences.index, \n",
    "                                         'unpopular_genres': genre_occurrences.index, \n",
    "                                         'unpopular_producer': production_occurrences.index})\n",
    "low_vote_average_summary"
   ]
  },
  {
   "cell_type": "code",
   "execution_count": 68,
   "metadata": {
    "scrolled": true
   },
   "outputs": [
    {
     "data": {
      "text/html": [
       "<div>\n",
       "<style scoped>\n",
       "    .dataframe tbody tr th:only-of-type {\n",
       "        vertical-align: middle;\n",
       "    }\n",
       "\n",
       "    .dataframe tbody tr th {\n",
       "        vertical-align: top;\n",
       "    }\n",
       "\n",
       "    .dataframe thead th {\n",
       "        text-align: right;\n",
       "    }\n",
       "</style>\n",
       "<table border=\"1\" class=\"dataframe\">\n",
       "  <thead>\n",
       "    <tr style=\"text-align: right;\">\n",
       "      <th></th>\n",
       "      <th>popular_cast</th>\n",
       "      <th>popular_director</th>\n",
       "      <th>popular_keywords</th>\n",
       "      <th>popular_genres</th>\n",
       "      <th>popular_producer</th>\n",
       "    </tr>\n",
       "  </thead>\n",
       "  <tbody>\n",
       "    <tr>\n",
       "      <th>0</th>\n",
       "      <td>Robert De Niro</td>\n",
       "      <td>Woody Allen</td>\n",
       "      <td>independent film</td>\n",
       "      <td>Drama</td>\n",
       "      <td>Universal Pictures</td>\n",
       "    </tr>\n",
       "    <tr>\n",
       "      <th>1</th>\n",
       "      <td>Samuel L. Jackson</td>\n",
       "      <td>Clint Eastwood</td>\n",
       "      <td>woman director</td>\n",
       "      <td>Comedy</td>\n",
       "      <td>Warner Bros.</td>\n",
       "    </tr>\n",
       "    <tr>\n",
       "      <th>2</th>\n",
       "      <td>Bruce Willis</td>\n",
       "      <td>Martin Scorsese</td>\n",
       "      <td>based on novel</td>\n",
       "      <td>Thriller</td>\n",
       "      <td>Paramount Pictures</td>\n",
       "    </tr>\n",
       "    <tr>\n",
       "      <th>3</th>\n",
       "      <td>Nicolas Cage</td>\n",
       "      <td>Steven Spielberg</td>\n",
       "      <td>sex</td>\n",
       "      <td>Action</td>\n",
       "      <td>Twentieth Century Fox Film Corporation</td>\n",
       "    </tr>\n",
       "    <tr>\n",
       "      <th>4</th>\n",
       "      <td>Michael Caine</td>\n",
       "      <td>Ridley Scott</td>\n",
       "      <td>sport</td>\n",
       "      <td>Romance</td>\n",
       "      <td>Columbia Pictures</td>\n",
       "    </tr>\n",
       "  </tbody>\n",
       "</table>\n",
       "</div>"
      ],
      "text/plain": [
       "        popular_cast  popular_director  popular_keywords popular_genres  \\\n",
       "0     Robert De Niro       Woody Allen  independent film          Drama   \n",
       "1  Samuel L. Jackson    Clint Eastwood    woman director         Comedy   \n",
       "2       Bruce Willis   Martin Scorsese    based on novel       Thriller   \n",
       "3       Nicolas Cage  Steven Spielberg               sex         Action   \n",
       "4      Michael Caine      Ridley Scott             sport        Romance   \n",
       "\n",
       "                         popular_producer  \n",
       "0                      Universal Pictures  \n",
       "1                            Warner Bros.  \n",
       "2                      Paramount Pictures  \n",
       "3  Twentieth Century Fox Film Corporation  \n",
       "4                       Columbia Pictures  "
      ]
     },
     "execution_count": 68,
     "metadata": {},
     "output_type": "execute_result"
    }
   ],
   "source": [
    "top_vote_average_summary"
   ]
  },
  {
   "cell_type": "markdown",
   "metadata": {},
   "source": [
    "The following can be inferred from the data considered from popular and unpopular:\n",
    "\n",
    "**Cast associated with movies with high vote averages**: Robin Williams\n",
    "\n",
    "**Director associated with movies with high vote averages**: Steven Soderbergh\n",
    "\n",
    "**Genres associated with movies with high vote averages**: All genres present in top 5% are present in bottom 5%.\n",
    "\n",
    "**Keywords associated with movies with high vote averages**: All keywords present in top 5% are present in bottom 5%.\n",
    "\n",
    "**Producer associated with movies with high vote averages**: All producers present in top 5% are present in bottom 5%\n",
    "\n",
    "\n",
    "### Research 2: Exploration Summary\n",
    "\n",
    "1. Properties associated with high popularity movies: high budget levels, longer run time. \n",
    "2. Cast associated with high popularity movies: Robin Williams \n",
    "3. Director associated with high popularity movies:  Steven Soderbergh\n",
    "4. Genres, Keywords & Producers associated with high popularity movies are no different than that of unpopular movies.\n",
    "\n",
    "Both runtime and budget didn't have obvious differences in high rating score. Low budget may have a high rating or vice versa. "
   ]
  },
  {
   "cell_type": "markdown",
   "metadata": {},
   "source": [
    "### Research Question 3: Top trends (genre, keywords) over years\n",
    "\n",
    "Questions:\n",
    "1. Number of movies released year by year\n",
    "2. Trends over the years based on Genre\n",
    "3. Trends over the years based on Keywords\n",
    "\n",
    "\n",
    "In question 1, Number of movies released year on year will be analysed.\n",
    "\n",
    "In questions 2 and 3, To find which keywords and genres appeared most by generation, we handle in two steps\n",
    "Step one: group the data into five generations: 1960s, 1970s, 1980s, 1990s and 2000s\n",
    "Step two: use the find_top_few function to count the most appeared keyword and genre in each generation dataframe\n"
   ]
  },
  {
   "cell_type": "markdown",
   "metadata": {},
   "source": [
    "#### Question 1: Number of movie released year by year\n",
    "First, use group by release year and count the number of movie released in each year."
   ]
  },
  {
   "cell_type": "code",
   "execution_count": 69,
   "metadata": {},
   "outputs": [
    {
     "data": {
      "text/plain": [
       "release_year\n",
       "1960    32\n",
       "1961    31\n",
       "1962    32\n",
       "1963    34\n",
       "1964    42\n",
       "Name: id, dtype: int64"
      ]
     },
     "execution_count": 69,
     "metadata": {},
     "output_type": "execute_result"
    }
   ],
   "source": [
    "# Count the number of movies per release year\n",
    "movie_count = data.groupby('release_year').count()['id']\n",
    "movie_count.head()"
   ]
  },
  {
   "cell_type": "code",
   "execution_count": 70,
   "metadata": {},
   "outputs": [
    {
     "data": {
      "image/png": "[encoded data removed]",
      "text/plain": [
       "<Figure size 720x360 with 1 Axes>"
      ]
     },
     "metadata": {},
     "output_type": "display_data"
    }
   ],
   "source": [
    "# Plot the data\n",
    "\n",
    "#set style\n",
    "sns.set_style('whitegrid')\n",
    "\n",
    "# Set x-axis and y-axis data\n",
    "# x is the year of movie release\n",
    "x = movie_count.index\n",
    "\n",
    "# y is count of number of movies released\n",
    "y = movie_count\n",
    "\n",
    "# Set size\n",
    "plt.figure(figsize=(10, 5))\n",
    "\n",
    "# Plot line chart \n",
    "plt.plot(x, y, color = 'r', label = 'mean')\n",
    "\n",
    "# Set title and labels\n",
    "plt.title('Number of Movies Released year by year')\n",
    "plt.xlabel('Year')\n",
    "plt.ylabel('Number of Movies Released');"
   ]
  },
  {
   "cell_type": "markdown",
   "metadata": {},
   "source": [
    "We can see that the number of movies released are increasing year by year. \n",
    "And the it is the accelerated growth since the curve is concave upward.\n",
    "\n",
    "\n",
    "#### Question 2: Keywords Trends by Generation\n",
    "Sort the movie release year and group the dataframe into generation."
   ]
  },
  {
   "cell_type": "code",
   "execution_count": 71,
   "metadata": {},
   "outputs": [
    {
     "data": {
      "text/plain": [
       "array([1960, 1961, 1962, 1963, 1964, 1965, 1966, 1967, 1968, 1969, 1970,\n",
       "       1971, 1972, 1973, 1974, 1975, 1976, 1977, 1978, 1979, 1980, 1981,\n",
       "       1982, 1983, 1984, 1985, 1986, 1987, 1988, 1989, 1990, 1991, 1992,\n",
       "       1993, 1994, 1995, 1996, 1997, 1998, 1999, 2000, 2001, 2002, 2003,\n",
       "       2004, 2005, 2006, 2007, 2008, 2009, 2010, 2011, 2012, 2013, 2014,\n",
       "       2015], dtype=int64)"
      ]
     },
     "execution_count": 71,
     "metadata": {},
     "output_type": "execute_result"
    }
   ],
   "source": [
    "# Sort the movie release year list.\n",
    "\n",
    "year_data = data.release_year.unique()\n",
    "year_data = np.sort(year_data)\n",
    "year_data"
   ]
  },
  {
   "cell_type": "code",
   "execution_count": 72,
   "metadata": {},
   "outputs": [],
   "source": [
    "# year list of 1960s\n",
    "y1960s = year_data[:10]\n",
    "\n",
    "# year list of 1970s\n",
    "y1970s = year_data[10:20]\n",
    "\n",
    "# year list of 1980s\n",
    "y1980s = year_data[20:30]\n",
    "\n",
    "# year list of 1990s\n",
    "y1990s = year_data[30:40]\n",
    "\n",
    "# year list of afer 2000\n",
    "y2000 = year_data[40:]"
   ]
  },
  {
   "cell_type": "markdown",
   "metadata": {},
   "source": [
    "For each generation dataframe, use the find_top_few to find out the most appeared keywords, then combine this result to a new dataframe."
   ]
  },
  {
   "cell_type": "code",
   "execution_count": 73,
   "metadata": {},
   "outputs": [
    {
     "data": {
      "text/html": [
       "<div>\n",
       "<style scoped>\n",
       "    .dataframe tbody tr th:only-of-type {\n",
       "        vertical-align: middle;\n",
       "    }\n",
       "\n",
       "    .dataframe tbody tr th {\n",
       "        vertical-align: top;\n",
       "    }\n",
       "\n",
       "    .dataframe thead th {\n",
       "        text-align: right;\n",
       "    }\n",
       "</style>\n",
       "<table border=\"1\" class=\"dataframe\">\n",
       "  <thead>\n",
       "    <tr style=\"text-align: right;\">\n",
       "      <th></th>\n",
       "      <th>year</th>\n",
       "      <th>top</th>\n",
       "    </tr>\n",
       "  </thead>\n",
       "  <tbody>\n",
       "    <tr>\n",
       "      <th>based on novel</th>\n",
       "      <td>1960s</td>\n",
       "      <td>16</td>\n",
       "    </tr>\n",
       "    <tr>\n",
       "      <th>based on novel</th>\n",
       "      <td>1970s</td>\n",
       "      <td>23</td>\n",
       "    </tr>\n",
       "    <tr>\n",
       "      <th>nudity</th>\n",
       "      <td>1980s</td>\n",
       "      <td>39</td>\n",
       "    </tr>\n",
       "    <tr>\n",
       "      <th>independent film</th>\n",
       "      <td>1990s</td>\n",
       "      <td>80</td>\n",
       "    </tr>\n",
       "    <tr>\n",
       "      <th>woman director</th>\n",
       "      <td>after2000</td>\n",
       "      <td>347</td>\n",
       "    </tr>\n",
       "  </tbody>\n",
       "</table>\n",
       "</div>"
      ],
      "text/plain": [
       "                       year  top\n",
       "based on novel        1960s   16\n",
       "based on novel        1970s   23\n",
       "nudity                1980s   39\n",
       "independent film      1990s   80\n",
       "woman director    after2000  347"
      ]
     },
     "execution_count": 73,
     "metadata": {},
     "output_type": "execute_result"
    }
   ],
   "source": [
    "# Year list for each generation\n",
    "times = [y1960s, y1970s, y1980s, y1990s, y2000]\n",
    "\n",
    "# Generation names\n",
    "names = ['1960s', '1970s', '1980s', '1990s', 'after2000']\n",
    "\n",
    "# Create an empty dataframe\n",
    "summary = pd.DataFrame()\n",
    "\n",
    "index = 0\n",
    "# For each generation, do the following procedure\n",
    "for year_data in times:\n",
    "    # first filter dataframe with the selected generation, and store it to temporary dataframe\n",
    "    temp_data = data[data.release_year.isin(year_data)] \n",
    "    \n",
    "    # Apply the find_top_few function with the selected frame, using the result create a dataframe, store it to another temporary dataframe\n",
    "    temp_data_2 = pd.DataFrame({'year' :names[index], 'top': find_top_few(temp_data.keywords,1)})\n",
    "    \n",
    "    # Append temp_data_2 to summary\n",
    "    summary = summary.append(temp_data_2)\n",
    "    index +=1\n",
    "    \n",
    "summary"
   ]
  },
  {
   "cell_type": "markdown",
   "metadata": {},
   "source": [
    "The list is keywords of most filmed movies in each generation. In 1960s and 1970s, the top keywords were based on novel. In 1980s, the top keyword was nudity. In 1990s, independent film became the top keyword. And after 2000, the movie featuring woman directors were released most.\n",
    "\n",
    "Plot the data."
   ]
  },
  {
   "cell_type": "code",
   "execution_count": 74,
   "metadata": {},
   "outputs": [
    {
     "data": {
      "text/plain": [
       "Text(0.5,1,'Keywords Trends by Generation')"
      ]
     },
     "execution_count": 74,
     "metadata": {},
     "output_type": "execute_result"
    },
    {
     "data": {
      "image/png": "[encoded data removed]",
      "text/plain": [
       "<Figure size 432x288 with 2 Axes>"
      ]
     },
     "metadata": {},
     "output_type": "display_data"
    }
   ],
   "source": [
    "# Setting the positions\n",
    "generation = ['1960s', '1970s', '1980s', '1990s', 'after2000']\n",
    "\n",
    "keywords = summary.index\n",
    "\n",
    "y_pos = np.arange(len(generation))\n",
    "fig, ax = plt.subplots()\n",
    "\n",
    "# Create another axis to present the right-side y axis labels\n",
    "ax2 = ax.twinx()\n",
    "\n",
    "# Setting y1: the keywords count\n",
    "y1 = summary.top\n",
    "\n",
    "# Setting y2 again to present the right-side y axis labels\n",
    "y2 = summary.top\n",
    "\n",
    "# Plot the bar\n",
    "ax.barh(y_pos, y1, color = 'y')\n",
    "\n",
    "# Set the left side y axis ticks position\n",
    "ax.set_yticks(y_pos)\n",
    "\n",
    "# Set the left side y axis tick label\n",
    "ax.set_yticklabels(keywords)\n",
    "\n",
    "# Set left side y axis label\n",
    "ax.set_ylabel('Keywords')\n",
    "\n",
    "\n",
    "\n",
    "# Set right side y axis label\n",
    "ax2.set_ylabel('Generation')\n",
    "\n",
    "# Plot the bar\n",
    "ax2.barh(y_pos,y2, color = 'r')\n",
    "\n",
    "# Set the right side y axis ticks position\n",
    "ax2.set_yticks(y_pos)\n",
    "\n",
    "# Set the right side y axis tick label\n",
    "ax2.set_yticklabels(generation)\n",
    "\n",
    "# Set title\n",
    "ax.set_title('Keywords Trends by Generation')"
   ]
  },
  {
   "cell_type": "markdown",
   "metadata": {},
   "source": [
    "We can see that the number of the keywords appeared changes from 16 to 347 by generation, and it is resonable since the trend is consistent with the number of movie released.\n",
    "\n",
    "\n",
    "#### Question 3: Genres Trends by Generation\n",
    "Use the same procedure as Question 2, first use the find_top_few to find out the most appeared genres, then combine this result to a new dataframe."
   ]
  },
  {
   "cell_type": "code",
   "execution_count": 75,
   "metadata": {},
   "outputs": [
    {
     "data": {
      "text/html": [
       "<div>\n",
       "<style scoped>\n",
       "    .dataframe tbody tr th:only-of-type {\n",
       "        vertical-align: middle;\n",
       "    }\n",
       "\n",
       "    .dataframe tbody tr th {\n",
       "        vertical-align: top;\n",
       "    }\n",
       "\n",
       "    .dataframe thead th {\n",
       "        text-align: right;\n",
       "    }\n",
       "</style>\n",
       "<table border=\"1\" class=\"dataframe\">\n",
       "  <thead>\n",
       "    <tr style=\"text-align: right;\">\n",
       "      <th></th>\n",
       "      <th>year</th>\n",
       "      <th>top</th>\n",
       "    </tr>\n",
       "  </thead>\n",
       "  <tbody>\n",
       "    <tr>\n",
       "      <th>Drama</th>\n",
       "      <td>1960s</td>\n",
       "      <td>167</td>\n",
       "    </tr>\n",
       "    <tr>\n",
       "      <th>Drama</th>\n",
       "      <td>1970s</td>\n",
       "      <td>238</td>\n",
       "    </tr>\n",
       "    <tr>\n",
       "      <th>Comedy</th>\n",
       "      <td>1980s</td>\n",
       "      <td>428</td>\n",
       "    </tr>\n",
       "    <tr>\n",
       "      <th>Drama</th>\n",
       "      <td>1990s</td>\n",
       "      <td>862</td>\n",
       "    </tr>\n",
       "    <tr>\n",
       "      <th>Drama</th>\n",
       "      <td>after2000</td>\n",
       "      <td>3050</td>\n",
       "    </tr>\n",
       "  </tbody>\n",
       "</table>\n",
       "</div>"
      ],
      "text/plain": [
       "             year   top\n",
       "Drama       1960s   167\n",
       "Drama       1970s   238\n",
       "Comedy      1980s   428\n",
       "Drama       1990s   862\n",
       "Drama   after2000  3050"
      ]
     },
     "execution_count": 75,
     "metadata": {},
     "output_type": "execute_result"
    }
   ],
   "source": [
    "# Year list for each generation\n",
    "times = [y1960s, y1970s, y1980s, y1990s, y2000]\n",
    "\n",
    "# Generation names\n",
    "names = ['1960s', '1970s', '1980s', '1990s', 'after2000']\n",
    "\n",
    "# Create an empty dataframe\n",
    "summary = pd.DataFrame()\n",
    "\n",
    "index = 0\n",
    "# For each generation, do the following procedure\n",
    "for year_data in times:\n",
    "    # first filter dataframe with the selected generation, and store it to temporary dataframe\n",
    "    temp_data = data[data.release_year.isin(year_data)] \n",
    "    \n",
    "    # Apply the find_top_few function with the selected frame, using the result create a dataframe, store it to another temporary dataframe\n",
    "    temp_data_2 = pd.DataFrame({'year' :names[index], 'top': find_top_few(temp_data.genres,1)})\n",
    "    \n",
    "    # Append temp_data_2 to summary\n",
    "    summary = summary.append(temp_data_2)\n",
    "    index +=1\n",
    "    \n",
    "summary"
   ]
  },
  {
   "cell_type": "code",
   "execution_count": 76,
   "metadata": {},
   "outputs": [
    {
     "data": {
      "text/plain": [
       "Text(0.5,1,'Genre Trends by Generation')"
      ]
     },
     "execution_count": 76,
     "metadata": {},
     "output_type": "execute_result"
    },
    {
     "data": {
      "image/png": "[encoded data removed]",
      "text/plain": [
       "<Figure size 432x288 with 2 Axes>"
      ]
     },
     "metadata": {},
     "output_type": "display_data"
    }
   ],
   "source": [
    "# Setting the positions\n",
    "generation = ['1960s', '1970s', '1980s', '1990s', 'after2000']\n",
    "\n",
    "genres = summary.index\n",
    "\n",
    "y_pos = np.arange(len(generation))\n",
    "fig, ax = plt.subplots()\n",
    "\n",
    "# Create another axis to present the right-side y axis labels\n",
    "ax2 = ax.twinx()\n",
    "\n",
    "# Setting y1: the genre count\n",
    "y1 = summary.top\n",
    "\n",
    "# Setting y2 again to present the right-side y axis labels\n",
    "y2 = summary.top\n",
    "\n",
    "# Plot the bar\n",
    "ax.barh(y_pos, y1, color = 'r')\n",
    "\n",
    "# Set the left side y axis ticks position\n",
    "ax.set_yticks(y_pos)\n",
    "\n",
    "# Set the left side y axis tick label\n",
    "ax.set_yticklabels(genres)\n",
    "\n",
    "# Set left side y axis label\n",
    "ax.set_ylabel('Genres')\n",
    "\n",
    "\n",
    "\n",
    "# Set right side y axis label\n",
    "ax2.set_ylabel('Generation')\n",
    "\n",
    "# Plot the bar\n",
    "ax2.barh(y_pos,y2, color = 'y')\n",
    "\n",
    "# Set the right side y axis ticks position\n",
    "ax2.set_yticks(y_pos)\n",
    "\n",
    "# Set the right side y axis tick label\n",
    "ax2.set_yticklabels(generation)\n",
    "\n",
    "\n",
    "# Set title\n",
    "ax.set_title('Genre Trends by Generation')# Setting the positions"
   ]
  },
  {
   "cell_type": "markdown",
   "metadata": {},
   "source": [
    "We can see that the genre Drama are the most filmed in almost all generations. Only the 1980s are dominated by the comedy genre.\n",
    "\n",
    "### Research 3:  Explore Summary\n",
    "The number of movies released have been increasing year by year. And the it is in the accelerated growth trend.\n",
    "\n",
    "In 1960s and 1970s, the top keywords was based on novel, which means movies with the keyword based on novel are released most.\n",
    "In 1980s, the top keyword was nudity. In 1990s, independent film became the top keyword. And after 2000, the movies featuring woman director were released most.\n",
    "\n",
    "The genre Drama are the most filmed in almost all generations. Only the 1980s are dominated by the comedy genre.\n",
    "\n",
    "## Conclusions\n",
    "The goal in the research is primary to explore three parts of questions:\n",
    "\n",
    "#### Part one: General Exploration\n",
    "\n",
    "At part one, some general questions were explored. Movie popularity trend has been growing from 1960. Movies with higher revenue level are directly proportional with higher popularity based on recent five years data. Besides, movies with higher revenue level don't have the significant high score rating in recent five years.\n",
    "\n",
    "\n",
    "#### Part two: Find the Attributes associated with Successful Movies\n",
    "\n",
    "Attributes like cast, genre, production, keywords etc., that are associated with high popularity movies are analysed in terms of different high budget categories and run time categories. It is found that attributes associated with high popularity movies are higher budget levels and longer run time. Cast associated with high popularity movies is Robin Williams, Director associated with high popularity movies is Steven Soderbergh, Genres, Keywords & Producers associated with high popularity movies are no different than that of unpopular movies.\n",
    "\n",
    "Both runtime and budget didn't have obvious differences in high rating score. Low budget may have a higher rating or vice versa. \n",
    "\n",
    "It is found that the attributes that are associated with high voting averages are almost similar to the attributes that are associated with highly popular movies\n",
    "\n",
    "#### Part three: Top Keywords and Genres Trends by Generation\n",
    "\n",
    "It is observed that the number of movies released have been increasing year by year and that it is in the accelerated growth trend. In 1960s and 1970s, the top keywords were based on novel. In 1980s, the top keyword was nudity. In 1990s, independent film became the top keyword. And after 2000, the movies featuring woman director were released most.\n",
    "\n",
    "The genre Drama are the most filmed in almost all generations. Only the 1980s were dominated by the comedy genre.\n",
    "\n",
    "There is a lot of interesting information present in the dataset which can be explored in myriad of ways, some of which might provide some conclusive results.\n",
    "\n",
    "#### Limitations\n",
    "Data quality: It started with an assumption that zero values in revenue and budget column are missing. Zero valued revenue and budget data couldn't be deleted as it comprises more than 50% data. Some outliers have been found. As the popularity doesn't have an upperbound, it actually have the high probability of having outliers. \n",
    "\n",
    "###### First research\n",
    "The distribution of popularity in different revenue levels in recent five years were analysed but the revenue levels were categorized based on their quantile. Whole revenue distributin is not calculated, so there may exist risks that the high revenue level still covers a wide of range, and may affect the final result. Analysis is provided based on data in the recent five years, while other years there could be different distributions.\n",
    "\n",
    "###### Second research \n",
    "The attributes have been associated with successful (popularity & vote_averages) movies. Attributes of high revenue are not calcuated as it is assumed that high revenue levels are with higher popularity which is found in research one. There can be several other factors that would have been resulted in high revenue movies.\n",
    "\n",
    "Budget levels and runtime level properties were also analyzed, again, limiting the data to quantile data and not year by year. The keywords data was split into independent words and was counted. There could also be another analysis while keeping the combination of the keywords as it is and comparing accross the most successful and least successful. For example, a director might be good at particular combination of keywords and that would have provided more insight. Number of votes are not considered, so the rating score may be a biased."
   ]
  },
  {
   "cell_type": "code",
   "execution_count": 77,
   "metadata": {},
   "outputs": [
    {
     "data": {
      "text/plain": [
       "0"
      ]
     },
     "execution_count": 77,
     "metadata": {},
     "output_type": "execute_result"
    }
   ],
   "source": [
    "from subprocess import call\n",
    "call(['python', '-m', 'nbconvert', 'investigate-tmdb-movie-dataset.ipynb'])"
   ]
  },
  {
   "cell_type": "code",
   "execution_count": null,
   "metadata": {},
   "outputs": [],
   "source": []
  }
 ],
 "metadata": {
  "kernelspec": {
   "display_name": "Python 3",
   "language": "python",
   "name": "python3"
  },
  "language_info": {
   "codemirror_mode": {
    "name": "ipython",
    "version": 3
   },
   "file_extension": ".py",
   "mimetype": "text/x-python",
   "name": "python",
   "nbconvert_exporter": "python",
   "pygments_lexer": "ipython3",
   "version": "3.7.0"
  }
 },
 "nbformat": 4,
 "nbformat_minor": 2
}
